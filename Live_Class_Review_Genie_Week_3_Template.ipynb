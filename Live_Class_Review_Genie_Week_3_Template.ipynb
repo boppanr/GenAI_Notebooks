{
  "cells": [
    {
      "cell_type": "markdown",
      "metadata": {
        "id": "H-4-WGj1DRJ6"
      },
      "source": [
        "# Review Genie - Week 3\n",
        "\n",
        "## What did we do in Week 1 and 2 ?\n",
        "\n",
        "- Understood the overall business problem\n",
        "- Identified the key milestones\n",
        "- Understood the basics of Generative AI like RAG, Vector Stores, etc\n",
        "- Built a basic conversational chatbot that responds to our queries like basic recommendations\n",
        "- Understand AI agents\n",
        "- Create agent with different tools such as an amazon search tool and a tavily Google search tool\n",
        "- Enhance the features of the bot using agents\n",
        "\n",
        "## What's next?\n",
        "\n",
        "- Estimating the cost of embeddings\n",
        "- Building a persistent vector store using FAISS for faster loading of embeddings\n",
        "- Estimating the cost of each search.\n",
        "- Adding memory and multi-turn capabilities"
      ]
    },
    {
      "cell_type": "markdown",
      "metadata": {
        "id": "8oKAdCDqEYrl"
      },
      "source": [
        "#### RUN THE FOLLOWING CODE & CONTINUE WITH THE NEXT SECTION\n",
        "\n",
        "NOTE: THE FOLLOWING CODE BLOCK WAS COVERED IN THE PREVIOUS CLASSES. (same code used in the previous class)\n"
      ]
    },
    {
      "cell_type": "code",
      "execution_count": null,
      "metadata": {
        "colab": {
          "base_uri": "https://localhost:8080/"
        },
        "collapsed": true,
        "id": "QOtShUvLaVFI",
        "outputId": "9256a109-7035-4716-c5cf-067bd3d90c91"
      },
      "outputs": [
        {
          "output_type": "stream",
          "name": "stdout",
          "text": [
            "Collecting langchainhub\n",
            "  Downloading langchainhub-0.1.21-py3-none-any.whl.metadata (659 bytes)\n",
            "Requirement already satisfied: packaging<25,>=23.2 in /usr/local/lib/python3.11/dist-packages (from langchainhub) (24.2)\n",
            "Requirement already satisfied: requests<3,>=2 in /usr/local/lib/python3.11/dist-packages (from langchainhub) (2.32.3)\n",
            "Collecting types-requests<3.0.0.0,>=2.31.0.2 (from langchainhub)\n",
            "  Downloading types_requests-2.32.0.20241016-py3-none-any.whl.metadata (1.9 kB)\n",
            "Requirement already satisfied: charset-normalizer<4,>=2 in /usr/local/lib/python3.11/dist-packages (from requests<3,>=2->langchainhub) (3.4.1)\n",
            "Requirement already satisfied: idna<4,>=2.5 in /usr/local/lib/python3.11/dist-packages (from requests<3,>=2->langchainhub) (3.10)\n",
            "Requirement already satisfied: urllib3<3,>=1.21.1 in /usr/local/lib/python3.11/dist-packages (from requests<3,>=2->langchainhub) (2.3.0)\n",
            "Requirement already satisfied: certifi>=2017.4.17 in /usr/local/lib/python3.11/dist-packages (from requests<3,>=2->langchainhub) (2025.1.31)\n",
            "Downloading langchainhub-0.1.21-py3-none-any.whl (5.2 kB)\n",
            "Downloading types_requests-2.32.0.20241016-py3-none-any.whl (15 kB)\n",
            "Installing collected packages: types-requests, langchainhub\n",
            "Successfully installed langchainhub-0.1.21 types-requests-2.32.0.20241016\n",
            "Collecting langchain-openai\n",
            "  Downloading langchain_openai-0.3.4-py3-none-any.whl.metadata (2.3 kB)\n",
            "Collecting langchain-core<1.0.0,>=0.3.34 (from langchain-openai)\n",
            "  Downloading langchain_core-0.3.34-py3-none-any.whl.metadata (5.9 kB)\n",
            "Requirement already satisfied: openai<2.0.0,>=1.58.1 in /usr/local/lib/python3.11/dist-packages (from langchain-openai) (1.61.1)\n",
            "Collecting tiktoken<1,>=0.7 (from langchain-openai)\n",
            "  Downloading tiktoken-0.8.0-cp311-cp311-manylinux_2_17_x86_64.manylinux2014_x86_64.whl.metadata (6.6 kB)\n",
            "Requirement already satisfied: langsmith<0.4,>=0.1.125 in /usr/local/lib/python3.11/dist-packages (from langchain-core<1.0.0,>=0.3.34->langchain-openai) (0.3.5)\n",
            "Requirement already satisfied: tenacity!=8.4.0,<10.0.0,>=8.1.0 in /usr/local/lib/python3.11/dist-packages (from langchain-core<1.0.0,>=0.3.34->langchain-openai) (9.0.0)\n",
            "Requirement already satisfied: jsonpatch<2.0,>=1.33 in /usr/local/lib/python3.11/dist-packages (from langchain-core<1.0.0,>=0.3.34->langchain-openai) (1.33)\n",
            "Requirement already satisfied: PyYAML>=5.3 in /usr/local/lib/python3.11/dist-packages (from langchain-core<1.0.0,>=0.3.34->langchain-openai) (6.0.2)\n",
            "Requirement already satisfied: packaging<25,>=23.2 in /usr/local/lib/python3.11/dist-packages (from langchain-core<1.0.0,>=0.3.34->langchain-openai) (24.2)\n",
            "Requirement already satisfied: typing-extensions>=4.7 in /usr/local/lib/python3.11/dist-packages (from langchain-core<1.0.0,>=0.3.34->langchain-openai) (4.12.2)\n",
            "Requirement already satisfied: pydantic<3.0.0,>=2.5.2 in /usr/local/lib/python3.11/dist-packages (from langchain-core<1.0.0,>=0.3.34->langchain-openai) (2.10.6)\n",
            "Requirement already satisfied: anyio<5,>=3.5.0 in /usr/local/lib/python3.11/dist-packages (from openai<2.0.0,>=1.58.1->langchain-openai) (3.7.1)\n",
            "Requirement already satisfied: distro<2,>=1.7.0 in /usr/local/lib/python3.11/dist-packages (from openai<2.0.0,>=1.58.1->langchain-openai) (1.9.0)\n",
            "Requirement already satisfied: httpx<1,>=0.23.0 in /usr/local/lib/python3.11/dist-packages (from openai<2.0.0,>=1.58.1->langchain-openai) (0.28.1)\n",
            "Requirement already satisfied: jiter<1,>=0.4.0 in /usr/local/lib/python3.11/dist-packages (from openai<2.0.0,>=1.58.1->langchain-openai) (0.8.2)\n",
            "Requirement already satisfied: sniffio in /usr/local/lib/python3.11/dist-packages (from openai<2.0.0,>=1.58.1->langchain-openai) (1.3.1)\n",
            "Requirement already satisfied: tqdm>4 in /usr/local/lib/python3.11/dist-packages (from openai<2.0.0,>=1.58.1->langchain-openai) (4.67.1)\n",
            "Requirement already satisfied: regex>=2022.1.18 in /usr/local/lib/python3.11/dist-packages (from tiktoken<1,>=0.7->langchain-openai) (2024.11.6)\n",
            "Requirement already satisfied: requests>=2.26.0 in /usr/local/lib/python3.11/dist-packages (from tiktoken<1,>=0.7->langchain-openai) (2.32.3)\n",
            "Requirement already satisfied: idna>=2.8 in /usr/local/lib/python3.11/dist-packages (from anyio<5,>=3.5.0->openai<2.0.0,>=1.58.1->langchain-openai) (3.10)\n",
            "Requirement already satisfied: certifi in /usr/local/lib/python3.11/dist-packages (from httpx<1,>=0.23.0->openai<2.0.0,>=1.58.1->langchain-openai) (2025.1.31)\n",
            "Requirement already satisfied: httpcore==1.* in /usr/local/lib/python3.11/dist-packages (from httpx<1,>=0.23.0->openai<2.0.0,>=1.58.1->langchain-openai) (1.0.7)\n",
            "Requirement already satisfied: h11<0.15,>=0.13 in /usr/local/lib/python3.11/dist-packages (from httpcore==1.*->httpx<1,>=0.23.0->openai<2.0.0,>=1.58.1->langchain-openai) (0.14.0)\n",
            "Requirement already satisfied: jsonpointer>=1.9 in /usr/local/lib/python3.11/dist-packages (from jsonpatch<2.0,>=1.33->langchain-core<1.0.0,>=0.3.34->langchain-openai) (3.0.0)\n",
            "Requirement already satisfied: orjson<4.0.0,>=3.9.14 in /usr/local/lib/python3.11/dist-packages (from langsmith<0.4,>=0.1.125->langchain-core<1.0.0,>=0.3.34->langchain-openai) (3.10.15)\n",
            "Requirement already satisfied: requests-toolbelt<2.0.0,>=1.0.0 in /usr/local/lib/python3.11/dist-packages (from langsmith<0.4,>=0.1.125->langchain-core<1.0.0,>=0.3.34->langchain-openai) (1.0.0)\n",
            "Requirement already satisfied: zstandard<0.24.0,>=0.23.0 in /usr/local/lib/python3.11/dist-packages (from langsmith<0.4,>=0.1.125->langchain-core<1.0.0,>=0.3.34->langchain-openai) (0.23.0)\n",
            "Requirement already satisfied: annotated-types>=0.6.0 in /usr/local/lib/python3.11/dist-packages (from pydantic<3.0.0,>=2.5.2->langchain-core<1.0.0,>=0.3.34->langchain-openai) (0.7.0)\n",
            "Requirement already satisfied: pydantic-core==2.27.2 in /usr/local/lib/python3.11/dist-packages (from pydantic<3.0.0,>=2.5.2->langchain-core<1.0.0,>=0.3.34->langchain-openai) (2.27.2)\n",
            "Requirement already satisfied: charset-normalizer<4,>=2 in /usr/local/lib/python3.11/dist-packages (from requests>=2.26.0->tiktoken<1,>=0.7->langchain-openai) (3.4.1)\n",
            "Requirement already satisfied: urllib3<3,>=1.21.1 in /usr/local/lib/python3.11/dist-packages (from requests>=2.26.0->tiktoken<1,>=0.7->langchain-openai) (2.3.0)\n",
            "Downloading langchain_openai-0.3.4-py3-none-any.whl (54 kB)\n",
            "\u001b[2K   \u001b[90m━━━━━━━━━━━━━━━━━━━━━━━━━━━━━━━━━━━━━━━━\u001b[0m \u001b[32m54.7/54.7 kB\u001b[0m \u001b[31m1.7 MB/s\u001b[0m eta \u001b[36m0:00:00\u001b[0m\n",
            "\u001b[?25hDownloading langchain_core-0.3.34-py3-none-any.whl (412 kB)\n",
            "\u001b[2K   \u001b[90m━━━━━━━━━━━━━━━━━━━━━━━━━━━━━━━━━━━━━━━━\u001b[0m \u001b[32m413.0/413.0 kB\u001b[0m \u001b[31m18.0 MB/s\u001b[0m eta \u001b[36m0:00:00\u001b[0m\n",
            "\u001b[?25hDownloading tiktoken-0.8.0-cp311-cp311-manylinux_2_17_x86_64.manylinux2014_x86_64.whl (1.2 MB)\n",
            "\u001b[2K   \u001b[90m━━━━━━━━━━━━━━━━━━━━━━━━━━━━━━━━━━━━━━━━\u001b[0m \u001b[32m1.2/1.2 MB\u001b[0m \u001b[31m16.2 MB/s\u001b[0m eta \u001b[36m0:00:00\u001b[0m\n",
            "\u001b[?25hInstalling collected packages: tiktoken, langchain-core, langchain-openai\n",
            "  Attempting uninstall: langchain-core\n",
            "    Found existing installation: langchain-core 0.3.33\n",
            "    Uninstalling langchain-core-0.3.33:\n",
            "      Successfully uninstalled langchain-core-0.3.33\n",
            "Successfully installed langchain-core-0.3.34 langchain-openai-0.3.4 tiktoken-0.8.0\n",
            "Requirement already satisfied: langchain in /usr/local/lib/python3.11/dist-packages (0.3.17)\n",
            "Requirement already satisfied: PyYAML>=5.3 in /usr/local/lib/python3.11/dist-packages (from langchain) (6.0.2)\n",
            "Requirement already satisfied: SQLAlchemy<3,>=1.4 in /usr/local/lib/python3.11/dist-packages (from langchain) (2.0.37)\n",
            "Requirement already satisfied: aiohttp<4.0.0,>=3.8.3 in /usr/local/lib/python3.11/dist-packages (from langchain) (3.11.11)\n",
            "Requirement already satisfied: langchain-core<0.4.0,>=0.3.33 in /usr/local/lib/python3.11/dist-packages (from langchain) (0.3.34)\n",
            "Requirement already satisfied: langchain-text-splitters<0.4.0,>=0.3.3 in /usr/local/lib/python3.11/dist-packages (from langchain) (0.3.5)\n",
            "Requirement already satisfied: langsmith<0.4,>=0.1.17 in /usr/local/lib/python3.11/dist-packages (from langchain) (0.3.5)\n",
            "Requirement already satisfied: numpy<2,>=1.22.4 in /usr/local/lib/python3.11/dist-packages (from langchain) (1.26.4)\n",
            "Requirement already satisfied: pydantic<3.0.0,>=2.7.4 in /usr/local/lib/python3.11/dist-packages (from langchain) (2.10.6)\n",
            "Requirement already satisfied: requests<3,>=2 in /usr/local/lib/python3.11/dist-packages (from langchain) (2.32.3)\n",
            "Requirement already satisfied: tenacity!=8.4.0,<10,>=8.1.0 in /usr/local/lib/python3.11/dist-packages (from langchain) (9.0.0)\n",
            "Requirement already satisfied: aiohappyeyeballs>=2.3.0 in /usr/local/lib/python3.11/dist-packages (from aiohttp<4.0.0,>=3.8.3->langchain) (2.4.4)\n",
            "Requirement already satisfied: aiosignal>=1.1.2 in /usr/local/lib/python3.11/dist-packages (from aiohttp<4.0.0,>=3.8.3->langchain) (1.3.2)\n",
            "Requirement already satisfied: attrs>=17.3.0 in /usr/local/lib/python3.11/dist-packages (from aiohttp<4.0.0,>=3.8.3->langchain) (25.1.0)\n",
            "Requirement already satisfied: frozenlist>=1.1.1 in /usr/local/lib/python3.11/dist-packages (from aiohttp<4.0.0,>=3.8.3->langchain) (1.5.0)\n",
            "Requirement already satisfied: multidict<7.0,>=4.5 in /usr/local/lib/python3.11/dist-packages (from aiohttp<4.0.0,>=3.8.3->langchain) (6.1.0)\n",
            "Requirement already satisfied: propcache>=0.2.0 in /usr/local/lib/python3.11/dist-packages (from aiohttp<4.0.0,>=3.8.3->langchain) (0.2.1)\n",
            "Requirement already satisfied: yarl<2.0,>=1.17.0 in /usr/local/lib/python3.11/dist-packages (from aiohttp<4.0.0,>=3.8.3->langchain) (1.18.3)\n",
            "Requirement already satisfied: jsonpatch<2.0,>=1.33 in /usr/local/lib/python3.11/dist-packages (from langchain-core<0.4.0,>=0.3.33->langchain) (1.33)\n",
            "Requirement already satisfied: packaging<25,>=23.2 in /usr/local/lib/python3.11/dist-packages (from langchain-core<0.4.0,>=0.3.33->langchain) (24.2)\n",
            "Requirement already satisfied: typing-extensions>=4.7 in /usr/local/lib/python3.11/dist-packages (from langchain-core<0.4.0,>=0.3.33->langchain) (4.12.2)\n",
            "Requirement already satisfied: httpx<1,>=0.23.0 in /usr/local/lib/python3.11/dist-packages (from langsmith<0.4,>=0.1.17->langchain) (0.28.1)\n",
            "Requirement already satisfied: orjson<4.0.0,>=3.9.14 in /usr/local/lib/python3.11/dist-packages (from langsmith<0.4,>=0.1.17->langchain) (3.10.15)\n",
            "Requirement already satisfied: requests-toolbelt<2.0.0,>=1.0.0 in /usr/local/lib/python3.11/dist-packages (from langsmith<0.4,>=0.1.17->langchain) (1.0.0)\n",
            "Requirement already satisfied: zstandard<0.24.0,>=0.23.0 in /usr/local/lib/python3.11/dist-packages (from langsmith<0.4,>=0.1.17->langchain) (0.23.0)\n",
            "Requirement already satisfied: annotated-types>=0.6.0 in /usr/local/lib/python3.11/dist-packages (from pydantic<3.0.0,>=2.7.4->langchain) (0.7.0)\n",
            "Requirement already satisfied: pydantic-core==2.27.2 in /usr/local/lib/python3.11/dist-packages (from pydantic<3.0.0,>=2.7.4->langchain) (2.27.2)\n",
            "Requirement already satisfied: charset-normalizer<4,>=2 in /usr/local/lib/python3.11/dist-packages (from requests<3,>=2->langchain) (3.4.1)\n",
            "Requirement already satisfied: idna<4,>=2.5 in /usr/local/lib/python3.11/dist-packages (from requests<3,>=2->langchain) (3.10)\n",
            "Requirement already satisfied: urllib3<3,>=1.21.1 in /usr/local/lib/python3.11/dist-packages (from requests<3,>=2->langchain) (2.3.0)\n",
            "Requirement already satisfied: certifi>=2017.4.17 in /usr/local/lib/python3.11/dist-packages (from requests<3,>=2->langchain) (2025.1.31)\n",
            "Requirement already satisfied: greenlet!=0.4.17 in /usr/local/lib/python3.11/dist-packages (from SQLAlchemy<3,>=1.4->langchain) (3.1.1)\n",
            "Requirement already satisfied: anyio in /usr/local/lib/python3.11/dist-packages (from httpx<1,>=0.23.0->langsmith<0.4,>=0.1.17->langchain) (3.7.1)\n",
            "Requirement already satisfied: httpcore==1.* in /usr/local/lib/python3.11/dist-packages (from httpx<1,>=0.23.0->langsmith<0.4,>=0.1.17->langchain) (1.0.7)\n",
            "Requirement already satisfied: h11<0.15,>=0.13 in /usr/local/lib/python3.11/dist-packages (from httpcore==1.*->httpx<1,>=0.23.0->langsmith<0.4,>=0.1.17->langchain) (0.14.0)\n",
            "Requirement already satisfied: jsonpointer>=1.9 in /usr/local/lib/python3.11/dist-packages (from jsonpatch<2.0,>=1.33->langchain-core<0.4.0,>=0.3.33->langchain) (3.0.0)\n",
            "Requirement already satisfied: sniffio>=1.1 in /usr/local/lib/python3.11/dist-packages (from anyio->httpx<1,>=0.23.0->langsmith<0.4,>=0.1.17->langchain) (1.3.1)\n",
            "Requirement already satisfied: beautifulsoup4 in /usr/local/lib/python3.11/dist-packages (4.13.3)\n",
            "Requirement already satisfied: soupsieve>1.2 in /usr/local/lib/python3.11/dist-packages (from beautifulsoup4) (2.6)\n",
            "Requirement already satisfied: typing-extensions>=4.0.0 in /usr/local/lib/python3.11/dist-packages (from beautifulsoup4) (4.12.2)\n",
            "Collecting langchain-community\n",
            "  Downloading langchain_community-0.3.17-py3-none-any.whl.metadata (2.4 kB)\n",
            "Requirement already satisfied: langchain-core<1.0.0,>=0.3.34 in /usr/local/lib/python3.11/dist-packages (from langchain-community) (0.3.34)\n",
            "Collecting langchain<1.0.0,>=0.3.18 (from langchain-community)\n",
            "  Downloading langchain-0.3.18-py3-none-any.whl.metadata (7.8 kB)\n",
            "Requirement already satisfied: SQLAlchemy<3,>=1.4 in /usr/local/lib/python3.11/dist-packages (from langchain-community) (2.0.37)\n",
            "Requirement already satisfied: requests<3,>=2 in /usr/local/lib/python3.11/dist-packages (from langchain-community) (2.32.3)\n",
            "Requirement already satisfied: PyYAML>=5.3 in /usr/local/lib/python3.11/dist-packages (from langchain-community) (6.0.2)\n",
            "Requirement already satisfied: aiohttp<4.0.0,>=3.8.3 in /usr/local/lib/python3.11/dist-packages (from langchain-community) (3.11.11)\n",
            "Requirement already satisfied: tenacity!=8.4.0,<10,>=8.1.0 in /usr/local/lib/python3.11/dist-packages (from langchain-community) (9.0.0)\n",
            "Collecting dataclasses-json<0.7,>=0.5.7 (from langchain-community)\n",
            "  Downloading dataclasses_json-0.6.7-py3-none-any.whl.metadata (25 kB)\n",
            "Collecting pydantic-settings<3.0.0,>=2.4.0 (from langchain-community)\n",
            "  Downloading pydantic_settings-2.7.1-py3-none-any.whl.metadata (3.5 kB)\n",
            "Requirement already satisfied: langsmith<0.4,>=0.1.125 in /usr/local/lib/python3.11/dist-packages (from langchain-community) (0.3.5)\n",
            "Collecting httpx-sse<1.0.0,>=0.4.0 (from langchain-community)\n",
            "  Downloading httpx_sse-0.4.0-py3-none-any.whl.metadata (9.0 kB)\n",
            "Requirement already satisfied: numpy<2,>=1.26.4 in /usr/local/lib/python3.11/dist-packages (from langchain-community) (1.26.4)\n",
            "Requirement already satisfied: aiohappyeyeballs>=2.3.0 in /usr/local/lib/python3.11/dist-packages (from aiohttp<4.0.0,>=3.8.3->langchain-community) (2.4.4)\n",
            "Requirement already satisfied: aiosignal>=1.1.2 in /usr/local/lib/python3.11/dist-packages (from aiohttp<4.0.0,>=3.8.3->langchain-community) (1.3.2)\n",
            "Requirement already satisfied: attrs>=17.3.0 in /usr/local/lib/python3.11/dist-packages (from aiohttp<4.0.0,>=3.8.3->langchain-community) (25.1.0)\n",
            "Requirement already satisfied: frozenlist>=1.1.1 in /usr/local/lib/python3.11/dist-packages (from aiohttp<4.0.0,>=3.8.3->langchain-community) (1.5.0)\n",
            "Requirement already satisfied: multidict<7.0,>=4.5 in /usr/local/lib/python3.11/dist-packages (from aiohttp<4.0.0,>=3.8.3->langchain-community) (6.1.0)\n",
            "Requirement already satisfied: propcache>=0.2.0 in /usr/local/lib/python3.11/dist-packages (from aiohttp<4.0.0,>=3.8.3->langchain-community) (0.2.1)\n",
            "Requirement already satisfied: yarl<2.0,>=1.17.0 in /usr/local/lib/python3.11/dist-packages (from aiohttp<4.0.0,>=3.8.3->langchain-community) (1.18.3)\n",
            "Collecting marshmallow<4.0.0,>=3.18.0 (from dataclasses-json<0.7,>=0.5.7->langchain-community)\n",
            "  Downloading marshmallow-3.26.1-py3-none-any.whl.metadata (7.3 kB)\n",
            "Collecting typing-inspect<1,>=0.4.0 (from dataclasses-json<0.7,>=0.5.7->langchain-community)\n",
            "  Downloading typing_inspect-0.9.0-py3-none-any.whl.metadata (1.5 kB)\n",
            "Collecting langchain-text-splitters<1.0.0,>=0.3.6 (from langchain<1.0.0,>=0.3.18->langchain-community)\n",
            "  Downloading langchain_text_splitters-0.3.6-py3-none-any.whl.metadata (1.9 kB)\n",
            "Requirement already satisfied: pydantic<3.0.0,>=2.7.4 in /usr/local/lib/python3.11/dist-packages (from langchain<1.0.0,>=0.3.18->langchain-community) (2.10.6)\n",
            "Requirement already satisfied: jsonpatch<2.0,>=1.33 in /usr/local/lib/python3.11/dist-packages (from langchain-core<1.0.0,>=0.3.34->langchain-community) (1.33)\n",
            "Requirement already satisfied: packaging<25,>=23.2 in /usr/local/lib/python3.11/dist-packages (from langchain-core<1.0.0,>=0.3.34->langchain-community) (24.2)\n",
            "Requirement already satisfied: typing-extensions>=4.7 in /usr/local/lib/python3.11/dist-packages (from langchain-core<1.0.0,>=0.3.34->langchain-community) (4.12.2)\n",
            "Requirement already satisfied: httpx<1,>=0.23.0 in /usr/local/lib/python3.11/dist-packages (from langsmith<0.4,>=0.1.125->langchain-community) (0.28.1)\n",
            "Requirement already satisfied: orjson<4.0.0,>=3.9.14 in /usr/local/lib/python3.11/dist-packages (from langsmith<0.4,>=0.1.125->langchain-community) (3.10.15)\n",
            "Requirement already satisfied: requests-toolbelt<2.0.0,>=1.0.0 in /usr/local/lib/python3.11/dist-packages (from langsmith<0.4,>=0.1.125->langchain-community) (1.0.0)\n",
            "Requirement already satisfied: zstandard<0.24.0,>=0.23.0 in /usr/local/lib/python3.11/dist-packages (from langsmith<0.4,>=0.1.125->langchain-community) (0.23.0)\n",
            "Collecting python-dotenv>=0.21.0 (from pydantic-settings<3.0.0,>=2.4.0->langchain-community)\n",
            "  Downloading python_dotenv-1.0.1-py3-none-any.whl.metadata (23 kB)\n",
            "Requirement already satisfied: charset-normalizer<4,>=2 in /usr/local/lib/python3.11/dist-packages (from requests<3,>=2->langchain-community) (3.4.1)\n",
            "Requirement already satisfied: idna<4,>=2.5 in /usr/local/lib/python3.11/dist-packages (from requests<3,>=2->langchain-community) (3.10)\n",
            "Requirement already satisfied: urllib3<3,>=1.21.1 in /usr/local/lib/python3.11/dist-packages (from requests<3,>=2->langchain-community) (2.3.0)\n",
            "Requirement already satisfied: certifi>=2017.4.17 in /usr/local/lib/python3.11/dist-packages (from requests<3,>=2->langchain-community) (2025.1.31)\n",
            "Requirement already satisfied: greenlet!=0.4.17 in /usr/local/lib/python3.11/dist-packages (from SQLAlchemy<3,>=1.4->langchain-community) (3.1.1)\n",
            "Requirement already satisfied: anyio in /usr/local/lib/python3.11/dist-packages (from httpx<1,>=0.23.0->langsmith<0.4,>=0.1.125->langchain-community) (3.7.1)\n",
            "Requirement already satisfied: httpcore==1.* in /usr/local/lib/python3.11/dist-packages (from httpx<1,>=0.23.0->langsmith<0.4,>=0.1.125->langchain-community) (1.0.7)\n",
            "Requirement already satisfied: h11<0.15,>=0.13 in /usr/local/lib/python3.11/dist-packages (from httpcore==1.*->httpx<1,>=0.23.0->langsmith<0.4,>=0.1.125->langchain-community) (0.14.0)\n",
            "Requirement already satisfied: jsonpointer>=1.9 in /usr/local/lib/python3.11/dist-packages (from jsonpatch<2.0,>=1.33->langchain-core<1.0.0,>=0.3.34->langchain-community) (3.0.0)\n",
            "Requirement already satisfied: annotated-types>=0.6.0 in /usr/local/lib/python3.11/dist-packages (from pydantic<3.0.0,>=2.7.4->langchain<1.0.0,>=0.3.18->langchain-community) (0.7.0)\n",
            "Requirement already satisfied: pydantic-core==2.27.2 in /usr/local/lib/python3.11/dist-packages (from pydantic<3.0.0,>=2.7.4->langchain<1.0.0,>=0.3.18->langchain-community) (2.27.2)\n",
            "Collecting mypy-extensions>=0.3.0 (from typing-inspect<1,>=0.4.0->dataclasses-json<0.7,>=0.5.7->langchain-community)\n",
            "  Downloading mypy_extensions-1.0.0-py3-none-any.whl.metadata (1.1 kB)\n",
            "Requirement already satisfied: sniffio>=1.1 in /usr/local/lib/python3.11/dist-packages (from anyio->httpx<1,>=0.23.0->langsmith<0.4,>=0.1.125->langchain-community) (1.3.1)\n",
            "Downloading langchain_community-0.3.17-py3-none-any.whl (2.5 MB)\n",
            "\u001b[2K   \u001b[90m━━━━━━━━━━━━━━━━━━━━━━━━━━━━━━━━━━━━━━━━\u001b[0m \u001b[32m2.5/2.5 MB\u001b[0m \u001b[31m77.8 MB/s\u001b[0m eta \u001b[36m0:00:00\u001b[0m\n",
            "\u001b[?25hDownloading dataclasses_json-0.6.7-py3-none-any.whl (28 kB)\n",
            "Downloading httpx_sse-0.4.0-py3-none-any.whl (7.8 kB)\n",
            "Downloading langchain-0.3.18-py3-none-any.whl (1.0 MB)\n",
            "\u001b[2K   \u001b[90m━━━━━━━━━━━━━━━━━━━━━━━━━━━━━━━━━━━━━━━━\u001b[0m \u001b[32m1.0/1.0 MB\u001b[0m \u001b[31m37.3 MB/s\u001b[0m eta \u001b[36m0:00:00\u001b[0m\n",
            "\u001b[?25hDownloading pydantic_settings-2.7.1-py3-none-any.whl (29 kB)\n",
            "Downloading langchain_text_splitters-0.3.6-py3-none-any.whl (31 kB)\n",
            "Downloading marshmallow-3.26.1-py3-none-any.whl (50 kB)\n",
            "\u001b[2K   \u001b[90m━━━━━━━━━━━━━━━━━━━━━━━━━━━━━━━━━━━━━━━━\u001b[0m \u001b[32m50.9/50.9 kB\u001b[0m \u001b[31m3.5 MB/s\u001b[0m eta \u001b[36m0:00:00\u001b[0m\n",
            "\u001b[?25hDownloading python_dotenv-1.0.1-py3-none-any.whl (19 kB)\n",
            "Downloading typing_inspect-0.9.0-py3-none-any.whl (8.8 kB)\n",
            "Downloading mypy_extensions-1.0.0-py3-none-any.whl (4.7 kB)\n",
            "Installing collected packages: python-dotenv, mypy-extensions, marshmallow, httpx-sse, typing-inspect, pydantic-settings, dataclasses-json, langchain-text-splitters, langchain, langchain-community\n",
            "  Attempting uninstall: langchain-text-splitters\n",
            "    Found existing installation: langchain-text-splitters 0.3.5\n",
            "    Uninstalling langchain-text-splitters-0.3.5:\n",
            "      Successfully uninstalled langchain-text-splitters-0.3.5\n",
            "  Attempting uninstall: langchain\n",
            "    Found existing installation: langchain 0.3.17\n",
            "    Uninstalling langchain-0.3.17:\n",
            "      Successfully uninstalled langchain-0.3.17\n",
            "Successfully installed dataclasses-json-0.6.7 httpx-sse-0.4.0 langchain-0.3.18 langchain-community-0.3.17 langchain-text-splitters-0.3.6 marshmallow-3.26.1 mypy-extensions-1.0.0 pydantic-settings-2.7.1 python-dotenv-1.0.1 typing-inspect-0.9.0\n",
            "Collecting faiss-cpu\n",
            "  Downloading faiss_cpu-1.10.0-cp311-cp311-manylinux_2_28_x86_64.whl.metadata (4.4 kB)\n",
            "Requirement already satisfied: numpy<3.0,>=1.25.0 in /usr/local/lib/python3.11/dist-packages (from faiss-cpu) (1.26.4)\n",
            "Requirement already satisfied: packaging in /usr/local/lib/python3.11/dist-packages (from faiss-cpu) (24.2)\n",
            "Downloading faiss_cpu-1.10.0-cp311-cp311-manylinux_2_28_x86_64.whl (30.7 MB)\n",
            "\u001b[2K   \u001b[90m━━━━━━━━━━━━━━━━━━━━━━━━━━━━━━━━━━━━━━━━\u001b[0m \u001b[32m30.7/30.7 MB\u001b[0m \u001b[31m41.9 MB/s\u001b[0m eta \u001b[36m0:00:00\u001b[0m\n",
            "\u001b[?25hInstalling collected packages: faiss-cpu\n",
            "Successfully installed faiss-cpu-1.10.0\n",
            "Requirement already satisfied: langchain-community in /usr/local/lib/python3.11/dist-packages (0.3.17)\n",
            "Collecting tavily-python\n",
            "  Downloading tavily_python-0.5.1-py3-none-any.whl.metadata (91 kB)\n",
            "\u001b[2K     \u001b[90m━━━━━━━━━━━━━━━━━━━━━━━━━━━━━━━━━━━━━━━━\u001b[0m \u001b[32m91.0/91.0 kB\u001b[0m \u001b[31m8.0 MB/s\u001b[0m eta \u001b[36m0:00:00\u001b[0m\n",
            "\u001b[?25hRequirement already satisfied: langchain-core<1.0.0,>=0.3.34 in /usr/local/lib/python3.11/dist-packages (from langchain-community) (0.3.34)\n",
            "Requirement already satisfied: langchain<1.0.0,>=0.3.18 in /usr/local/lib/python3.11/dist-packages (from langchain-community) (0.3.18)\n",
            "Requirement already satisfied: SQLAlchemy<3,>=1.4 in /usr/local/lib/python3.11/dist-packages (from langchain-community) (2.0.37)\n",
            "Requirement already satisfied: requests<3,>=2 in /usr/local/lib/python3.11/dist-packages (from langchain-community) (2.32.3)\n",
            "Requirement already satisfied: PyYAML>=5.3 in /usr/local/lib/python3.11/dist-packages (from langchain-community) (6.0.2)\n",
            "Requirement already satisfied: aiohttp<4.0.0,>=3.8.3 in /usr/local/lib/python3.11/dist-packages (from langchain-community) (3.11.11)\n",
            "Requirement already satisfied: tenacity!=8.4.0,<10,>=8.1.0 in /usr/local/lib/python3.11/dist-packages (from langchain-community) (9.0.0)\n",
            "Requirement already satisfied: dataclasses-json<0.7,>=0.5.7 in /usr/local/lib/python3.11/dist-packages (from langchain-community) (0.6.7)\n",
            "Requirement already satisfied: pydantic-settings<3.0.0,>=2.4.0 in /usr/local/lib/python3.11/dist-packages (from langchain-community) (2.7.1)\n",
            "Requirement already satisfied: langsmith<0.4,>=0.1.125 in /usr/local/lib/python3.11/dist-packages (from langchain-community) (0.3.5)\n",
            "Requirement already satisfied: httpx-sse<1.0.0,>=0.4.0 in /usr/local/lib/python3.11/dist-packages (from langchain-community) (0.4.0)\n",
            "Requirement already satisfied: numpy<2,>=1.26.4 in /usr/local/lib/python3.11/dist-packages (from langchain-community) (1.26.4)\n",
            "Requirement already satisfied: tiktoken>=0.5.1 in /usr/local/lib/python3.11/dist-packages (from tavily-python) (0.8.0)\n",
            "Requirement already satisfied: httpx in /usr/local/lib/python3.11/dist-packages (from tavily-python) (0.28.1)\n",
            "Requirement already satisfied: aiohappyeyeballs>=2.3.0 in /usr/local/lib/python3.11/dist-packages (from aiohttp<4.0.0,>=3.8.3->langchain-community) (2.4.4)\n",
            "Requirement already satisfied: aiosignal>=1.1.2 in /usr/local/lib/python3.11/dist-packages (from aiohttp<4.0.0,>=3.8.3->langchain-community) (1.3.2)\n",
            "Requirement already satisfied: attrs>=17.3.0 in /usr/local/lib/python3.11/dist-packages (from aiohttp<4.0.0,>=3.8.3->langchain-community) (25.1.0)\n",
            "Requirement already satisfied: frozenlist>=1.1.1 in /usr/local/lib/python3.11/dist-packages (from aiohttp<4.0.0,>=3.8.3->langchain-community) (1.5.0)\n",
            "Requirement already satisfied: multidict<7.0,>=4.5 in /usr/local/lib/python3.11/dist-packages (from aiohttp<4.0.0,>=3.8.3->langchain-community) (6.1.0)\n",
            "Requirement already satisfied: propcache>=0.2.0 in /usr/local/lib/python3.11/dist-packages (from aiohttp<4.0.0,>=3.8.3->langchain-community) (0.2.1)\n",
            "Requirement already satisfied: yarl<2.0,>=1.17.0 in /usr/local/lib/python3.11/dist-packages (from aiohttp<4.0.0,>=3.8.3->langchain-community) (1.18.3)\n",
            "Requirement already satisfied: marshmallow<4.0.0,>=3.18.0 in /usr/local/lib/python3.11/dist-packages (from dataclasses-json<0.7,>=0.5.7->langchain-community) (3.26.1)\n",
            "Requirement already satisfied: typing-inspect<1,>=0.4.0 in /usr/local/lib/python3.11/dist-packages (from dataclasses-json<0.7,>=0.5.7->langchain-community) (0.9.0)\n",
            "Requirement already satisfied: langchain-text-splitters<1.0.0,>=0.3.6 in /usr/local/lib/python3.11/dist-packages (from langchain<1.0.0,>=0.3.18->langchain-community) (0.3.6)\n",
            "Requirement already satisfied: pydantic<3.0.0,>=2.7.4 in /usr/local/lib/python3.11/dist-packages (from langchain<1.0.0,>=0.3.18->langchain-community) (2.10.6)\n",
            "Requirement already satisfied: jsonpatch<2.0,>=1.33 in /usr/local/lib/python3.11/dist-packages (from langchain-core<1.0.0,>=0.3.34->langchain-community) (1.33)\n",
            "Requirement already satisfied: packaging<25,>=23.2 in /usr/local/lib/python3.11/dist-packages (from langchain-core<1.0.0,>=0.3.34->langchain-community) (24.2)\n",
            "Requirement already satisfied: typing-extensions>=4.7 in /usr/local/lib/python3.11/dist-packages (from langchain-core<1.0.0,>=0.3.34->langchain-community) (4.12.2)\n",
            "Requirement already satisfied: orjson<4.0.0,>=3.9.14 in /usr/local/lib/python3.11/dist-packages (from langsmith<0.4,>=0.1.125->langchain-community) (3.10.15)\n",
            "Requirement already satisfied: requests-toolbelt<2.0.0,>=1.0.0 in /usr/local/lib/python3.11/dist-packages (from langsmith<0.4,>=0.1.125->langchain-community) (1.0.0)\n",
            "Requirement already satisfied: zstandard<0.24.0,>=0.23.0 in /usr/local/lib/python3.11/dist-packages (from langsmith<0.4,>=0.1.125->langchain-community) (0.23.0)\n",
            "Requirement already satisfied: anyio in /usr/local/lib/python3.11/dist-packages (from httpx->tavily-python) (3.7.1)\n",
            "Requirement already satisfied: certifi in /usr/local/lib/python3.11/dist-packages (from httpx->tavily-python) (2025.1.31)\n",
            "Requirement already satisfied: httpcore==1.* in /usr/local/lib/python3.11/dist-packages (from httpx->tavily-python) (1.0.7)\n",
            "Requirement already satisfied: idna in /usr/local/lib/python3.11/dist-packages (from httpx->tavily-python) (3.10)\n",
            "Requirement already satisfied: h11<0.15,>=0.13 in /usr/local/lib/python3.11/dist-packages (from httpcore==1.*->httpx->tavily-python) (0.14.0)\n",
            "Requirement already satisfied: python-dotenv>=0.21.0 in /usr/local/lib/python3.11/dist-packages (from pydantic-settings<3.0.0,>=2.4.0->langchain-community) (1.0.1)\n",
            "Requirement already satisfied: charset-normalizer<4,>=2 in /usr/local/lib/python3.11/dist-packages (from requests<3,>=2->langchain-community) (3.4.1)\n",
            "Requirement already satisfied: urllib3<3,>=1.21.1 in /usr/local/lib/python3.11/dist-packages (from requests<3,>=2->langchain-community) (2.3.0)\n",
            "Requirement already satisfied: greenlet!=0.4.17 in /usr/local/lib/python3.11/dist-packages (from SQLAlchemy<3,>=1.4->langchain-community) (3.1.1)\n",
            "Requirement already satisfied: regex>=2022.1.18 in /usr/local/lib/python3.11/dist-packages (from tiktoken>=0.5.1->tavily-python) (2024.11.6)\n",
            "Requirement already satisfied: jsonpointer>=1.9 in /usr/local/lib/python3.11/dist-packages (from jsonpatch<2.0,>=1.33->langchain-core<1.0.0,>=0.3.34->langchain-community) (3.0.0)\n",
            "Requirement already satisfied: annotated-types>=0.6.0 in /usr/local/lib/python3.11/dist-packages (from pydantic<3.0.0,>=2.7.4->langchain<1.0.0,>=0.3.18->langchain-community) (0.7.0)\n",
            "Requirement already satisfied: pydantic-core==2.27.2 in /usr/local/lib/python3.11/dist-packages (from pydantic<3.0.0,>=2.7.4->langchain<1.0.0,>=0.3.18->langchain-community) (2.27.2)\n",
            "Requirement already satisfied: mypy-extensions>=0.3.0 in /usr/local/lib/python3.11/dist-packages (from typing-inspect<1,>=0.4.0->dataclasses-json<0.7,>=0.5.7->langchain-community) (1.0.0)\n",
            "Requirement already satisfied: sniffio>=1.1 in /usr/local/lib/python3.11/dist-packages (from anyio->httpx->tavily-python) (1.3.1)\n",
            "Downloading tavily_python-0.5.1-py3-none-any.whl (43 kB)\n",
            "\u001b[2K   \u001b[90m━━━━━━━━━━━━━━━━━━━━━━━━━━━━━━━━━━━━━━━━\u001b[0m \u001b[32m43.8/43.8 kB\u001b[0m \u001b[31m3.4 MB/s\u001b[0m eta \u001b[36m0:00:00\u001b[0m\n",
            "\u001b[?25hInstalling collected packages: tavily-python\n",
            "Successfully installed tavily-python-0.5.1\n",
            "ERROR: unknown command \"gradio_client\"\n",
            "Collecting gradio\n",
            "  Downloading gradio-5.15.0-py3-none-any.whl.metadata (16 kB)\n",
            "Collecting aiofiles<24.0,>=22.0 (from gradio)\n",
            "  Downloading aiofiles-23.2.1-py3-none-any.whl.metadata (9.7 kB)\n",
            "Requirement already satisfied: anyio<5.0,>=3.0 in /usr/local/lib/python3.11/dist-packages (from gradio) (3.7.1)\n",
            "Collecting fastapi<1.0,>=0.115.2 (from gradio)\n",
            "  Downloading fastapi-0.115.8-py3-none-any.whl.metadata (27 kB)\n",
            "Collecting ffmpy (from gradio)\n",
            "  Downloading ffmpy-0.5.0-py3-none-any.whl.metadata (3.0 kB)\n",
            "Collecting gradio-client==1.7.0 (from gradio)\n",
            "  Downloading gradio_client-1.7.0-py3-none-any.whl.metadata (7.1 kB)\n",
            "Requirement already satisfied: httpx>=0.24.1 in /usr/local/lib/python3.11/dist-packages (from gradio) (0.28.1)\n",
            "Requirement already satisfied: huggingface-hub>=0.28.1 in /usr/local/lib/python3.11/dist-packages (from gradio) (0.28.1)\n",
            "Requirement already satisfied: jinja2<4.0 in /usr/local/lib/python3.11/dist-packages (from gradio) (3.1.5)\n",
            "Collecting markupsafe~=2.0 (from gradio)\n",
            "  Downloading MarkupSafe-2.1.5-cp311-cp311-manylinux_2_17_x86_64.manylinux2014_x86_64.whl.metadata (3.0 kB)\n",
            "Requirement already satisfied: numpy<3.0,>=1.0 in /usr/local/lib/python3.11/dist-packages (from gradio) (1.26.4)\n",
            "Requirement already satisfied: orjson~=3.0 in /usr/local/lib/python3.11/dist-packages (from gradio) (3.10.15)\n",
            "Requirement already satisfied: packaging in /usr/local/lib/python3.11/dist-packages (from gradio) (24.2)\n",
            "Requirement already satisfied: pandas<3.0,>=1.0 in /usr/local/lib/python3.11/dist-packages (from gradio) (2.2.2)\n",
            "Requirement already satisfied: pillow<12.0,>=8.0 in /usr/local/lib/python3.11/dist-packages (from gradio) (11.1.0)\n",
            "Requirement already satisfied: pydantic>=2.0 in /usr/local/lib/python3.11/dist-packages (from gradio) (2.10.6)\n",
            "Collecting pydub (from gradio)\n",
            "  Downloading pydub-0.25.1-py2.py3-none-any.whl.metadata (1.4 kB)\n",
            "Collecting python-multipart>=0.0.18 (from gradio)\n",
            "  Downloading python_multipart-0.0.20-py3-none-any.whl.metadata (1.8 kB)\n",
            "Requirement already satisfied: pyyaml<7.0,>=5.0 in /usr/local/lib/python3.11/dist-packages (from gradio) (6.0.2)\n",
            "Collecting ruff>=0.9.3 (from gradio)\n",
            "  Downloading ruff-0.9.5-py3-none-manylinux_2_17_x86_64.manylinux2014_x86_64.whl.metadata (25 kB)\n",
            "Collecting safehttpx<0.2.0,>=0.1.6 (from gradio)\n",
            "  Downloading safehttpx-0.1.6-py3-none-any.whl.metadata (4.2 kB)\n",
            "Collecting semantic-version~=2.0 (from gradio)\n",
            "  Downloading semantic_version-2.10.0-py2.py3-none-any.whl.metadata (9.7 kB)\n",
            "Collecting starlette<1.0,>=0.40.0 (from gradio)\n",
            "  Downloading starlette-0.45.3-py3-none-any.whl.metadata (6.3 kB)\n",
            "Collecting tomlkit<0.14.0,>=0.12.0 (from gradio)\n",
            "  Downloading tomlkit-0.13.2-py3-none-any.whl.metadata (2.7 kB)\n",
            "Requirement already satisfied: typer<1.0,>=0.12 in /usr/local/lib/python3.11/dist-packages (from gradio) (0.15.1)\n",
            "Requirement already satisfied: typing-extensions~=4.0 in /usr/local/lib/python3.11/dist-packages (from gradio) (4.12.2)\n",
            "Collecting uvicorn>=0.14.0 (from gradio)\n",
            "  Downloading uvicorn-0.34.0-py3-none-any.whl.metadata (6.5 kB)\n",
            "Requirement already satisfied: fsspec in /usr/local/lib/python3.11/dist-packages (from gradio-client==1.7.0->gradio) (2024.10.0)\n",
            "Requirement already satisfied: websockets<15.0,>=10.0 in /usr/local/lib/python3.11/dist-packages (from gradio-client==1.7.0->gradio) (14.2)\n",
            "Requirement already satisfied: idna>=2.8 in /usr/local/lib/python3.11/dist-packages (from anyio<5.0,>=3.0->gradio) (3.10)\n",
            "Requirement already satisfied: sniffio>=1.1 in /usr/local/lib/python3.11/dist-packages (from anyio<5.0,>=3.0->gradio) (1.3.1)\n",
            "Requirement already satisfied: certifi in /usr/local/lib/python3.11/dist-packages (from httpx>=0.24.1->gradio) (2025.1.31)\n",
            "Requirement already satisfied: httpcore==1.* in /usr/local/lib/python3.11/dist-packages (from httpx>=0.24.1->gradio) (1.0.7)\n",
            "Requirement already satisfied: h11<0.15,>=0.13 in /usr/local/lib/python3.11/dist-packages (from httpcore==1.*->httpx>=0.24.1->gradio) (0.14.0)\n",
            "Requirement already satisfied: filelock in /usr/local/lib/python3.11/dist-packages (from huggingface-hub>=0.28.1->gradio) (3.17.0)\n",
            "Requirement already satisfied: requests in /usr/local/lib/python3.11/dist-packages (from huggingface-hub>=0.28.1->gradio) (2.32.3)\n",
            "Requirement already satisfied: tqdm>=4.42.1 in /usr/local/lib/python3.11/dist-packages (from huggingface-hub>=0.28.1->gradio) (4.67.1)\n",
            "Requirement already satisfied: python-dateutil>=2.8.2 in /usr/local/lib/python3.11/dist-packages (from pandas<3.0,>=1.0->gradio) (2.8.2)\n",
            "Requirement already satisfied: pytz>=2020.1 in /usr/local/lib/python3.11/dist-packages (from pandas<3.0,>=1.0->gradio) (2025.1)\n",
            "Requirement already satisfied: tzdata>=2022.7 in /usr/local/lib/python3.11/dist-packages (from pandas<3.0,>=1.0->gradio) (2025.1)\n",
            "Requirement already satisfied: annotated-types>=0.6.0 in /usr/local/lib/python3.11/dist-packages (from pydantic>=2.0->gradio) (0.7.0)\n",
            "Requirement already satisfied: pydantic-core==2.27.2 in /usr/local/lib/python3.11/dist-packages (from pydantic>=2.0->gradio) (2.27.2)\n",
            "Requirement already satisfied: click>=8.0.0 in /usr/local/lib/python3.11/dist-packages (from typer<1.0,>=0.12->gradio) (8.1.8)\n",
            "Requirement already satisfied: shellingham>=1.3.0 in /usr/local/lib/python3.11/dist-packages (from typer<1.0,>=0.12->gradio) (1.5.4)\n",
            "Requirement already satisfied: rich>=10.11.0 in /usr/local/lib/python3.11/dist-packages (from typer<1.0,>=0.12->gradio) (13.9.4)\n",
            "Requirement already satisfied: six>=1.5 in /usr/local/lib/python3.11/dist-packages (from python-dateutil>=2.8.2->pandas<3.0,>=1.0->gradio) (1.17.0)\n",
            "Requirement already satisfied: markdown-it-py>=2.2.0 in /usr/local/lib/python3.11/dist-packages (from rich>=10.11.0->typer<1.0,>=0.12->gradio) (3.0.0)\n",
            "Requirement already satisfied: pygments<3.0.0,>=2.13.0 in /usr/local/lib/python3.11/dist-packages (from rich>=10.11.0->typer<1.0,>=0.12->gradio) (2.18.0)\n",
            "Requirement already satisfied: charset-normalizer<4,>=2 in /usr/local/lib/python3.11/dist-packages (from requests->huggingface-hub>=0.28.1->gradio) (3.4.1)\n",
            "Requirement already satisfied: urllib3<3,>=1.21.1 in /usr/local/lib/python3.11/dist-packages (from requests->huggingface-hub>=0.28.1->gradio) (2.3.0)\n",
            "Requirement already satisfied: mdurl~=0.1 in /usr/local/lib/python3.11/dist-packages (from markdown-it-py>=2.2.0->rich>=10.11.0->typer<1.0,>=0.12->gradio) (0.1.2)\n",
            "Downloading gradio-5.15.0-py3-none-any.whl (57.8 MB)\n",
            "\u001b[2K   \u001b[90m━━━━━━━━━━━━━━━━━━━━━━━━━━━━━━━━━━━━━━━━\u001b[0m \u001b[32m57.8/57.8 MB\u001b[0m \u001b[31m13.1 MB/s\u001b[0m eta \u001b[36m0:00:00\u001b[0m\n",
            "\u001b[?25hDownloading gradio_client-1.7.0-py3-none-any.whl (321 kB)\n",
            "\u001b[2K   \u001b[90m━━━━━━━━━━━━━━━━━━━━━━━━━━━━━━━━━━━━━━━━\u001b[0m \u001b[32m321.9/321.9 kB\u001b[0m \u001b[31m19.7 MB/s\u001b[0m eta \u001b[36m0:00:00\u001b[0m\n",
            "\u001b[?25hDownloading aiofiles-23.2.1-py3-none-any.whl (15 kB)\n",
            "Downloading fastapi-0.115.8-py3-none-any.whl (94 kB)\n",
            "\u001b[2K   \u001b[90m━━━━━━━━━━━━━━━━━━━━━━━━━━━━━━━━━━━━━━━━\u001b[0m \u001b[32m94.8/94.8 kB\u001b[0m \u001b[31m8.1 MB/s\u001b[0m eta \u001b[36m0:00:00\u001b[0m\n",
            "\u001b[?25hDownloading MarkupSafe-2.1.5-cp311-cp311-manylinux_2_17_x86_64.manylinux2014_x86_64.whl (28 kB)\n",
            "Downloading python_multipart-0.0.20-py3-none-any.whl (24 kB)\n",
            "Downloading ruff-0.9.5-py3-none-manylinux_2_17_x86_64.manylinux2014_x86_64.whl (12.4 MB)\n",
            "\u001b[2K   \u001b[90m━━━━━━━━━━━━━━━━━━━━━━━━━━━━━━━━━━━━━━━━\u001b[0m \u001b[32m12.4/12.4 MB\u001b[0m \u001b[31m68.2 MB/s\u001b[0m eta \u001b[36m0:00:00\u001b[0m\n",
            "\u001b[?25hDownloading safehttpx-0.1.6-py3-none-any.whl (8.7 kB)\n",
            "Downloading semantic_version-2.10.0-py2.py3-none-any.whl (15 kB)\n",
            "Downloading starlette-0.45.3-py3-none-any.whl (71 kB)\n",
            "\u001b[2K   \u001b[90m━━━━━━━━━━━━━━━━━━━━━━━━━━━━━━━━━━━━━━━━\u001b[0m \u001b[32m71.5/71.5 kB\u001b[0m \u001b[31m5.9 MB/s\u001b[0m eta \u001b[36m0:00:00\u001b[0m\n",
            "\u001b[?25hDownloading tomlkit-0.13.2-py3-none-any.whl (37 kB)\n",
            "Downloading uvicorn-0.34.0-py3-none-any.whl (62 kB)\n",
            "\u001b[2K   \u001b[90m━━━━━━━━━━━━━━━━━━━━━━━━━━━━━━━━━━━━━━━━\u001b[0m \u001b[32m62.3/62.3 kB\u001b[0m \u001b[31m5.4 MB/s\u001b[0m eta \u001b[36m0:00:00\u001b[0m\n",
            "\u001b[?25hDownloading ffmpy-0.5.0-py3-none-any.whl (6.0 kB)\n",
            "Downloading pydub-0.25.1-py2.py3-none-any.whl (32 kB)\n",
            "Installing collected packages: pydub, uvicorn, tomlkit, semantic-version, ruff, python-multipart, markupsafe, ffmpy, aiofiles, starlette, safehttpx, gradio-client, fastapi, gradio\n",
            "  Attempting uninstall: markupsafe\n",
            "    Found existing installation: MarkupSafe 3.0.2\n",
            "    Uninstalling MarkupSafe-3.0.2:\n",
            "      Successfully uninstalled MarkupSafe-3.0.2\n",
            "\u001b[31mERROR: pip's dependency resolver does not currently take into account all the packages that are installed. This behaviour is the source of the following dependency conflicts.\n",
            "torch 2.5.1+cu124 requires nvidia-cublas-cu12==12.4.5.8; platform_system == \"Linux\" and platform_machine == \"x86_64\", but you have nvidia-cublas-cu12 12.5.3.2 which is incompatible.\n",
            "torch 2.5.1+cu124 requires nvidia-cuda-cupti-cu12==12.4.127; platform_system == \"Linux\" and platform_machine == \"x86_64\", but you have nvidia-cuda-cupti-cu12 12.5.82 which is incompatible.\n",
            "torch 2.5.1+cu124 requires nvidia-cuda-nvrtc-cu12==12.4.127; platform_system == \"Linux\" and platform_machine == \"x86_64\", but you have nvidia-cuda-nvrtc-cu12 12.5.82 which is incompatible.\n",
            "torch 2.5.1+cu124 requires nvidia-cuda-runtime-cu12==12.4.127; platform_system == \"Linux\" and platform_machine == \"x86_64\", but you have nvidia-cuda-runtime-cu12 12.5.82 which is incompatible.\n",
            "torch 2.5.1+cu124 requires nvidia-cudnn-cu12==9.1.0.70; platform_system == \"Linux\" and platform_machine == \"x86_64\", but you have nvidia-cudnn-cu12 9.3.0.75 which is incompatible.\n",
            "torch 2.5.1+cu124 requires nvidia-cufft-cu12==11.2.1.3; platform_system == \"Linux\" and platform_machine == \"x86_64\", but you have nvidia-cufft-cu12 11.2.3.61 which is incompatible.\n",
            "torch 2.5.1+cu124 requires nvidia-curand-cu12==10.3.5.147; platform_system == \"Linux\" and platform_machine == \"x86_64\", but you have nvidia-curand-cu12 10.3.6.82 which is incompatible.\n",
            "torch 2.5.1+cu124 requires nvidia-cusolver-cu12==11.6.1.9; platform_system == \"Linux\" and platform_machine == \"x86_64\", but you have nvidia-cusolver-cu12 11.6.3.83 which is incompatible.\n",
            "torch 2.5.1+cu124 requires nvidia-cusparse-cu12==12.3.1.170; platform_system == \"Linux\" and platform_machine == \"x86_64\", but you have nvidia-cusparse-cu12 12.5.1.3 which is incompatible.\n",
            "torch 2.5.1+cu124 requires nvidia-nvjitlink-cu12==12.4.127; platform_system == \"Linux\" and platform_machine == \"x86_64\", but you have nvidia-nvjitlink-cu12 12.5.82 which is incompatible.\u001b[0m\u001b[31m\n",
            "\u001b[0mSuccessfully installed aiofiles-23.2.1 fastapi-0.115.8 ffmpy-0.5.0 gradio-5.15.0 gradio-client-1.7.0 markupsafe-2.1.5 pydub-0.25.1 python-multipart-0.0.20 ruff-0.9.5 safehttpx-0.1.6 semantic-version-2.10.0 starlette-0.45.3 tomlkit-0.13.2 uvicorn-0.34.0\n",
            "Requirement already satisfied: langchain_community in /usr/local/lib/python3.11/dist-packages (0.3.17)\n",
            "Requirement already satisfied: langchain-core<1.0.0,>=0.3.34 in /usr/local/lib/python3.11/dist-packages (from langchain_community) (0.3.34)\n",
            "Requirement already satisfied: langchain<1.0.0,>=0.3.18 in /usr/local/lib/python3.11/dist-packages (from langchain_community) (0.3.18)\n",
            "Requirement already satisfied: SQLAlchemy<3,>=1.4 in /usr/local/lib/python3.11/dist-packages (from langchain_community) (2.0.37)\n",
            "Requirement already satisfied: requests<3,>=2 in /usr/local/lib/python3.11/dist-packages (from langchain_community) (2.32.3)\n",
            "Requirement already satisfied: PyYAML>=5.3 in /usr/local/lib/python3.11/dist-packages (from langchain_community) (6.0.2)\n",
            "Requirement already satisfied: aiohttp<4.0.0,>=3.8.3 in /usr/local/lib/python3.11/dist-packages (from langchain_community) (3.11.11)\n",
            "Requirement already satisfied: tenacity!=8.4.0,<10,>=8.1.0 in /usr/local/lib/python3.11/dist-packages (from langchain_community) (9.0.0)\n",
            "Requirement already satisfied: dataclasses-json<0.7,>=0.5.7 in /usr/local/lib/python3.11/dist-packages (from langchain_community) (0.6.7)\n",
            "Requirement already satisfied: pydantic-settings<3.0.0,>=2.4.0 in /usr/local/lib/python3.11/dist-packages (from langchain_community) (2.7.1)\n",
            "Requirement already satisfied: langsmith<0.4,>=0.1.125 in /usr/local/lib/python3.11/dist-packages (from langchain_community) (0.3.5)\n",
            "Requirement already satisfied: httpx-sse<1.0.0,>=0.4.0 in /usr/local/lib/python3.11/dist-packages (from langchain_community) (0.4.0)\n",
            "Requirement already satisfied: numpy<2,>=1.26.4 in /usr/local/lib/python3.11/dist-packages (from langchain_community) (1.26.4)\n",
            "Requirement already satisfied: aiohappyeyeballs>=2.3.0 in /usr/local/lib/python3.11/dist-packages (from aiohttp<4.0.0,>=3.8.3->langchain_community) (2.4.4)\n",
            "Requirement already satisfied: aiosignal>=1.1.2 in /usr/local/lib/python3.11/dist-packages (from aiohttp<4.0.0,>=3.8.3->langchain_community) (1.3.2)\n",
            "Requirement already satisfied: attrs>=17.3.0 in /usr/local/lib/python3.11/dist-packages (from aiohttp<4.0.0,>=3.8.3->langchain_community) (25.1.0)\n",
            "Requirement already satisfied: frozenlist>=1.1.1 in /usr/local/lib/python3.11/dist-packages (from aiohttp<4.0.0,>=3.8.3->langchain_community) (1.5.0)\n",
            "Requirement already satisfied: multidict<7.0,>=4.5 in /usr/local/lib/python3.11/dist-packages (from aiohttp<4.0.0,>=3.8.3->langchain_community) (6.1.0)\n",
            "Requirement already satisfied: propcache>=0.2.0 in /usr/local/lib/python3.11/dist-packages (from aiohttp<4.0.0,>=3.8.3->langchain_community) (0.2.1)\n",
            "Requirement already satisfied: yarl<2.0,>=1.17.0 in /usr/local/lib/python3.11/dist-packages (from aiohttp<4.0.0,>=3.8.3->langchain_community) (1.18.3)\n",
            "Requirement already satisfied: marshmallow<4.0.0,>=3.18.0 in /usr/local/lib/python3.11/dist-packages (from dataclasses-json<0.7,>=0.5.7->langchain_community) (3.26.1)\n",
            "Requirement already satisfied: typing-inspect<1,>=0.4.0 in /usr/local/lib/python3.11/dist-packages (from dataclasses-json<0.7,>=0.5.7->langchain_community) (0.9.0)\n",
            "Requirement already satisfied: langchain-text-splitters<1.0.0,>=0.3.6 in /usr/local/lib/python3.11/dist-packages (from langchain<1.0.0,>=0.3.18->langchain_community) (0.3.6)\n",
            "Requirement already satisfied: pydantic<3.0.0,>=2.7.4 in /usr/local/lib/python3.11/dist-packages (from langchain<1.0.0,>=0.3.18->langchain_community) (2.10.6)\n",
            "Requirement already satisfied: jsonpatch<2.0,>=1.33 in /usr/local/lib/python3.11/dist-packages (from langchain-core<1.0.0,>=0.3.34->langchain_community) (1.33)\n",
            "Requirement already satisfied: packaging<25,>=23.2 in /usr/local/lib/python3.11/dist-packages (from langchain-core<1.0.0,>=0.3.34->langchain_community) (24.2)\n",
            "Requirement already satisfied: typing-extensions>=4.7 in /usr/local/lib/python3.11/dist-packages (from langchain-core<1.0.0,>=0.3.34->langchain_community) (4.12.2)\n",
            "Requirement already satisfied: httpx<1,>=0.23.0 in /usr/local/lib/python3.11/dist-packages (from langsmith<0.4,>=0.1.125->langchain_community) (0.28.1)\n",
            "Requirement already satisfied: orjson<4.0.0,>=3.9.14 in /usr/local/lib/python3.11/dist-packages (from langsmith<0.4,>=0.1.125->langchain_community) (3.10.15)\n",
            "Requirement already satisfied: requests-toolbelt<2.0.0,>=1.0.0 in /usr/local/lib/python3.11/dist-packages (from langsmith<0.4,>=0.1.125->langchain_community) (1.0.0)\n",
            "Requirement already satisfied: zstandard<0.24.0,>=0.23.0 in /usr/local/lib/python3.11/dist-packages (from langsmith<0.4,>=0.1.125->langchain_community) (0.23.0)\n",
            "Requirement already satisfied: python-dotenv>=0.21.0 in /usr/local/lib/python3.11/dist-packages (from pydantic-settings<3.0.0,>=2.4.0->langchain_community) (1.0.1)\n",
            "Requirement already satisfied: charset-normalizer<4,>=2 in /usr/local/lib/python3.11/dist-packages (from requests<3,>=2->langchain_community) (3.4.1)\n",
            "Requirement already satisfied: idna<4,>=2.5 in /usr/local/lib/python3.11/dist-packages (from requests<3,>=2->langchain_community) (3.10)\n",
            "Requirement already satisfied: urllib3<3,>=1.21.1 in /usr/local/lib/python3.11/dist-packages (from requests<3,>=2->langchain_community) (2.3.0)\n",
            "Requirement already satisfied: certifi>=2017.4.17 in /usr/local/lib/python3.11/dist-packages (from requests<3,>=2->langchain_community) (2025.1.31)\n",
            "Requirement already satisfied: greenlet!=0.4.17 in /usr/local/lib/python3.11/dist-packages (from SQLAlchemy<3,>=1.4->langchain_community) (3.1.1)\n",
            "Requirement already satisfied: anyio in /usr/local/lib/python3.11/dist-packages (from httpx<1,>=0.23.0->langsmith<0.4,>=0.1.125->langchain_community) (3.7.1)\n",
            "Requirement already satisfied: httpcore==1.* in /usr/local/lib/python3.11/dist-packages (from httpx<1,>=0.23.0->langsmith<0.4,>=0.1.125->langchain_community) (1.0.7)\n",
            "Requirement already satisfied: h11<0.15,>=0.13 in /usr/local/lib/python3.11/dist-packages (from httpcore==1.*->httpx<1,>=0.23.0->langsmith<0.4,>=0.1.125->langchain_community) (0.14.0)\n",
            "Requirement already satisfied: jsonpointer>=1.9 in /usr/local/lib/python3.11/dist-packages (from jsonpatch<2.0,>=1.33->langchain-core<1.0.0,>=0.3.34->langchain_community) (3.0.0)\n",
            "Requirement already satisfied: annotated-types>=0.6.0 in /usr/local/lib/python3.11/dist-packages (from pydantic<3.0.0,>=2.7.4->langchain<1.0.0,>=0.3.18->langchain_community) (0.7.0)\n",
            "Requirement already satisfied: pydantic-core==2.27.2 in /usr/local/lib/python3.11/dist-packages (from pydantic<3.0.0,>=2.7.4->langchain<1.0.0,>=0.3.18->langchain_community) (2.27.2)\n",
            "Requirement already satisfied: mypy-extensions>=0.3.0 in /usr/local/lib/python3.11/dist-packages (from typing-inspect<1,>=0.4.0->dataclasses-json<0.7,>=0.5.7->langchain_community) (1.0.0)\n",
            "Requirement already satisfied: sniffio>=1.1 in /usr/local/lib/python3.11/dist-packages (from anyio->httpx<1,>=0.23.0->langsmith<0.4,>=0.1.125->langchain_community) (1.3.1)\n"
          ]
        }
      ],
      "source": [
        "# Installing required packages\n",
        "!pip install langchainhub\n",
        "!pip install langchain-openai\n",
        "!pip install langchain\n",
        "!pip install beautifulsoup4\n",
        "!pip install langchain-community\n",
        "!pip install faiss-cpu\n",
        "!pip install -U langchain-community tavily-python\n",
        "!pip gradio_client\n",
        "!pip install gradio\n",
        "!pip install langchain_community\n"
      ]
    },
    {
      "cell_type": "code",
      "execution_count": null,
      "metadata": {
        "id": "C31eljUvIuWM"
      },
      "outputs": [],
      "source": [
        "# Necessary Imports\n",
        "import kagglehub\n",
        "import csv\n",
        "import pandas as pd\n",
        "import math\n",
        "import numpy as np\n",
        "import os\n",
        "import getpass\n",
        "from langchain_core.output_parsers import StrOutputParser\n",
        "from google.colab import drive\n",
        "\n",
        "from langchain_openai import ChatOpenAI\n",
        "from langchain_core.prompts import ChatPromptTemplate\n",
        "from langchain_openai import OpenAIEmbeddings\n",
        "from langchain_core.prompts import ChatPromptTemplate\n",
        "from langchain.chains.combine_documents import create_stuff_documents_chain\n",
        "from langchain.chains import create_retrieval_chain\n",
        "from langchain_text_splitters import RecursiveCharacterTextSplitter\n",
        "from langchain_openai import OpenAIEmbeddings\n",
        "from langchain_community.vectorstores import FAISS\n",
        "from langchain_core.output_parsers import StrOutputParser\n",
        "from langchain.agents import create_openai_functions_agent\n",
        "\n",
        "# Perform necessary imports for creating agents\n",
        "from langchain import hub # Used to pull predefined prompts from LangChain Hub\n",
        "from langchain.agents import AgentExecutor, create_react_agent\n",
        "from langchain.memory import ChatMessageHistory  # Used to store chat history in memory\n",
        "from langchain_core.runnables.history import RunnableWithMessageHistory\n",
        "from langchain_openai import OpenAI"
      ]
    },
    {
      "cell_type": "code",
      "execution_count": null,
      "metadata": {
        "colab": {
          "base_uri": "https://localhost:8080/"
        },
        "id": "dGsjQVYrYpvx",
        "outputId": "2ca76b98-f7fb-4670-8744-9f547a200765"
      },
      "outputs": [
        {
          "name": "stdout",
          "output_type": "stream",
          "text": [
            "··········\n",
            "··········\n"
          ]
        }
      ],
      "source": [
        "# Setting up Open AI key\n",
        "os.environ[\"OPENAI_API_KEY\"] = getpass.getpass()\n",
        "\n",
        "# Setting up the Tavily API Key to do web search\n",
        "os.environ[\"TAVILY_API_KEY\"] = getpass.getpass()"
      ]
    },
    {
      "cell_type": "code",
      "execution_count": null,
      "metadata": {
        "colab": {
          "base_uri": "https://localhost:8080/"
        },
        "id": "jXTV_wx9HWSu",
        "outputId": "b5b676a4-6ac0-4ae2-cb56-74c0820d6de1"
      },
      "outputs": [
        {
          "output_type": "stream",
          "name": "stdout",
          "text": [
            "Mounted at /content/gdrive\n"
          ]
        },
        {
          "output_type": "stream",
          "name": "stderr",
          "text": [
            "/usr/local/lib/python3.11/dist-packages/langsmith/client.py:253: LangSmithMissingAPIKeyWarning: API key must be provided when using hosted LangSmith API\n",
            "  warnings.warn(\n"
          ]
        }
      ],
      "source": [
        "# Loading the data\n",
        "drive.mount(\"/content/gdrive\")\n",
        "# df = pd.read_csv(\"/content/gdrive/MyDrive/datasets/sample_dataset.csv\", index_col=0)\n",
        "df = pd.read_csv(\"/content/gdrive/MyDrive/IK/project_based/sample_dataset.csv\", index_col=0)\n",
        "# Preparing the Product Description\n",
        "product_description = []\n",
        "product_description_len = []\n",
        "cnt = 0\n",
        "for row in df.iterrows():\n",
        "    cnt += 1\n",
        "    if cnt == 100:\n",
        "        break\n",
        "    product = \"\"\n",
        "    title = row[1][\"TITLE\"]\n",
        "    if type(title) != float or not math.isnan(title):\n",
        "        product += \"Title\\n\" + title + \"\\n\"\n",
        "    description = row[1][\"DESCRIPTION\"]\n",
        "    if type(description) != float or not math.isnan(description):\n",
        "        product += \"Description\\n\" + description + \"\\n\"\n",
        "    added_content = title or description\n",
        "    if added_content:\n",
        "        product = product.strip()\n",
        "        product_description.append(product)\n",
        "        product_description_len.append(len(product))\n",
        "# Chunking the Data(Product Description)\n",
        "# See this for more details https://python.langchain.com/v0.1/docs/modules/data_connection/document_transformers/recursive_text_splitter/\n",
        "text_splitter = RecursiveCharacterTextSplitter(\n",
        "    chunk_size=250,\n",
        "    chunk_overlap=20,\n",
        "    length_function=len,\n",
        "    is_separator_regex=False,\n",
        ")\n",
        "documents = text_splitter.create_documents(product_description)\n",
        "\n",
        "# Create an embedding model using LangChain.\n",
        "# See https://python.langchain.com/docs/integrations/text_embedding/ for a list of available embedding models on LangChain\n",
        "embeddings = OpenAIEmbeddings()\n",
        "\n",
        "# Create a vector store using the created chuns and the embeddings model\n",
        "vector = FAISS.from_documents(documents, embeddings)\n",
        "\n",
        "# Create ChatOpenAI object for acting as an LLM.\n",
        "# See https://python.langchain.com/docs/integrations/chat/openai/\n",
        "llm = ChatOpenAI(api_key=os.environ[\"OPENAI_API_KEY\"], temperature=0)\n",
        "\n",
        "# Create a prompt template that gives the model a persona of a customer\n",
        "# Create a chain for passing a list of Documents to a model.\n",
        "output_parser = StrOutputParser()\n",
        "prompt = ChatPromptTemplate.from_template(\"\"\"Answer the following question based only on the provided context:\n",
        "\n",
        "<context>\n",
        "{context}\n",
        "</context>\n",
        "\n",
        "Question: {input}\"\"\", output_parser = output_parser)\n",
        "\n",
        "document_chain = create_stuff_documents_chain(llm, prompt)\n",
        "# document_chain = prompt | llm\n",
        "\n",
        "# Creating a retriever\n",
        "# See https://python.langchain.com/v0.1/docs/modules/data_connection/retrievers/vectorstore/\n",
        "retriever = vector.as_retriever()\n",
        "retrieval_chain = create_retrieval_chain(retriever, document_chain)\n",
        "\n",
        "\n",
        "# import the 'tool' decorator\n",
        "from langchain.tools import tool\n",
        "from langchain.tools.retriever import create_retriever_tool\n",
        "\n",
        "# Define a tool for Amazon product search using @tool decorator\n",
        "@tool\n",
        "def amazon_product_search(query: str):\n",
        "    \"\"\"Search for information about Amazon products.\n",
        "    For any questions related to Amazon products, this tool must be used.\"\"\"\n",
        "\n",
        "    # Create the retriever tool\n",
        "    retriever_tool = create_retriever_tool(\n",
        "        retriever,  # The retriever object that fetches Amazon product data\n",
        "        name=\"amazon_search\",\n",
        "        description=\"Search for information about Amazon products.\"\n",
        "    )\n",
        "\n",
        "    # Execute search based on query\n",
        "    return retriever_tool.invoke(query)\n",
        "\n",
        "# Import necessary classes from LangChain for Tavily integration\n",
        "from langchain_community.tools.tavily_search import TavilySearchResults\n",
        "\n",
        "@tool\n",
        "def search_tavily(query: str):\n",
        "    \"\"\"\n",
        "    Executes a web search using the TavilySearchResults tool.\n",
        "\n",
        "    Parameters:\n",
        "        query (str): The search query entered by the user.\n",
        "\n",
        "    Returns:\n",
        "        list: A list of search results containing answers, raw content, and images.\n",
        "    \"\"\"\n",
        "    # Create an instance of TavilySearchResults with customized parameters\n",
        "    search_tool = TavilySearchResults(\n",
        "        max_results=5,  # Retrieves up to 5 search results\n",
        "        include_answer=True,  # Includes direct answers when available\n",
        "        include_raw_content=True,  # Includes full raw text content from search results\n",
        "        include_images=True,  # Includes images from the search results\n",
        "    )\n",
        "\n",
        "    # Invoke the search with the given query and return the results\n",
        "    return search_tool.invoke(query)\n",
        "\n",
        "# hwchase17/react is a prompt template designed for ReAct-style\n",
        "# conversational agents.\n",
        "prompt = hub.pull(\"hwchase17/react\")\n",
        "\n",
        "## Create a list of tools: retriever_tool and search_tool\n",
        "tools = [search_tavily, amazon_product_search]\n",
        "\n",
        "llm = ChatOpenAI(model = 'gpt-4o-mini', temperature = 0)\n",
        "\n",
        "react_agent = create_react_agent(\n",
        "    llm=llm,  # The OpenAI model responsible for reasoning and response generation.\n",
        "    tools=tools,  # A list of external tools (e.g., web search, product retrieval).\n",
        "    prompt=prompt  # The ReAct-style prompt guiding the agent's thought process.\n",
        ")\n",
        "\n",
        "# executes the logical steps we created\n",
        "agent_executor = AgentExecutor(\n",
        "    agent=react_agent,\n",
        "    tools=tools,\n",
        "    verbose=True,\n",
        "    handle_parsing_errors=True,\n",
        "    max_iterations = 5 # useful when agent is stuck in a loop\n",
        ")"
      ]
    },
    {
      "cell_type": "code",
      "execution_count": null,
      "metadata": {
        "colab": {
          "base_uri": "https://localhost:8080/"
        },
        "id": "mPghRh9A2SbL",
        "outputId": "1d228549-459a-4337-feac-0be0997cd077"
      },
      "outputs": [
        {
          "output_type": "stream",
          "name": "stdout",
          "text": [
            "\n",
            "\n",
            "\u001b[1m> Entering new AgentExecutor chain...\u001b[0m\n",
            "\u001b[32;1m\u001b[1;3mTo find the best shoes on Amazon, I should search for popular and highly rated options available on the platform. This will help me identify the top choices based on customer reviews and ratings. \n",
            "\n",
            "Action: amazon_product_search  \n",
            "Action Input: best shoes  \n",
            "\u001b[0m\u001b[33;1m\u001b[1;3mThe Remora Climbing Shoe is Mad Rock's do-it-all slipper for climbers who can't have separate shoes for boulders, sport routes, and gyms. With a moderately stiff, slightly downturned design, the Remora performs on any climb at steep to vertical\n",
            "\n",
            "steep to vertical angles. Science Friction rubber edges on jibs with ease, and it encapsulates the forefoot for toe-hooking prowess. The SynFlex upper conforms to your foot without much stretch.\n",
            "\n",
            "Title\n",
            "Mad Rock Remora Climbing Shoe - Men's Blue 9.5\n",
            "Description\n",
            "\n",
            "Title\n",
            "adidas Men's Predator 18+ FG Firm Ground Soccer Cleats\n",
            "Description\n",
            "adidas Predator 18+ FG- Black 7.5\u001b[0m\u001b[32;1m\u001b[1;3mTo find the best shoes on Amazon, I should look for a variety of options that cater to different activities and preferences. The search results show a couple of popular choices, including climbing shoes and soccer cleats. \n",
            "\n",
            "Action: amazon_product_search  \n",
            "Action Input: best rated shoes  \n",
            "\u001b[0m\u001b[33;1m\u001b[1;3mTitle\n",
            "Mad Rock Remora Climbing Shoe - Men's Blue 9.5\n",
            "Description\n",
            "\n",
            "Title\n",
            "Kenneth Cole REACTION Men's Crespo Loafer B Shoe, Cognac, 10 M US\n",
            "\n",
            "The Remora Climbing Shoe is Mad Rock's do-it-all slipper for climbers who can't have separate shoes for boulders, sport routes, and gyms. With a moderately stiff, slightly downturned design, the Remora performs on any climb at steep to vertical\n",
            "\n",
            "Title\n",
            "adidas Men's Predator 18+ FG Firm Ground Soccer Cleats\n",
            "Description\n",
            "adidas Predator 18+ FG- Black 7.5\u001b[0m\u001b[32;1m\u001b[1;3mThe search results are showing a few popular shoe options, but I need to gather more information to determine the best overall shoes available on Amazon. \n",
            "\n",
            "Action: amazon_product_search  \n",
            "Action Input: top rated shoes  \n",
            "\u001b[0m\u001b[33;1m\u001b[1;3mTitle\n",
            "Kenneth Cole REACTION Men's Crespo Loafer B Shoe, Cognac, 10 M US\n",
            "\n",
            "Title\n",
            "Mad Rock Remora Climbing Shoe - Men's Blue 9.5\n",
            "Description\n",
            "\n",
            "Title\n",
            "adidas Men's Predator 18+ FG Firm Ground Soccer Cleats\n",
            "Description\n",
            "adidas Predator 18+ FG- Black 7.5\n",
            "\n",
            "The Remora Climbing Shoe is Mad Rock's do-it-all slipper for climbers who can't have separate shoes for boulders, sport routes, and gyms. With a moderately stiff, slightly downturned design, the Remora performs on any climb at steep to vertical\u001b[0m\u001b[32;1m\u001b[1;3mI have gathered several options for shoes available on Amazon, including climbing shoes, soccer cleats, and loafers. However, I need to summarize the best options based on their popularity and ratings.\n",
            "\n",
            "Final Answer: Some of the best shoes you can find on Amazon include:\n",
            "1. **Mad Rock Remora Climbing Shoe** - A versatile climbing shoe suitable for various climbing activities.\n",
            "2. **adidas Men's Predator 18+ FG Firm Ground Soccer Cleats** - High-performance soccer cleats designed for firm ground play.\n",
            "3. **Kenneth Cole REACTION Men's Crespo Loafer** - A stylish and comfortable loafer suitable for casual and formal occasions.\n",
            "\n",
            "These options cater to different activities and preferences, making them some of the best-rated shoes available on Amazon.\u001b[0m\n",
            "\n",
            "\u001b[1m> Finished chain.\u001b[0m\n"
          ]
        }
      ],
      "source": [
        "res = agent_executor.invoke({\"input\": \"What is the best shoes I can find on Amazon?\"})"
      ]
    },
    {
      "cell_type": "code",
      "execution_count": null,
      "metadata": {
        "colab": {
          "base_uri": "https://localhost:8080/"
        },
        "id": "utJXHSg144dW",
        "outputId": "6a7e2386-b27a-49ec-a204-533f5f10f0a4"
      },
      "outputs": [
        {
          "output_type": "stream",
          "name": "stdout",
          "text": [
            "\n",
            "\n",
            "\u001b[1m> Entering new AgentExecutor chain...\u001b[0m\n",
            "\u001b[32;1m\u001b[1;3mTo find the current weather in Toronto, I need to perform a web search for the latest weather information.  \n",
            "Action: search_tavily  \n",
            "Action Input: \"current weather in Toronto\"  \u001b[0m\u001b[36;1m\u001b[1;3m[{'url': 'https://www.weatherapi.com/', 'content': \"{'location': {'name': 'Toronto', 'region': 'Ontario', 'country': 'Canada', 'lat': 43.6667, 'lon': -79.4167, 'tz_id': 'America/Toronto', 'localtime_epoch': 1739062135, 'localtime': '2025-02-08 19:48'}, 'current': {'last_updated_epoch': 1739061900, 'last_updated': '2025-02-08 19:45', 'temp_c': -2.7, 'temp_f': 27.2, 'is_day': 0, 'condition': {'text': 'Overcast', 'icon': '//cdn.weatherapi.com/weather/64x64/night/122.png', 'code': 1009}, 'wind_mph': 11.2, 'wind_kph': 18.0, 'wind_degree': 90, 'wind_dir': 'E', 'pressure_mb': 1017.0, 'pressure_in': 30.04, 'precip_mm': 0.0, 'precip_in': 0.0, 'humidity': 94, 'cloud': 100, 'feelslike_c': -8.8, 'feelslike_f': 16.1, 'windchill_c': -8.8, 'windchill_f': 16.1, 'heatindex_c': -2.7, 'heatindex_f': 27.2, 'dewpoint_c': -3.6, 'dewpoint_f': 25.6, 'vis_km': 2.0, 'vis_miles': 1.0, 'uv': 0.0, 'gust_mph': 16.1, 'gust_kph': 25.8}}\"}, {'url': 'https://world-weather.info/forecast/canada/toronto/february-2025/', 'content': \"Weather in Toronto in February 2025 (Ontario) - Detailed Weather Forecast for a Month Weather Weather in Toronto Weather in Toronto in February 2025 Toronto Weather Forecast for February 2025 is based on long term prognosis and previous years' statistical data. 1 +14°+19° 2 +28°+16° 3 +39°+28° 4 +27°+30° 5 +27°+18° 6 +41°+28° 7 +28°+25° 8 +28°+23° 9 +30°+28° 10 +25°+21° 11 +19°+18° 12 +36°+28° 13 +23°+16° 14 +28°+16° 15 +32°+21° 16 +30°+28° 17 +30°+28° +30°+21° +30°+23° +36°+27° +37°+28° +37°+30° +34°+27° +32°+25° +32°+25° +32°+25° +36°+27° +34°+27° Extended weather forecast in Toronto HourlyWeek10-Day14-Day30-DayYear Weather in large and nearby cities Weather in Ottawa-4° Whitby+16° Burlington+18° Oshawa+14° Orangeville+12° Georgina+16° Hamilton+16° Guelph+16° Halton Hills+18° Caledon+18° Newmarket+16° Markham+19° Mississauga+19° Brampton+19° Corsons+7° world's temperature today day day\"}, {'url': 'https://www.weather25.com/north-america/canada/ontario/toronto?page=month&month=February', 'content': \"The weather in Toronto in February is very cold with temperatures between -7 ° C and -2 ° C, warm clothes are a must.. You can expect about 3 to 8 days of rain in Toronto during the month of February. It's a good idea to bring along your umbrella so that you don't get caught in poor weather.\"}, {'url': 'https://www.weather25.com/north-america/canada?page=date&date=9-2', 'content': 'Expected weather in Canada for Sunday, 9 February 2025 , average temperature and weather. ... See the last few years weather in Canada in February 9. United States England Australia Canada °F °C. Canada . Sunday, 9 February 2025 . ... Calgary Edmonton Halifax London Montreal Ottawa Quebec City Toronto Vancouver Winnipeg. See more locations'}, {'url': 'https://www.easeweather.com/north-america/canada/ontario/toronto/february', 'content': \"Weather in Toronto in February 2025 - Detailed Forecast Weather in Toronto for February 2025 Your guide to Toronto weather in February - trends and predictions Expect heavy snowfall in Toronto during February, with an average of 16 snowy days. Valentine's Day weather in Toronto ❤️ - See the complete forecast for Wednesday, 14 February. Toronto in February average weather Temperatures trend during February in Toronto Our weather forecast for Toronto in February is based on the analysis of historical data rather than real-time forecast models. Toronto in February - FAQ Will it snow in Toronto in February 2025? Toronto snow forecast February 2025 Explore the daily rainfall trends and prepare for Torontos February weather\\xa0💧\"}]\u001b[0m\u001b[32;1m\u001b[1;3mI have gathered the current weather information for Toronto. \n",
            "\n",
            "The current temperature in Toronto is -2.7°C (27.2°F) with overcast conditions. The wind is coming from the east at 11.2 mph (18.0 kph), and the humidity is at 94%. The weather feels like -8.8°C (16.1°F) due to wind chill.\n",
            "\n",
            "Final Answer: The current weather in Toronto is -2.7°C (27.2°F), overcast, with a wind speed of 11.2 mph and humidity at 94%.\u001b[0m\n",
            "\n",
            "\u001b[1m> Finished chain.\u001b[0m\n"
          ]
        }
      ],
      "source": [
        "res = agent_executor.invoke({\"input\": \"What is the current weather in Toronto?\"})"
      ]
    },
    {
      "cell_type": "code",
      "execution_count": null,
      "metadata": {
        "colab": {
          "base_uri": "https://localhost:8080/"
        },
        "id": "elHXpi0dPMPT",
        "outputId": "978fbd17-c7f0-4716-8ed1-a918bb7296b3"
      },
      "outputs": [
        {
          "output_type": "stream",
          "name": "stdout",
          "text": [
            "\n",
            "\n",
            "\u001b[1m> Entering new AgentExecutor chain...\u001b[0m\n",
            "\u001b[32;1m\u001b[1;3mTo answer the question about installing backsplash wallpaper and to find some brands available on Amazon, I will first search for installation instructions and tips. Then, I will look for brands of backsplash wallpaper on Amazon.\n",
            "\n",
            "Action: search_tavily  \n",
            "Action Input: \"how to install backsplash wallpaper\"  \u001b[0m\u001b[36;1m\u001b[1;3m[{'url': 'https://www.backsplashkitchen.com/how-to-install-wallpaper-backsplash/', 'content': 'How to Install Wallpaper Backsplash - Backsplash Kitchen How to Install Wallpaper Backsplash Apply an even coat of heavy-duty wallpaper adhesive directly onto the backsplash surface using a paint roller or wide brush. Once the wallpaper is fully adhered, apply an acrylic wallpaper primer/sealer over the entire backsplash surface. With careful prep and installation, your new wallpaper backsplash will provide a beautiful focal point in your kitchen or bathroom for years to come! What type of wall surface works best for a wallpaper backsplash? Should I apply primer before installing wallpaper on a backsplash? How do I cut wallpaper cleanly on an uneven or textured surface? How soon can I use my backsplash after installing wallpaper?'}, {'url': 'https://gadyhomes.com/peel-and-stick-wallpaper-for-an-easy-backsplash-upgrade/', 'content': \"To make your easy peel and stick backsplash install a success, you need the right tools and materials. A step-by-step backsplash wallpaper project requires careful attention and the right tools for a professional look. You'll need a measuring tape, scissors or a utility knife, a smoothing tool, and cleaning supplies.\"}, {'url': 'https://thehomesihavemade.com/how-to-wallpaper-a-backsplash/', 'content': 'I personally recommending using peel-and-stick wallpaper or heavy-duty contact paper for backsplashes because they are both durable (easy to wipe clean) and removable (it just peels right off!) Wallpaper can be expensive, so I highly recommend spending a considerable amount of time planning out exactly how you will apply the paper to your backsplash (and other areas) before you even start cutting and peeling. NOTE: If your backsplash area doesn’t have any large or unique features to work around, you can likely skip this step and set right to hanging your larger cuts of paper directly to the wall.'}, {'url': 'https://www.delineateyourdwelling.com/how-to-install-a-removable-wallpaper-backsplash/', 'content': 'How to install a Removable Wallpaper Backsplash - Delineate Your Dwelling Home / DIY / How to install a Removable Wallpaper Backsplash How to install a Removable Wallpaper Backsplash INSIDE : Learn how to completely transform your kitchen by installing a removable wallpaper backsplash. – How to install a Removable Wallpaper Backsplash What supplies do I need to\\xa0install a Removable Wallpaper Backsplash? How to\\xa0install a Removable Wallpaper Backsplash in your kitchen The first item to take care of when installing a removable wallpaper backsplash is prepping your existing backsplash and/or wall. It’s time to start measuring and cutting your removable wallpaper now! Install Removable Wallpaper Backsplash in Your Kitchen Learn how to completely transform your kitchen by installing a removable wallpaper backsplash.'}, {'url': 'https://www.neathousesweethome.com/peel-and-stick-wallpaper-backsplash-kitchen/', 'content': 'What Is The Best Peel and Stick Wallpaper for a Kitchen Backsplash? This is my second time installing peel-and-stick wallpaper tile. For the first time, I used a peel-and-stick wallpaper in a hexagonal tile design as a backsplash in our laundry room. So considering that installing the hexagonal peel-and-stick wallpaper was tricky and that the RoomMates Sticktiles started to peel, I picked a different brand for the kitchen nook backsplash. This time, I chose this Art3D peel-and-stick subway tile wallpaper, a trendy kitchen backsplash. Use peel-and-stick tile to cover small areas. I hope I inspired you to add some wallpaper or peel-and-stick backsplash to your kitchen or any other nook in your home that needs a little pizzazz!'}]\u001b[0m\u001b[32;1m\u001b[1;3mI have gathered several resources on how to install backsplash wallpaper, including tips and tools needed for the installation process. Now, I will search for brands of backsplash wallpaper available on Amazon.\n",
            "\n",
            "Action: amazon_product_search  \n",
            "Action Input: \"backsplash wallpaper\"  \u001b[0m\u001b[33;1m\u001b[1;3mout the size you want. &nbsp;</strong><br><strong>3.Use dishcloth or card to remove any air bubbles.&nbsp;</strong><br><br><strong>Package Included: &nbsp;</strong><br><strong>1 × Kitchen Backsplash Wallpaper&nbsp;</strong><br><br><strong>100%\n",
            "\n",
            "Title\n",
            "Delavala Self Adhesive Kitchen Backsplash Wallpaper, Oil Proof Aluminum Foil Kitchen Sticker (Sliver 5(Mtr))\n",
            "Description\n",
            "\n",
            "Title\n",
            "Printed Vinyl Mobile Wrap Compatible with OnePlus 9R Skin Sticker Protector for Back Only - Blue Gold Marble-10 (with Matte Lamination)\n",
            "Description\n",
            "\n",
            "Title\n",
            "PosterHub Pink Floyd The Wall Poster Matte Finish Paper Print 12 x18 Inch (Multicolor) HS - P076\n",
            "Description\u001b[0m\u001b[32;1m\u001b[1;3mI have gathered information on how to install backsplash wallpaper and found some brands available on Amazon. \n",
            "\n",
            "**Installation Instructions:**\n",
            "1. **Preparation**: Clean the surface where the wallpaper will be applied. Ensure it is smooth and dry.\n",
            "2. **Tools Needed**: You will need a measuring tape, scissors or a utility knife, a smoothing tool, and cleaning supplies.\n",
            "3. **Applying Adhesive**: If using traditional wallpaper, apply an even coat of heavy-duty wallpaper adhesive directly onto the backsplash surface using a paint roller or wide brush.\n",
            "4. **Cutting the Wallpaper**: Measure and cut the wallpaper to fit your backsplash area. For peel-and-stick options, simply peel off the backing.\n",
            "5. **Installation**: Start from one end and carefully apply the wallpaper, smoothing it out to remove air bubbles. Use a dishcloth or card to help with this.\n",
            "6. **Finishing Touches**: Once the wallpaper is fully adhered, you may apply an acrylic wallpaper primer/sealer over the entire surface for added durability.\n",
            "\n",
            "**Brands Available on Amazon:**\n",
            "1. **Delavala Self Adhesive Kitchen Backsplash Wallpaper** - Oil-proof aluminum foil kitchen sticker.\n",
            "2. **Art3D Peel and Stick Subway Tile Wallpaper** - A trendy option for kitchen backsplashes.\n",
            "3. **RoomMates Sticktiles** - Another popular choice for peel-and-stick wallpaper.\n",
            "\n",
            "These brands offer a variety of styles and materials suitable for kitchen backsplashes. \n",
            "\n",
            "Final Answer: To install backsplash wallpaper, clean the surface, gather necessary tools, apply adhesive (if needed), cut the wallpaper, and smooth it onto the surface. Brands available on Amazon include Delavala, Art3D, and RoomMates.\u001b[0m\n",
            "\n",
            "\u001b[1m> Finished chain.\u001b[0m\n"
          ]
        }
      ],
      "source": [
        "res = agent_executor.invoke({\"input\": \"How to install Backsplash Wallpaper? Also find some brands on Amazon\"})"
      ]
    },
    {
      "cell_type": "markdown",
      "metadata": {
        "id": "-fSXV3lzYyxx"
      },
      "source": [
        "<hr>\n",
        "\n",
        "## Week 3 Cost Estimation and Adding Memory\n",
        "\n",
        "Till now, the app that we have built is a conversational AI agent capable of answering questions based on a dataset of product information and using external tools such as tavily (`google web search`) to provide comprehensive responses.\n",
        "\n",
        "In this class we will talk primarily around **Cost Estimation** and **Adding Memory** to the application.\n",
        "\n",
        "<center><image src=\"https://deepchecks.com/wp-content/uploads/2024/09/img-cost-optimization-in-generative.jpg\" width=600/></center>\n",
        "\n",
        "### Cost Considerations:\n",
        "Cost in Generative AI projects can be categorized into three key components:\n",
        "- **Prompt Cost:**  A variable cost incurred each time a prompt is sent to the model, influenced by the frequency and complexity of user queries. Higher interaction rates lead to increased costs.\n",
        "\n",
        "- **Generation Cost:** The computational expense of generating responses, dependent on the model's processing power, the length of outputs, and response complexity. More detailed or lengthy responses require greater resources.\n",
        "\n",
        "- **Fixed Cost:** The baseline expense for infrastructure, storage, and maintenance to keep the model operational. This cost remains constant regardless of how frequently the model is used."
      ]
    },
    {
      "cell_type": "markdown",
      "metadata": {
        "id": "9lZ4ArumZr0B"
      },
      "source": [
        "### Cost Estimation Importance\n",
        "\n",
        "Cost calculation is crucial for building a Generative AI application due to the expense associated with running these models.Here's a breakdown of why it's so important:\n",
        "\n",
        "* **Budgeting:**   Enables realistic financial planning and expense prediction.\n",
        "* **Resources:** Cost understanding informs infrastructure planning and efficient scaling.\n",
        "* **Model Selection:** Cost analysis allows choosing the best price-performance model.\n",
        "* **Application Design:** Cost awareness guides prompt engineering and response management for optimization.\n",
        "* **Business:** Cost calculation is vital for pricing, ROI assessment, and overall viability.\n",
        "\n",
        "#### A General Cost Optimization Strategy\n",
        "\n",
        "Here are some high level guidelines on how one can optimize cost when building a GenAI application\n",
        "\n",
        "1. **Focus on Token Usage:**  Prompt and response length are the biggest cost drivers. Optimize for concise prompts and controlled response generation.\n",
        "\n",
        "2. **Strategic Model Selection:** Don't default to the largest model.  Choose the smallest model that meets your performance requirements.\n",
        "\n",
        "3. **Implement Caching:**  Caching frequently used prompts and responses dramatically reduces API calls and costs.\n",
        "\n",
        "4. **Continuous Monitoring:** Track your token usage and spending closely.  Identify cost spikes and areas for improvement.\n",
        "\n",
        "5. **Iterate and Experiment:** Cost optimization is an ongoing process.  Regularly test different strategies and adapt to changing needs.\n",
        "\n"
      ]
    },
    {
      "cell_type": "markdown",
      "metadata": {
        "id": "-lpx-O31aN-p"
      },
      "source": [
        "### Methodology for Review Genie\n",
        "\n",
        "Here's a simple strategy we'll use to estimate cost\n",
        " based on the above guidelines\n",
        "\n",
        "Step 1:  Identify the components in the overall architecture that incur an API cost due to token usage\n",
        "\n",
        "Step 2: Change models to ensure that we're using a more cost-efficient model that still ensures relevant responses\n",
        "\n",
        "Step 3: Efficient monitoring to restrict overall tokens and still maintain good user experience.\n",
        "\n",
        "Let's go through each of them"
      ]
    },
    {
      "cell_type": "markdown",
      "metadata": {
        "id": "EihQHJUwb94b"
      },
      "source": [
        "Our application contains 2 main components that call an LLM model/embedder\n",
        "\n",
        "- **Component 1** : The variable `embeddings` as mentioned above that stores the embeddings of the documents using OpenAI Embeddings in the FAISS vectorstore named `vector`\n",
        "\n",
        "*Reference Code*\n",
        "\n",
        "```\n",
        "documents = text_splitter.create_documents(product_description)\n",
        "\n",
        "# Create an embedding model using LangChain.\n",
        "# See https://python.langchain.com/docs/integrations/text_embedding/ for a list of available embedding models on LangChain\n",
        "embeddings = OpenAIEmbeddings()\n",
        "\n",
        "# Create a vector store using the created chuns and the embeddings model\n",
        "vector = FAISS.from_documents(documents, embeddings)\n",
        "```\n",
        "\n",
        "\n",
        "\n",
        "- **Component 2** : The `agent_executor`that contains the react_agent connected to the GPT 4o-mini LLM that answers the user queries\n",
        "\n",
        "*Reference Code*\n",
        "\n",
        "\n",
        "```\n",
        "agent_executor = AgentExecutor(\n",
        "    agent=react_agent,\n",
        "    tools=tools,\n",
        "    verbose=True,\n",
        "    handle_parsing_errors=True,\n",
        "    max_iterations = 5 # useful when agent is stuck in a loop\n",
        ")\n",
        "```\n",
        "\n",
        "\n",
        "\n",
        "*Note - For this discussion, we're not looking into tavily search cost and only focussing on LLM cost.*"
      ]
    },
    {
      "cell_type": "markdown",
      "metadata": {
        "id": "rEHe-LWneqjC"
      },
      "source": [
        "**Optimizing Cost for Component 1**\n",
        "\n",
        "- Method 1 - Choosing cheaper model\n",
        "\n",
        "Currently we are using OpenAI Embeddings to convert the documents. By default it uses the `text-embedding-ada-002` model.\n",
        "\n",
        "The other models and their prices are as shown below. [SOURCE](https://platform.openai.com/docs/guides/embeddings)"
      ]
    },
    {
      "cell_type": "markdown",
      "metadata": {
        "id": "7743Stodfy9c"
      },
      "source": [
        "![image.png](data:image/png;base64,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)"
      ]
    },
    {
      "cell_type": "markdown",
      "metadata": {
        "id": "ePJGvJVwgIGw"
      },
      "source": [
        "Now based on the above:\n",
        "- The most cost efficient model would be `text-embedding-3-small`\n",
        "- In fact we can also use open source embedding models such as\n",
        "    - [BERT](https://huggingface.co/docs/transformers/en/model_doc/bert)\n",
        "    - [Sentence Transformers (all-MiniLM-L6-v2)](https://huggingface.co/sentence-transformers/all-MiniLM-L6-v2)\n",
        "    - [BGE (BAAI General Embedding) Series](https://huggingface.co/BAAI/bge-large-en-v1.5)\n",
        "    - [NV-Embed-v2](https://huggingface.co/nvidia/NV-Embed-v2)\n",
        "    \n",
        "  and so on.\n",
        "\n",
        "  A compartive analysis of these models would help you understand the differences and choose them wisely.\n",
        "\n",
        "  <center><img src=\"https://assets.zilliz.com/Untitled_a6d5fa5d3e.png\" width=700/></center>"
      ]
    },
    {
      "cell_type": "markdown",
      "metadata": {
        "id": "wbeWynDsi8R9"
      },
      "source": [
        "For now, let's assume we go ahead with the `text-embedding-3-small` model. What would be the cost of embedding all the information present in `documents`using this model?\n",
        "\n",
        "This is where we need to count the tokens using TikToken (No connection to the social media app 😏)"
      ]
    },
    {
      "cell_type": "markdown",
      "metadata": {
        "id": "6UExpSRRmgRt"
      },
      "source": [
        "**Counting tokens using Tiktoken**\n",
        "\n",
        "Tiktoken is OpenAI's efficient tokenizer designed for their language models, using Byte-Pair Encoding (BPE) to split text into tokens. It operates 3-6x faster than alternatives and helps manage API costs by calculating token counts.  \n",
        "\n",
        "**Key Features**  \n",
        "- Supports multiple encodings:\n",
        "\n",
        "| Encoding      | Models Supported                             |\n",
        "|--------------|--------------------------------------------|\n",
        "| `cl100k_base` | GPT-4 Turbo, GPT-3.5 Turbo, text-embedding-3 |\n",
        "| `o200k_base`  | GPT-4o                                     |\n",
        "| `p50k_base`   | Legacy Codex/Davinci models                |\n",
        "| `r50k_base`   | Original GPT-3 models                      |\n",
        "\n",
        "- Cross-language compatibility:  \n",
        "  - **Python**, **Rust** (`tiktoken-rs`), and **JavaScript** (WASM/pure JS)  \n",
        "  \n",
        "- Core applications:  \n",
        "  1. API cost estimation via token counts  \n",
        "  2. Input validation for model context windows  \n",
        "  3. Debugging tokenization patterns  \n",
        "\n",
        "The tool syncs with OpenAI's model updates and is critical for preventing API errors from oversized inputs."
      ]
    },
    {
      "cell_type": "code",
      "execution_count": null,
      "metadata": {
        "colab": {
          "base_uri": "https://localhost:8080/"
        },
        "collapsed": true,
        "id": "SEbbP9GeYxkt",
        "outputId": "526bc298-24d1-4d6f-b396-1f2ff0f6ee77"
      },
      "outputs": [
        {
          "output_type": "stream",
          "name": "stdout",
          "text": [
            "Requirement already satisfied: tiktoken in /usr/local/lib/python3.11/dist-packages (0.8.0)\n",
            "Requirement already satisfied: regex>=2022.1.18 in /usr/local/lib/python3.11/dist-packages (from tiktoken) (2024.11.6)\n",
            "Requirement already satisfied: requests>=2.26.0 in /usr/local/lib/python3.11/dist-packages (from tiktoken) (2.32.3)\n",
            "Requirement already satisfied: charset-normalizer<4,>=2 in /usr/local/lib/python3.11/dist-packages (from requests>=2.26.0->tiktoken) (3.4.1)\n",
            "Requirement already satisfied: idna<4,>=2.5 in /usr/local/lib/python3.11/dist-packages (from requests>=2.26.0->tiktoken) (3.10)\n",
            "Requirement already satisfied: urllib3<3,>=1.21.1 in /usr/local/lib/python3.11/dist-packages (from requests>=2.26.0->tiktoken) (2.3.0)\n",
            "Requirement already satisfied: certifi>=2017.4.17 in /usr/local/lib/python3.11/dist-packages (from requests>=2.26.0->tiktoken) (2025.1.31)\n"
          ]
        }
      ],
      "source": [
        "!pip install tiktoken"
      ]
    },
    {
      "cell_type": "code",
      "execution_count": null,
      "metadata": {
        "colab": {
          "base_uri": "https://localhost:8080/"
        },
        "id": "SPBM-pJJYxnG",
        "outputId": "02f0b696-dcd2-4df5-a670-4849a38acd8f"
      },
      "outputs": [
        {
          "output_type": "stream",
          "name": "stdout",
          "text": [
            "Number of tokens: 6\n",
            "Tokens: [2028, 374, 264, 1296, 2246, 13]\n",
            "Decoded text: This is a test document.\n"
          ]
        }
      ],
      "source": [
        "import tiktoken\n",
        "\n",
        "# Example Code to see how tiktoken converts text to tokens and back\n",
        "# This cell demonstrates the basic usage of tiktoken for encoding and decoding text.\n",
        "encoding = tiktoken.encoding_for_model(\"text-embedding-3-small\") # Initialize the encoding for the text-embedding-ada-002 model\n",
        "\n",
        "text = \"This is a test document.\" # Example text\n",
        "tokens = encoding.encode(text) # Encode the text into tokens\n",
        "print(f\"Number of tokens: {len(tokens)}\") # Print the number of tokens\n",
        "print(f\"Tokens: {tokens}\") # Print the tokens themselves\n",
        "\n",
        "# To decode the tokens back to text\n",
        "decoded_text = encoding.decode(tokens) # Decode the tokens back into text\n",
        "print(f\"Decoded text: {decoded_text}\") # Print the decoded text\n",
        "\n"
      ]
    },
    {
      "cell_type": "code",
      "execution_count": null,
      "metadata": {
        "colab": {
          "base_uri": "https://localhost:8080/"
        },
        "id": "MwRJk274Lqzk",
        "outputId": "158ce25c-0fc8-464d-d8c3-831c7af20f20"
      },
      "outputs": [
        {
          "output_type": "stream",
          "name": "stdout",
          "text": [
            "\n",
            "Total number of tokens across all documents: 19\n"
          ]
        }
      ],
      "source": [
        "# Example usage with a list of documents:\n",
        "# This cell demonstrates how to count tokens across multiple documents.\n",
        "docs = [\n",
        "  \"This is the first document.\",\n",
        "  \"This is the second document.\",\n",
        "  \"And this is the third one.\"\n",
        "]\n",
        "total_tokens = 0 # Initialize the total token count\n",
        "for doc in docs:\n",
        "    tokens = encoding.encode(doc) # Encode each document into tokens\n",
        "    total_tokens += len(tokens) # Add the number of tokens to the total\n",
        "print(f\"\\nTotal number of tokens across all documents: {total_tokens}\") # Print the total token count"
      ]
    },
    {
      "cell_type": "markdown",
      "metadata": {
        "id": "0W9CkS0OMX0Q"
      },
      "source": [
        "Now, let's apply this to our 'product description' documents we created in the previous classes. Remember this code?\n",
        "\n",
        "`documents = text_splitter.create_documents(product_description)`"
      ]
    },
    {
      "cell_type": "code",
      "execution_count": null,
      "metadata": {
        "colab": {
          "base_uri": "https://localhost:8080/"
        },
        "id": "ew5DuSt8Yxs0",
        "outputId": "18458bd0-47bc-47d9-ed0e-81b329b03cf3"
      },
      "outputs": [
        {
          "output_type": "execute_result",
          "data": {
            "text/plain": [
              "Document(metadata={}, page_content='Title\\nArtzFolio Tulip Flowers Blackout Curtain for Door, Window & Room | Eyelets & Tie Back | Canvas Fabric | Width 4.5feet (54inch) Height 5 feet (60 inch); Set of 2 PCS')"
            ]
          },
          "metadata": {},
          "execution_count": 12
        }
      ],
      "source": [
        "## Using similar code to calculate the number of tokens in \"documents\"\n",
        "## Note that documents is a list\n",
        "## Let's investigate its structure first\n",
        "\n",
        "documents[0]"
      ]
    },
    {
      "cell_type": "code",
      "execution_count": null,
      "metadata": {
        "colab": {
          "base_uri": "https://localhost:8080/",
          "height": 35
        },
        "id": "lVkbop1qpq-X",
        "outputId": "f773ecb4-371b-4ffe-b810-056cd890d68b"
      },
      "outputs": [
        {
          "output_type": "execute_result",
          "data": {
            "text/plain": [
              "'Title\\nArtzFolio Tulip Flowers Blackout Curtain for Door, Window & Room | Eyelets & Tie Back | Canvas Fabric | Width 4.5feet (54inch) Height 5 feet (60 inch); Set of 2 PCS'"
            ],
            "application/vnd.google.colaboratory.intrinsic+json": {
              "type": "string"
            }
          },
          "metadata": {},
          "execution_count": 13
        }
      ],
      "source": [
        "## Extracting the page_content\n",
        "documents[0].page_content"
      ]
    },
    {
      "cell_type": "code",
      "execution_count": null,
      "metadata": {
        "colab": {
          "base_uri": "https://localhost:8080/"
        },
        "collapsed": true,
        "id": "unJz4tqlpyjl",
        "outputId": "6779bdf1-7456-4763-a6e9-58dd8b7cf437"
      },
      "outputs": [
        {
          "output_type": "execute_result",
          "data": {
            "text/plain": [
              "[3936,\n",
              " 198,\n",
              " 9470,\n",
              " 89,\n",
              " 37,\n",
              " 73267,\n",
              " 43316,\n",
              " 575,\n",
              " 52645,\n",
              " 5348,\n",
              " 412,\n",
              " 84657,\n",
              " 369,\n",
              " 25166,\n",
              " 11,\n",
              " 13956,\n",
              " 612,\n",
              " 10637,\n",
              " 765,\n",
              " 28929,\n",
              " 10145,\n",
              " 612,\n",
              " 59825,\n",
              " 6984,\n",
              " 765,\n",
              " 26782,\n",
              " 37407,\n",
              " 765,\n",
              " 25650,\n",
              " 220,\n",
              " 19,\n",
              " 13,\n",
              " 20,\n",
              " 1897,\n",
              " 295,\n",
              " 320,\n",
              " 4370,\n",
              " 37850,\n",
              " 8,\n",
              " 22147,\n",
              " 220,\n",
              " 20,\n",
              " 7693,\n",
              " 320,\n",
              " 1399,\n",
              " 17560,\n",
              " 1237,\n",
              " 2638,\n",
              " 315,\n",
              " 220,\n",
              " 17,\n",
              " 92197]"
            ]
          },
          "metadata": {},
          "execution_count": 14
        }
      ],
      "source": [
        "#Calculating its embedding\n",
        "encoding.encode(documents[0].page_content)"
      ]
    },
    {
      "cell_type": "code",
      "execution_count": null,
      "metadata": {
        "colab": {
          "base_uri": "https://localhost:8080/"
        },
        "id": "UTW8rG3HqBSp",
        "outputId": "8721ee2e-eb00-45e3-f029-8f9657253014"
      },
      "outputs": [
        {
          "output_type": "execute_result",
          "data": {
            "text/plain": [
              "52"
            ]
          },
          "metadata": {},
          "execution_count": 15
        }
      ],
      "source": [
        "## Calculating the number of tokens\n",
        "\n",
        "len(encoding.encode(documents[0].page_content))"
      ]
    },
    {
      "cell_type": "code",
      "execution_count": null,
      "metadata": {
        "id": "VM5mJV0NoqSS"
      },
      "outputs": [],
      "source": [
        "## Calculate the tokens in all the documents\n",
        "token_counts = []\n",
        "for doc in documents:\n",
        "    page_content = doc.page_content\n",
        "    encoding = tiktoken.encoding_for_model(\"text-embedding-3-small\")\n",
        "    token_count = len(encoding.encode(page_content))\n",
        "    token_counts.append(token_count)"
      ]
    },
    {
      "cell_type": "code",
      "execution_count": null,
      "metadata": {
        "colab": {
          "base_uri": "https://localhost:8080/"
        },
        "collapsed": true,
        "id": "a5kegX05oqUW",
        "outputId": "4b9e9861-748f-4e12-87c1-88883649f5e9"
      },
      "outputs": [
        {
          "output_type": "stream",
          "name": "stdout",
          "text": [
            "[52, 25, 25, 62, 22, 25, 79, 50, 40, 15, 52, 56, 48, 46, 29, 11, 30, 68, 56, 59, 63, 60, 67, 56, 20, 36, 48, 47, 36, 11, 24, 29, 47, 49, 49, 14, 13, 25, 25, 15, 36, 36, 67, 58, 54, 46, 23, 13, 10, 19, 62, 13, 16, 20, 57, 63, 67, 68, 22, 24, 87, 67, 38, 42, 52, 45, 10, 35, 49, 46, 60, 69, 74, 73, 47, 44, 50, 44, 51, 29, 11, 22, 30, 56, 70, 53, 67, 48, 48, 44, 22, 15, 53, 17, 47, 28, 16, 6, 28, 47, 49, 64, 8, 8, 25, 52, 32, 46, 40, 62, 64, 62, 78, 69, 11, 16, 8, 25, 19, 11, 28, 33, 20, 44, 42, 22, 18, 67, 50, 83, 112, 4, 54, 60, 70, 53, 57, 7, 11, 45, 51, 51, 51, 4, 14, 37, 12, 33, 63, 65, 62, 62, 79, 24, 19, 56, 42, 51, 37, 28, 22, 54, 53, 40, 16, 43, 46, 22, 57, 52, 66, 53, 57, 45, 25, 50, 53, 47, 22, 10, 25, 43, 46, 45, 44, 44, 48, 48, 24, 17, 11, 21, 51, 51, 32, 12, 27, 24, 57, 101, 103, 101, 103, 56, 8, 19, 35, 11, 28, 44, 54, 65, 54, 44, 53, 75, 22, 67, 81, 63, 11, 44, 60, 62, 76, 47, 34, 29, 6, 23, 54, 58, 24, 13, 41, 38]\n"
          ]
        }
      ],
      "source": [
        "# Check the number of tokens in each document\n",
        "print(token_counts)"
      ]
    },
    {
      "cell_type": "code",
      "execution_count": null,
      "metadata": {
        "colab": {
          "base_uri": "https://localhost:8080/"
        },
        "id": "LTyapP2WoqWL",
        "outputId": "62c2d94c-2e92-490e-e247-1b0b11aa11dd"
      },
      "outputs": [
        {
          "output_type": "stream",
          "name": "stdout",
          "text": [
            "9878\n"
          ]
        }
      ],
      "source": [
        "# Calculate the sum of tokens in all the documents\n",
        "total_tokens = sum(token_counts)\n",
        "print(total_tokens)"
      ]
    },
    {
      "cell_type": "markdown",
      "metadata": {
        "id": "kNtXzgjaqjyf"
      },
      "source": [
        "#### Observations and Inferences\n",
        "\n",
        "- So, our original `documents` will be embedded to roughly 9878 tokens by the `text-embedding-3-small` model\n",
        "- Based on the pricing table mentioned above, these many tokens convert to nearly 12.3475 pages (assuming ~800 tokens per page)\n",
        "- Let's do a quick cost calculation"
      ]
    },
    {
      "cell_type": "code",
      "execution_count": null,
      "metadata": {
        "colab": {
          "base_uri": "https://localhost:8080/"
        },
        "id": "9LFz7caToqbm",
        "outputId": "9933adaf-13ca-40ab-8ce6-033bdc045de7"
      },
      "outputs": [
        {
          "output_type": "execute_result",
          "data": {
            "text/plain": [
              "0.00019756"
            ]
          },
          "metadata": {},
          "execution_count": 19
        }
      ],
      "source": [
        "## Cost calculation of embedding the above tokens\n",
        "cost_embed_tokens = 12.3475/62500\n",
        "cost_embed_tokens"
      ]
    },
    {
      "cell_type": "markdown",
      "metadata": {
        "id": "YblBl-ANrdNZ"
      },
      "source": [
        "Therefore, it costs around $ 0.0002 to embed these documents each time.\n",
        "\n",
        "Very very minimal cost, but let's remember that we only took a very small sample of the original Amazon Products Dataset (around 100 rows).\n",
        "<hr>\n",
        "\n",
        "## Work on this guesstimate.....\n",
        "#### What is the cost if the dataset contains 1000 rows?????\n",
        "#### What is the cost if the dataset contains 10000 rows?????\n",
        "#### What is the cost if the dataset contains 100000 rows?????\n",
        "#### What is the cost if the dataset contains 1000000 rows?????\n",
        "\n",
        "The actual dataset contained 2 million rows. Hence if we do a rough guesstimation, it may cost as high as $40-50 to embed all the documents.\n",
        "\n",
        "This is also not a huge cost, but does it make practical sense to:\n",
        "- Pay this cost everytime you run this application?\n",
        "- Won't the app become slow and memory crash due to huge amount of rows?\n",
        "- What's a better way to do this?\n",
        "\n",
        "This is where a persistent Vector Database will help us!"
      ]
    },
    {
      "cell_type": "markdown",
      "metadata": {
        "id": "PO3q_HCys58U"
      },
      "source": [
        "- Method 2: Store the vectorstore locally in a vector database\n",
        "\n",
        "The vectorstore that we created for the `documents` i.e. `vector` is stored in the memory and not written to the hard disk yet. An efficient method would be to save this vector store locally so that we don't have to recreate it everytime. This way even we pay a high upfront cost, it will be a one-time event only.\n",
        "\n",
        "<center><img src=\"https://python.langchain.com/v0.1/assets/images/vector_stores-125d1675d58cfb46ce9054c9019fea72.jpg\" width=500/></center>\n",
        "\n",
        "Let's save the FAISS vector index in your google drive. As we have already mounted the drive for loading the dataset, let's go ahead and create the vector store in the drive."
      ]
    },
    {
      "cell_type": "code",
      "execution_count": null,
      "metadata": {
        "id": "HzGAeXoKrvRe"
      },
      "outputs": [],
      "source": [
        "## Save the index in sub-folder faiss_index\n",
        "# vector.save_local(\"/content/drive/MyDrive/VectorDB/faiss_index\")\n",
        "vector.save_local(\"/content/drive/MyDrive/IK/faiss_index\")"
      ]
    },
    {
      "cell_type": "markdown",
      "metadata": {
        "id": "hiFt8rq6vB-H"
      },
      "source": [
        "As shown below a folder would be created with `index.faiss` and `index.pkl` files"
      ]
    },
    {
      "cell_type": "markdown",
      "metadata": {
        "id": "Q5abTz2yuz7l"
      },
      "source": [
        "![image.png](data:image/png;base64,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)"
      ]
    },
    {
      "cell_type": "markdown",
      "metadata": {
        "id": "enPTE09lvZ5i"
      },
      "source": [
        "If we want to load this index, we can do this easily as well"
      ]
    },
    {
      "cell_type": "code",
      "execution_count": null,
      "metadata": {
        "id": "nbvmXuFzrvTa"
      },
      "outputs": [],
      "source": [
        "## Loading this vector_store\n",
        "# new_vector = FAISS.load_local(\n",
        "#     \"/content/drive/MyDrive/VectorDB/faiss_index\", embeddings, allow_dangerous_deserialization=True\n",
        "# )\n",
        "new_vector = FAISS.load_local(\n",
        "    \"/content/drive/MyDrive/IK/faiss_index\", embeddings, allow_dangerous_deserialization=True\n",
        ")"
      ]
    },
    {
      "cell_type": "code",
      "execution_count": null,
      "metadata": {
        "colab": {
          "base_uri": "https://localhost:8080/"
        },
        "id": "56AqwXLQrvWx",
        "outputId": "6d4a9a38-5b57-4748-8c11-c56e5bbd60bc"
      },
      "outputs": [
        {
          "output_type": "execute_result",
          "data": {
            "text/plain": [
              "[Document(id='ff1e9f14-1bea-4a51-a4f9-dc0abad92b07', metadata={}, page_content=\"Title\\nadidas Men's Predator 18+ FG Firm Ground Soccer Cleats\\nDescription\\nadidas Predator 18+ FG- Black 7.5\"),\n",
              " Document(id='32561428-c1a3-4e9e-8929-3dcd5c6dd17d', metadata={}, page_content=\"Title\\nKenneth Cole REACTION Men's Crespo Loafer B Shoe, Cognac, 10 M US\"),\n",
              " Document(id='af17ad7a-7e1d-4165-a5c8-02996222482c', metadata={}, page_content=\"Title\\nMad Rock Remora Climbing Shoe - Men's Blue 9.5\\nDescription\"),\n",
              " Document(id='321adb9b-9da0-4c00-970a-aea4c728e3c2', metadata={}, page_content=\"The Remora Climbing Shoe is Mad Rock's do-it-all slipper for climbers who can't have separate shoes for boulders, sport routes, and gyms. With a moderately stiff, slightly downturned design, the Remora performs on any climb at steep to vertical\")]"
            ]
          },
          "metadata": {},
          "execution_count": 23
        }
      ],
      "source": [
        "## Perform a quick vector similarity search to verify\n",
        "new_docs = new_vector.similarity_search(\"What are some of the best shoes in Amazon\")\n",
        "new_docs"
      ]
    },
    {
      "cell_type": "markdown",
      "metadata": {
        "id": "QuYXBi08wM4k"
      },
      "source": [
        "This is the same result that we were getting earlier in Week 1. Remember?"
      ]
    },
    {
      "cell_type": "markdown",
      "metadata": {
        "id": "u8rKU2HpwgdJ"
      },
      "source": [
        "With this we saw how to store vector DBs locally. You can further perform read and write operations on this database.\n",
        "\n",
        "Check the documentation - https://python.langchain.com/docs/integrations/vectorstores/faiss/\n",
        "\n",
        "There are other Vector DBs that can be checked out:\n",
        "- [Chroma](https://python.langchain.com/docs/integrations/retrievers/self_query/chroma_self_query/)\n",
        "- [Pinecone](https://python.langchain.com/docs/integrations/vectorstores/pinecone/)\n",
        "- [Weaviate](https://python.langchain.com/docs/integrations/vectorstores/weaviate/)\n",
        "\n",
        "A comparitive study helps here as well.\n",
        "<center><img src=\"https://miro.medium.com/v2/resize:fit:1400/0*ed-eBYgYzdeIQNTn\" width=600/></center>"
      ]
    },
    {
      "cell_type": "markdown",
      "source": [
        "- Multi-tenancy:\n",
        "    - Software architecture pattern where a single instance of a system serves multiple customers, or tenants, simultaneously, with some form of data isolation ensuring privacy and security between tenants.  \n",
        "    - It enables you to share infrastructure and operational overhead across customers, *reducing costs* and simplifying system management.\n",
        "    - See https://www.pinecone.io/learn/series/vector-databases-in-production-for-busy-engineers/vector-database-multi-tenancy/\n",
        "- Hybrid search:\n",
        "    - Technique that combines multiple search algorithms to improve the accuracy and relevance of search results. It uses the best features of both keyword-based search algorithms with vector search techniques. By leveraging the strengths of different algorithms, it provides a more effective search experience for users. See https://weaviate.io/blog/hybrid-search-explained"
      ],
      "metadata": {
        "id": "_rWOhgEfpW58"
      }
    },
    {
      "cell_type": "markdown",
      "metadata": {
        "id": "GeijGL_e1ctm"
      },
      "source": [
        "With this we have now completed the first component's optimization. There are a few other techniques like caching that you can research as well.\n",
        "\n",
        "Reference - https://huyenchip.com/2024/07/25/genai-platform.html"
      ]
    },
    {
      "cell_type": "markdown",
      "metadata": {
        "id": "GqzlL29E25Bl"
      },
      "source": [
        "**Optimizing Estimation for Component 2**\n",
        "\n",
        "For Component 2, we'll primarily take a look at the number of generated tokens for some standard search queries and try and estimate the maximum tokens required. This is where the concept of `context window` and `output tokens` or `completion tokens` become useful."
      ]
    },
    {
      "cell_type": "markdown",
      "metadata": {
        "id": "VEN1QZYn4g6G"
      },
      "source": [
        "We are using GPT-4o-mini as the primary LLM above as referenced in the code below:\n",
        "```\n",
        "llm = ChatOpenAI(model = 'gpt-4o-mini', temperature = 0)\n",
        "react_agent = create_react_agent(\n",
        "    llm=llm,  # The OpenAI model responsible for reasoning and response generation.\n",
        "    tools=tools,  # A list of external tools (e.g., web search, product retrieval).\n",
        "    prompt=prompt  # The ReAct-style prompt guiding the agent's thought process.\n",
        ")\n",
        "# executes the logical steps we created\n",
        "agent_executor = AgentExecutor(\n",
        "    agent=react_agent,\n",
        "    tools=tools,\n",
        "    verbose=True,\n",
        "    handle_parsing_errors=True,\n",
        "    max_iterations = 5 # useful when agent is stuck in a loop\n",
        ")\n",
        "```\n",
        "\n"
      ]
    },
    {
      "cell_type": "markdown",
      "metadata": {
        "id": "jcqG__Ox5MFo"
      },
      "source": [
        "Now GPT-4o-mini's pricing is as follows (source - https://openai.com/api/pricing/):\n",
        "\n",
        "Input:\n",
        "$0.150 / 1M tokens\n",
        "\n",
        "Output:\n",
        "$0.600 / 1M tokens\n",
        "\n",
        "The model has a 128k context window and a 16k output token (completion token) limit.\n",
        "\n",
        "Therefore, if we keep our queries within the above limits, we should be able to manage our application perfectly"
      ]
    },
    {
      "cell_type": "markdown",
      "metadata": {
        "id": "Z4oJOz0G6OlI"
      },
      "source": [
        "- Measuring tokens for `Agent_Executor` using OpenAI Callbacks:\n",
        "\n",
        "To measure the number of input tokens and completion tokens generated inside the agent executor we will be using a different method as compared to the previous one (using Tiktoken) called OpenAI callback.\n",
        "\n",
        "This method is as suggested as per LangChain's documentation for OpenAI API calls and can be accessed here - https://python.langchain.com/v0.1/docs/modules/model_io/llms/token_usage_tracking/"
      ]
    },
    {
      "cell_type": "code",
      "execution_count": null,
      "metadata": {
        "id": "K9S3JZXH5Azv"
      },
      "outputs": [],
      "source": [
        "## Necessary imports\n",
        "from langchain_community.callbacks import get_openai_callback"
      ]
    },
    {
      "cell_type": "code",
      "execution_count": null,
      "metadata": {
        "colab": {
          "base_uri": "https://localhost:8080/"
        },
        "id": "W-l_SSdA5Azw",
        "outputId": "348e72e4-c645-43c0-97d2-ceb3df4c3e82"
      },
      "outputs": [
        {
          "output_type": "stream",
          "name": "stdout",
          "text": [
            "\n",
            "\n",
            "\u001b[1m> Entering new AgentExecutor chain...\u001b[0m\n",
            "\u001b[32;1m\u001b[1;3mTo answer the question about installing backsplash wallpaper and to find some brands available on Amazon, I will first search for installation instructions and tips. Then, I will look for brands of backsplash wallpaper on Amazon.\n",
            "\n",
            "Action: search_tavily  \n",
            "Action Input: \"how to install backsplash wallpaper\"  \u001b[0m\u001b[36;1m\u001b[1;3m[{'url': 'https://www.backsplashkitchen.com/how-to-install-wallpaper-backsplash/', 'content': 'How to Install Wallpaper Backsplash - Backsplash Kitchen How to Install Wallpaper Backsplash Apply an even coat of heavy-duty wallpaper adhesive directly onto the backsplash surface using a paint roller or wide brush. Once the wallpaper is fully adhered, apply an acrylic wallpaper primer/sealer over the entire backsplash surface. With careful prep and installation, your new wallpaper backsplash will provide a beautiful focal point in your kitchen or bathroom for years to come! What type of wall surface works best for a wallpaper backsplash? Should I apply primer before installing wallpaper on a backsplash? How do I cut wallpaper cleanly on an uneven or textured surface? How soon can I use my backsplash after installing wallpaper?'}, {'url': 'https://gadyhomes.com/peel-and-stick-wallpaper-for-an-easy-backsplash-upgrade/', 'content': \"To make your easy peel and stick backsplash install a success, you need the right tools and materials. A step-by-step backsplash wallpaper project requires careful attention and the right tools for a professional look. You'll need a measuring tape, scissors or a utility knife, a smoothing tool, and cleaning supplies.\"}, {'url': 'https://thehomesihavemade.com/how-to-wallpaper-a-backsplash/', 'content': 'I personally recommending using peel-and-stick wallpaper or heavy-duty contact paper for backsplashes because they are both durable (easy to wipe clean) and removable (it just peels right off!) Wallpaper can be expensive, so I highly recommend spending a considerable amount of time planning out exactly how you will apply the paper to your backsplash (and other areas) before you even start cutting and peeling. NOTE: If your backsplash area doesn’t have any large or unique features to work around, you can likely skip this step and set right to hanging your larger cuts of paper directly to the wall.'}, {'url': 'https://www.delineateyourdwelling.com/how-to-install-a-removable-wallpaper-backsplash/', 'content': 'How to install a Removable Wallpaper Backsplash - Delineate Your Dwelling Home / DIY / How to install a Removable Wallpaper Backsplash How to install a Removable Wallpaper Backsplash INSIDE : Learn how to completely transform your kitchen by installing a removable wallpaper backsplash. – How to install a Removable Wallpaper Backsplash What supplies do I need to\\xa0install a Removable Wallpaper Backsplash? How to\\xa0install a Removable Wallpaper Backsplash in your kitchen The first item to take care of when installing a removable wallpaper backsplash is prepping your existing backsplash and/or wall. It’s time to start measuring and cutting your removable wallpaper now! Install Removable Wallpaper Backsplash in Your Kitchen Learn how to completely transform your kitchen by installing a removable wallpaper backsplash.'}, {'url': 'https://www.neathousesweethome.com/peel-and-stick-wallpaper-backsplash-kitchen/', 'content': 'What Is The Best Peel and Stick Wallpaper for a Kitchen Backsplash? This is my second time installing peel-and-stick wallpaper tile. For the first time, I used a peel-and-stick wallpaper in a hexagonal tile design as a backsplash in our laundry room. So considering that installing the hexagonal peel-and-stick wallpaper was tricky and that the RoomMates Sticktiles started to peel, I picked a different brand for the kitchen nook backsplash. This time, I chose this Art3D peel-and-stick subway tile wallpaper, a trendy kitchen backsplash. Use peel-and-stick tile to cover small areas. I hope I inspired you to add some wallpaper or peel-and-stick backsplash to your kitchen or any other nook in your home that needs a little pizzazz!'}]\u001b[0m\u001b[32;1m\u001b[1;3mI have gathered several resources on how to install backsplash wallpaper, including tips and tools needed for the installation. Now, I will search for brands of backsplash wallpaper available on Amazon.\n",
            "\n",
            "Action: amazon_product_search  \n",
            "Action Input: \"backsplash wallpaper\"  \u001b[0m\u001b[33;1m\u001b[1;3mout the size you want. &nbsp;</strong><br><strong>3.Use dishcloth or card to remove any air bubbles.&nbsp;</strong><br><br><strong>Package Included: &nbsp;</strong><br><strong>1 × Kitchen Backsplash Wallpaper&nbsp;</strong><br><br><strong>100%\n",
            "\n",
            "Title\n",
            "Delavala Self Adhesive Kitchen Backsplash Wallpaper, Oil Proof Aluminum Foil Kitchen Sticker (Sliver 5(Mtr))\n",
            "Description\n",
            "\n",
            "Title\n",
            "Printed Vinyl Mobile Wrap Compatible with OnePlus 9R Skin Sticker Protector for Back Only - Blue Gold Marble-10 (with Matte Lamination)\n",
            "Description\n",
            "\n",
            "Title\n",
            "PosterHub Pink Floyd The Wall Poster Matte Finish Paper Print 12 x18 Inch (Multicolor) HS - P076\n",
            "Description\u001b[0m\u001b[32;1m\u001b[1;3mI have gathered several resources on how to install backsplash wallpaper, including tips and tools needed for the installation. Now, I will search for brands of backsplash wallpaper available on Amazon.\n",
            "\n",
            "Action: amazon_product_search  \n",
            "Action Input: \"backsplash wallpaper\"  \u001b[0m\u001b[33;1m\u001b[1;3mout the size you want. &nbsp;</strong><br><strong>3.Use dishcloth or card to remove any air bubbles.&nbsp;</strong><br><br><strong>Package Included: &nbsp;</strong><br><strong>1 × Kitchen Backsplash Wallpaper&nbsp;</strong><br><br><strong>100%\n",
            "\n",
            "Title\n",
            "Delavala Self Adhesive Kitchen Backsplash Wallpaper, Oil Proof Aluminum Foil Kitchen Sticker (Sliver 5(Mtr))\n",
            "Description\n",
            "\n",
            "Title\n",
            "Printed Vinyl Mobile Wrap Compatible with OnePlus 9R Skin Sticker Protector for Back Only - Blue Gold Marble-10 (with Matte Lamination)\n",
            "Description\n",
            "\n",
            "Title\n",
            "PosterHub Pink Floyd The Wall Poster Matte Finish Paper Print 12 x18 Inch (Multicolor) HS - P076\n",
            "Description\u001b[0m\u001b[32;1m\u001b[1;3mI need to refine my search for backsplash wallpaper brands on Amazon, as the previous results were not relevant. \n",
            "\n",
            "Action: amazon_product_search  \n",
            "Action Input: \"backsplash wallpaper brands\"  \u001b[0m\u001b[33;1m\u001b[1;3mTitle\n",
            "Delavala Self Adhesive Kitchen Backsplash Wallpaper, Oil Proof Aluminum Foil Kitchen Sticker (Sliver 5(Mtr))\n",
            "Description\n",
            "\n",
            "out the size you want. &nbsp;</strong><br><strong>3.Use dishcloth or card to remove any air bubbles.&nbsp;</strong><br><br><strong>Package Included: &nbsp;</strong><br><strong>1 × Kitchen Backsplash Wallpaper&nbsp;</strong><br><br><strong>100%\n",
            "\n",
            "home decor manufacturer for over 7 years. we has dedicated to First-Class quality home decor Pillow covers, bringing a touch of freshness and warmth to your Home.<br> We are dedicated to enhancing your purchasing experience and offer a no questions\n",
            "\n",
            "Title\n",
            "Printed Vinyl Mobile Wrap Compatible with OnePlus 9R Skin Sticker Protector for Back Only - Blue Gold Marble-10 (with Matte Lamination)\n",
            "Description\u001b[0m\u001b[32;1m\u001b[1;3mI need to refine my search for backsplash wallpaper brands on Amazon, as the previous results were not relevant.\n",
            "\n",
            "Action: amazon_product_search  \n",
            "Action Input: \"popular backsplash wallpaper\"  \u001b[0m\u001b[33;1m\u001b[1;3mout the size you want. &nbsp;</strong><br><strong>3.Use dishcloth or card to remove any air bubbles.&nbsp;</strong><br><br><strong>Package Included: &nbsp;</strong><br><strong>1 × Kitchen Backsplash Wallpaper&nbsp;</strong><br><br><strong>100%\n",
            "\n",
            "Title\n",
            "Delavala Self Adhesive Kitchen Backsplash Wallpaper, Oil Proof Aluminum Foil Kitchen Sticker (Sliver 5(Mtr))\n",
            "Description\n",
            "\n",
            "Title\n",
            "Printed Vinyl Mobile Wrap Compatible with OnePlus 9R Skin Sticker Protector for Back Only - Blue Gold Marble-10 (with Matte Lamination)\n",
            "Description\n",
            "\n",
            "Title\n",
            "PosterHub Pink Floyd The Wall Poster Matte Finish Paper Print 12 x18 Inch (Multicolor) HS - P076\n",
            "Description\u001b[0m\u001b[32;1m\u001b[1;3m\u001b[0m\n",
            "\n",
            "\u001b[1m> Finished chain.\u001b[0m\n",
            "Total Tokens: 6019\n",
            "Prompt Tokens: 5787\n",
            "Completion Tokens: 232\n",
            "Total Cost (USD): $0.0008248499999999999\n"
          ]
        }
      ],
      "source": [
        "## Running an example query and calculating the tokens\n",
        "with get_openai_callback() as cb:\n",
        "   agent_executor.agent.stream_runnable = False\n",
        "   response = agent_executor.invoke({\"input\": \"How to install Backsplash Wallpaper? Also find some brands on Amazon\"})\n",
        "   print(f\"Total Tokens: {cb.total_tokens}\")\n",
        "   print(f\"Prompt Tokens: {cb.prompt_tokens}\")\n",
        "   print(f\"Completion Tokens: {cb.completion_tokens}\")\n",
        "   print(f\"Total Cost (USD): ${cb.total_cost}\")"
      ]
    },
    {
      "cell_type": "markdown",
      "metadata": {
        "id": "cxUM4dZx7m6e"
      },
      "source": [
        "Observations:\n",
        "- `Total Tokens` indicate the total number of tokens used\n",
        "- `Prompt Tokens` are the input tokens\n",
        "- `Completion Tokens` are the output tokens\n",
        "- `Total cost` incurred is provided in USD"
      ]
    },
    {
      "cell_type": "code",
      "execution_count": null,
      "metadata": {
        "colab": {
          "base_uri": "https://localhost:8080/"
        },
        "id": "Yqw5iU_b5Azx",
        "outputId": "89f12621-8e5e-4fa9-b592-d450b9c4e5f6"
      },
      "outputs": [
        {
          "output_type": "execute_result",
          "data": {
            "text/plain": [
              "0.0008680499999999999"
            ]
          },
          "metadata": {},
          "execution_count": 12
        }
      ],
      "source": [
        "## Quick calculation verification\n",
        "## Input Cost calculation\n",
        "input_cost_per_million_tokens = 0.150\n",
        "number_of_input_tokens = 5787\n",
        "input_cost = input_cost_per_million_tokens * (number_of_input_tokens/1000000)\n",
        "input_cost"
      ]
    },
    {
      "cell_type": "code",
      "execution_count": null,
      "metadata": {
        "colab": {
          "base_uri": "https://localhost:8080/"
        },
        "id": "z4YUA7G48h-i",
        "outputId": "cad50f8c-a9fd-4fb8-fca5-3afa2655eb74"
      },
      "outputs": [
        {
          "output_type": "execute_result",
          "data": {
            "text/plain": [
              "0.0001392"
            ]
          },
          "metadata": {},
          "execution_count": 13
        }
      ],
      "source": [
        "# Output cost calculation\n",
        "output_cost_per_million_tokens = 0.600\n",
        "number_of_output_tokens = 232 # Use the value from the callback\n",
        "output_cost = output_cost_per_million_tokens * (number_of_output_tokens / 1000000)\n",
        "output_cost"
      ]
    },
    {
      "cell_type": "code",
      "execution_count": null,
      "metadata": {
        "colab": {
          "base_uri": "https://localhost:8080/"
        },
        "id": "yLYs6yON8r7l",
        "outputId": "7407348d-1903-4ef0-af3f-20d068313e87"
      },
      "outputs": [
        {
          "output_type": "execute_result",
          "data": {
            "text/plain": [
              "0.00100725"
            ]
          },
          "metadata": {},
          "execution_count": 14
        }
      ],
      "source": [
        "## Total cost calculation\n",
        "total_cost = input_cost + output_cost\n",
        "total_cost"
      ]
    },
    {
      "cell_type": "markdown",
      "metadata": {
        "id": "rT1SPy0n9rdy"
      },
      "source": [
        "As we can see this matches the number as given by the `get_openai_callback` method. Note - Sometimes, the values might be off by 10-15%."
      ]
    },
    {
      "cell_type": "markdown",
      "metadata": {
        "id": "9kF4Fp8w-CN-"
      },
      "source": [
        "A good strategy to optimize cost in the long run is to run the `agent_executor `for ***n*** number of expected queries and then observe the variability in the generation of output tokens. This way we can cap the the maximum amount of completion tokens that should be generated without compromising the quality of response when this application is getting scaled.\n",
        "\n",
        "Let's take n=10 and monitor the costs' variability. Here are steps that our code should do:\n",
        "\n",
        "1. **Define queries:** Sets up a list of questions as our `query-set` to be processed.\n",
        "2. **Prepare for results:** Creates an empty list to store query outcomes.\n",
        "3. **Process each query:** Loops through each question, sending it to an LLM agent.\n",
        "4. **Capture cost/usage:** Tracks token usage and cost for each query.\n",
        "5. **Store results:** Saves the query, response, and cost data.\n",
        "6. **Organize data:** Creates a table (DataFrame) for easy analysis.\n"
      ]
    },
    {
      "cell_type": "code",
      "execution_count": null,
      "metadata": {
        "colab": {
          "base_uri": "https://localhost:8080/"
        },
        "collapsed": true,
        "id": "twEVc8aawMJL",
        "outputId": "81d4570a-5e51-4a7c-9eab-4f76d9b257f0"
      },
      "outputs": [
        {
          "output_type": "stream",
          "name": "stdout",
          "text": [
            "\n",
            "\n",
            "\u001b[1m> Entering new AgentExecutor chain...\u001b[0m\n",
            "\u001b[32;1m\u001b[1;3mTo summarize the history of artificial intelligence, I need to gather information about its key developments, milestones, and influential figures. This will likely involve searching for a comprehensive overview of AI's evolution from its inception to the present day. \n",
            "\n",
            "Action: search_tavily  \n",
            "Action Input: \"history of artificial intelligence summary\"  \u001b[0m\u001b[36;1m\u001b[1;3m[{'url': 'https://bpb-us-w2.wpmucdn.com/sites.uab.edu/dist/6/536/files/2024/08/A-brief-history-of-AI.pdf', 'content': 'https://doi.org/10.1177/0008125619864925 https://doi.org/10.1177/0008125619864925 California Management Review 2019, Vol. 61(4) 5\\xad –14 © The Regents of the University of California 2019 Article reuse guidelines: sagepub.com/journals-permissions DOI: 10.1177/0008125619864925 journals.sagepub.com/home/cmr 5 Special Issue on AI A Brief History of Artificial Intelligence: On the Past, Present, and Future of Artificial Intelligence Michael Haenlein1 and Andreas Kaplan2 SUMMARY This introduction to this special issue discusses artificial intelligence (AI), commonly defined as “a system’s ability to interpret external data correctly, to learn from such data, and to use those learnings to achieve specific goals and tasks through flexible adaptation.” It summarizes seven articles published in this special issue that present a wide variety of perspectives on AI, authored by several of the world’s leading experts and specialists in AI.'}, {'url': 'https://www.britannica.com/science/history-of-artificial-intelligence', 'content': 'Ask the Chatbot Games & Quizzes History & Society Science & Tech Biographies Animals & Nature Geography & Travel Arts & Culture ProCon Money Videos history of artificial intelligence (AI), a survey of important events and people in the field of artificial intelligence (AI) from the early work of British logician Alan Turing in the 1930s to advancements at the turn of the 21st century. In 1970 Marvin Minsky and Seymour Papert of the MIT AI Laboratory proposed that, likewise, AI research should focus on developing programs capable of intelligent behavior in simpler artificial environments known as microworlds.'}, {'url': 'https://www.coursera.org/articles/history-of-ai', 'content': 'The History of AI: A Timeline of Artificial Intelligence | Coursera AI and Machine Learning The computer scientist Geoffrey Hinton began exploring the idea of neural networks (an AI system built to process data in a manner similar to the human brain) while working on his PhD in the 1970s. Hinton’s work on neural networks and deep learning—the process by which an AI system learns to process a vast amount of data and make accurate predictions—has been foundational to AI processes such as natural language processing and speech recognition. Despite that, AlphaGO, an artificial intelligence program created by the AI research lab Google DeepMind, went on to beat Lee Sedol, one of the best players in the world, in 2016.'}, {'url': 'https://courses.cs.washington.edu/courses/csep590/06au/projects/history-ai.pdf', 'content': \"1 The History of Artificial Intelligence History of Computing CSEP 590A University of Washington December 2006 Introduction – Chris Smith The Turing Test – Brian McGuire History of AI applied to Chess – Chris Smith Expert Systems – Ting Huang AI Winter and its lessons – Gary Yang Japan's Fifth Generation Computer System project – Chris Smith Conclusion – Chris Smith 2 Table of Contents Introduction .................................................................................................................................................. While the Turing Test is a grand challenge to ascertain machine intelligence, chess too is a good pursuit, one which fortunately has been ‘solved’ by AI researchers; producing programs which can rival if not best the world’s best chess players.\"}, {'url': 'https://ourworldindata.org/brief-history-of-ai', 'content': 'Just as striking as the advances of image-generating AIs is the rapid development of systems that parse and respond to human language. The rise of artificial intelligence over the last 8 decades: As training computation has increased, AI systems have become more powerful8 The visualization shows that as training computation has increased, AI systems have become more and more powerful. On the contrary, particularly over the course of the last decade, the fundamental trends have accelerated: investments in AI technology have rapidly increased, and the doubling time of training computation has shortened to just six months. Scaling up the size of neural networks — in terms of the number of parameters and the amount of training data and computation — has led to surprising increases in the capabilities of AI systems.'}]\u001b[0m\u001b[32;1m\u001b[1;3mI have gathered several sources that provide a comprehensive overview of the history of artificial intelligence, including key figures, milestones, and developments. \n",
            "\n",
            "1. **Early Foundations**: The history of AI can be traced back to the 1930s with British logician Alan Turing, who laid the groundwork for computational theory and the concept of machine intelligence.\n",
            "\n",
            "2. **The Birth of AI**: The term \"artificial intelligence\" was coined in 1956 during a conference at Dartmouth College, where researchers like John McCarthy, Marvin Minsky, and Herbert Simon began to explore the potential of machines to simulate human intelligence.\n",
            "\n",
            "3. **Key Developments**: Throughout the 1960s and 1970s, significant advancements were made, including the development of early AI programs and the introduction of concepts like neural networks. Notably, Marvin Minsky and Seymour Papert proposed focusing AI research on simpler environments known as microworlds.\n",
            "\n",
            "4. **AI Winters**: The field experienced periods of reduced funding and interest, known as \"AI winters,\" particularly in the late 1970s and late 1980s, due to unmet expectations and limitations in technology.\n",
            "\n",
            "5. **Resurgence and Modern AI**: The 21st century saw a resurgence in AI research, driven by advances in machine learning, particularly deep learning, and the availability of large datasets. Notable achievements include Google's AlphaGo defeating a world champion Go player in 2016.\n",
            "\n",
            "6. **Current Trends**: Today, AI continues to evolve rapidly, with significant investments and advancements in natural language processing, image recognition, and autonomous systems.\n",
            "\n",
            "These points summarize the key milestones and developments in the history of artificial intelligence.\n",
            "\n",
            "Final Answer: The history of artificial intelligence began in the 1930s with Alan Turing's foundational work, leading to the coining of the term \"artificial intelligence\" in 1956. Key developments occurred through the 1960s and 1970s, including early AI programs and the introduction of neural networks. The field faced challenges during \"AI winters\" but saw a resurgence in the 21st century with advancements in machine learning and significant achievements like AlphaGo's victory in 2016. Today, AI is rapidly evolving, impacting various domains such as natural language processing and autonomous systems.\u001b[0m\n",
            "\n",
            "\u001b[1m> Finished chain.\u001b[0m\n",
            "\n",
            "\n",
            "\u001b[1m> Entering new AgentExecutor chain...\u001b[0m\n",
            "\u001b[32;1m\u001b[1;3mTo find the weather in London for next week, I need to perform a web search for the latest weather forecast. \n",
            "Action: search_tavily \n",
            "Action Input: \"London weather forecast next week\" \u001b[0m\u001b[36;1m\u001b[1;3m[{'url': 'https://www.weatherapi.com/', 'content': \"{'location': {'name': 'London', 'region': 'City of London, Greater London', 'country': 'United Kingdom', 'lat': 51.5171, 'lon': -0.1062, 'tz_id': 'Europe/London', 'localtime_epoch': 1739104463, 'localtime': '2025-02-09 12:34'}, 'current': {'last_updated_epoch': 1739104200, 'last_updated': '2025-02-09 12:30', 'temp_c': 5.4, 'temp_f': 41.7, 'is_day': 1, 'condition': {'text': 'Light rain', 'icon': '//cdn.weatherapi.com/weather/64x64/day/296.png', 'code': 1183}, 'wind_mph': 5.6, 'wind_kph': 9.0, 'wind_degree': 42, 'wind_dir': 'NE', 'pressure_mb': 1028.0, 'pressure_in': 30.36, 'precip_mm': 0.29, 'precip_in': 0.01, 'humidity': 87, 'cloud': 75, 'feelslike_c': 3.4, 'feelslike_f': 38.0, 'windchill_c': 1.7, 'windchill_f': 35.1, 'heatindex_c': 4.0, 'heatindex_f': 39.2, 'dewpoint_c': 3.4, 'dewpoint_f': 38.2, 'vis_km': 10.0, 'vis_miles': 6.0, 'uv': 0.1, 'gust_mph': 8.0, 'gust_kph': 12.9}}\"}, {'url': 'https://www.meteoprog.com/weather/London/month/february/', 'content': 'London weather in February 2025 ⋆ London temperature in February ≡ Weather forecast in United Kingdom | METEOPROG Weather in United Kingdom Weather Widgets Русский (UA) Русский WEATHER London[ ]  7-day Forecast Weather on a map Weather Widget Русский (UA) Русский London weather in February 2025 +8°+3° +8°+3° +7°+4° +7°+2° +7°+2° February in London Max. temperature +18.3°C Min. temperature -14.5°C London London Mexico City All cities All cities Weather Weather in United Kingdom Monthly weather forecast in London Weather in February Weather Widgets Editorial policy Hyperlink to Meteoprog.com is required when using materials from the site. The editorial staff of the project may not share the opinion of the authors and is not responsible for copyrighted materials. Русский (UA) Русский'}, {'url': 'https://world-weather.info/forecast/united_kingdom/london/february-2025/', 'content': \"Weather in London in February 2025 (England) - Detailed Weather Forecast for a Month Add the current city Weather World United Kingdom Weather in London Weather in London in February 2025 London Weather Forecast for February 2025, is based on previous years' statistical data. February +48°+41° +48°+39° +48°+43° +48°+43° +46°+41° +46°+41° +46°+41° +46°+39° +46°+39° +46°+39° +46°+41° +46°+39° +46°+39° +48°+41° +50°+43° +52°+45° +52°+43° +50°+43° +48°+41° +50°+43° +50°+43° +50°+43° +48°+41° +48°+41° +50°+43° +50°+41° +48°+41° +48°+39° Extended weather forecast in London HourlyWeek10-Day14-Day30-DayYear Weather in large and nearby cities Cambridge+27° Liverpool+34° Manchester+30° Oxford+30° Guildford+30° Crawley+32° Bracknell+30° Stevenage+30° Luton+30° High Wycombe+23° Chatham+32° Basildon+32° Maidenhead+34° Watford+30° Dartford+36° Slough+34° Bramley+30° Esher+30° world's temperature today day day City or place… Copyright © 2025 «World-Weather.info» All rights reserved. Temperature units\"}, {'url': 'https://world-weather.info/forecast/united_kingdom/london/09-february/', 'content': 'Weather Forecast for February 9 in London, England - temperature, wind, atmospheric pressure, humidity and precipitations. Detailed hourly weather chart. February 07 February 08 Select date: February 10 February 11. February 09, 2025 : Atmospheric conditions and temperature °F: RealFeel °F: Atmospheric'}, {'url': 'https://sinoptik.pl/en/pogoda/londyn/2025-02-09', 'content': 'Weather in London at 09/02/2025, hourly weather forecast for 09 February in London, England, United Kingdom ⚡ SINOPTIK.PL'}]\u001b[0m\u001b[32;1m\u001b[1;3mI have gathered information about the weather in London for next week. The forecast indicates that the temperatures will range from around 2°C to 8°C, with conditions including light rain and cloudy skies. \n",
            "\n",
            "Final Answer: The weather in London for next week is expected to have temperatures ranging from 2°C to 8°C, with light rain and cloudy conditions.\u001b[0m\n",
            "\n",
            "\u001b[1m> Finished chain.\u001b[0m\n",
            "\n",
            "\n",
            "\u001b[1m> Entering new AgentExecutor chain...\u001b[0m\n",
            "\u001b[32;1m\u001b[1;3mTo find the best shoes available on Amazon, I should search for popular or highly-rated shoe products on the platform. \n",
            "Action: amazon_product_search\n",
            "Action Input: best shoes available\u001b[0m\u001b[33;1m\u001b[1;3mTitle\n",
            "adidas Men's Predator 18+ FG Firm Ground Soccer Cleats\n",
            "Description\n",
            "adidas Predator 18+ FG- Black 7.5\n",
            "\n",
            "steep to vertical angles. Science Friction rubber edges on jibs with ease, and it encapsulates the forefoot for toe-hooking prowess. The SynFlex upper conforms to your foot without much stretch.\n",
            "\n",
            "The Remora Climbing Shoe is Mad Rock's do-it-all slipper for climbers who can't have separate shoes for boulders, sport routes, and gyms. With a moderately stiff, slightly downturned design, the Remora performs on any climb at steep to vertical\n",
            "\n",
            "Title\n",
            "PUMA Cali Sport Clean Women's Sneakers White Leather (37540701)\u001b[0m\u001b[32;1m\u001b[1;3mTo find the best shoes available on Amazon, I should search for popular or highly-rated shoe products on the platform. \n",
            "\n",
            "Action: amazon_product_search  \n",
            "Action Input: best shoes available  \u001b[0m\u001b[33;1m\u001b[1;3mTitle\n",
            "adidas Men's Predator 18+ FG Firm Ground Soccer Cleats\n",
            "Description\n",
            "adidas Predator 18+ FG- Black 7.5\n",
            "\n",
            "steep to vertical angles. Science Friction rubber edges on jibs with ease, and it encapsulates the forefoot for toe-hooking prowess. The SynFlex upper conforms to your foot without much stretch.\n",
            "\n",
            "The Remora Climbing Shoe is Mad Rock's do-it-all slipper for climbers who can't have separate shoes for boulders, sport routes, and gyms. With a moderately stiff, slightly downturned design, the Remora performs on any climb at steep to vertical\n",
            "\n",
            "Title\n",
            "PUMA Cali Sport Clean Women's Sneakers White Leather (37540701)\u001b[0m\u001b[32;1m\u001b[1;3mI need to gather more information about the best shoes available on Amazon to provide a comprehensive answer. \n",
            "\n",
            "Action: amazon_product_search  \n",
            "Action Input: best shoes available  \u001b[0m\u001b[33;1m\u001b[1;3mTitle\n",
            "adidas Men's Predator 18+ FG Firm Ground Soccer Cleats\n",
            "Description\n",
            "adidas Predator 18+ FG- Black 7.5\n",
            "\n",
            "steep to vertical angles. Science Friction rubber edges on jibs with ease, and it encapsulates the forefoot for toe-hooking prowess. The SynFlex upper conforms to your foot without much stretch.\n",
            "\n",
            "The Remora Climbing Shoe is Mad Rock's do-it-all slipper for climbers who can't have separate shoes for boulders, sport routes, and gyms. With a moderately stiff, slightly downturned design, the Remora performs on any climb at steep to vertical\n",
            "\n",
            "Title\n",
            "PUMA Cali Sport Clean Women's Sneakers White Leather (37540701)\u001b[0m\u001b[32;1m\u001b[1;3mI need to gather more diverse options and details about the best shoes available on Amazon to provide a comprehensive answer. \n",
            "\n",
            "Action: amazon_product_search  \n",
            "Action Input: best shoes available  \u001b[0m\u001b[33;1m\u001b[1;3mTitle\n",
            "adidas Men's Predator 18+ FG Firm Ground Soccer Cleats\n",
            "Description\n",
            "adidas Predator 18+ FG- Black 7.5\n",
            "\n",
            "steep to vertical angles. Science Friction rubber edges on jibs with ease, and it encapsulates the forefoot for toe-hooking prowess. The SynFlex upper conforms to your foot without much stretch.\n",
            "\n",
            "The Remora Climbing Shoe is Mad Rock's do-it-all slipper for climbers who can't have separate shoes for boulders, sport routes, and gyms. With a moderately stiff, slightly downturned design, the Remora performs on any climb at steep to vertical\n",
            "\n",
            "Title\n",
            "PUMA Cali Sport Clean Women's Sneakers White Leather (37540701)\u001b[0m\u001b[32;1m\u001b[1;3mI need to gather more diverse options and details about the best shoes available on Amazon to provide a comprehensive answer. \n",
            "\n",
            "Action: amazon_product_search  \n",
            "Action Input: best shoes available  \u001b[0m\u001b[33;1m\u001b[1;3mTitle\n",
            "adidas Men's Predator 18+ FG Firm Ground Soccer Cleats\n",
            "Description\n",
            "adidas Predator 18+ FG- Black 7.5\n",
            "\n",
            "steep to vertical angles. Science Friction rubber edges on jibs with ease, and it encapsulates the forefoot for toe-hooking prowess. The SynFlex upper conforms to your foot without much stretch.\n",
            "\n",
            "The Remora Climbing Shoe is Mad Rock's do-it-all slipper for climbers who can't have separate shoes for boulders, sport routes, and gyms. With a moderately stiff, slightly downturned design, the Remora performs on any climb at steep to vertical\n",
            "\n",
            "Title\n",
            "PUMA Cali Sport Clean Women's Sneakers White Leather (37540701)\u001b[0m\u001b[32;1m\u001b[1;3m\u001b[0m\n",
            "\n",
            "\u001b[1m> Finished chain.\u001b[0m\n",
            "\n",
            "\n",
            "\u001b[1m> Entering new AgentExecutor chain...\u001b[0m\n",
            "\u001b[32;1m\u001b[1;3mI need to find information about popular clothing brands available on Amazon. This will help me provide a comprehensive answer. \n",
            "Action: amazon_product_search\n",
            "Action Input: \"top clothing brands on Amazon\"\u001b[0m\u001b[33;1m\u001b[1;3mTitle\n",
            "Fruit of the Loom Men&#39;s Fleece Full Zip Hoodie\n",
            "\n",
            "jumpers, sweaters, etc.</p><p>✔&nbsp;Branded wool knitting provides satisfaction and quality of knitting experience.<br></p><p>✔&nbsp;This variety of wool contains many colors like Black, Violet, Blue, White, Red, Green, multi,&nbsp;\n",
            "\n",
            "Title\n",
            "Red Tape Men's Casual Jacket (RFJ0127_Grey_M)\n",
            "\n",
            "Title\n",
            "Pooplu Womens Plain V Neck Half Sleeves Pack of 3 Combo Cotton Pink, Yellow, DarkPink T Shirt. Stylish, Casual Tshirts (_L)\n",
            "Description\n",
            "Pooplu Womens Cotton Plain Combo Pack of 3 MultiColour T shirt With 180 GSM Pure Cotton Regular Fit Tshirt\u001b[0m\u001b[32;1m\u001b[1;3mI need to gather more information about popular clothing brands on Amazon to provide a comprehensive list. \n",
            "\n",
            "Action: amazon_product_search  \n",
            "Action Input: \"popular clothing brands on Amazon\"  \u001b[0m\u001b[33;1m\u001b[1;3mTitle\n",
            "Fruit of the Loom Men&#39;s Fleece Full Zip Hoodie\n",
            "\n",
            "Title\n",
            "Pooplu Womens Plain V Neck Half Sleeves Pack of 3 Combo Cotton Pink, Yellow, DarkPink T Shirt. Stylish, Casual Tshirts (_L)\n",
            "Description\n",
            "Pooplu Womens Cotton Plain Combo Pack of 3 MultiColour T shirt With 180 GSM Pure Cotton Regular Fit Tshirt\n",
            "\n",
            "jumpers, sweaters, etc.</p><p>✔&nbsp;Branded wool knitting provides satisfaction and quality of knitting experience.<br></p><p>✔&nbsp;This variety of wool contains many colors like Black, Violet, Blue, White, Red, Green, multi,&nbsp;\n",
            "\n",
            "Title\n",
            "Lofbaz Women's Drawstring Harem Solid Bohemian Hippie Rayon Pants Purple M\n",
            "Description\u001b[0m\u001b[32;1m\u001b[1;3mI need to continue searching for more information about popular clothing brands on Amazon to compile a better list.\n",
            "\n",
            "Action: amazon_product_search  \n",
            "Action Input: \"best selling clothing brands on Amazon\"  \u001b[0m\u001b[33;1m\u001b[1;3mTitle\n",
            "Fruit of the Loom Men&#39;s Fleece Full Zip Hoodie\n",
            "\n",
            "Title\n",
            "Pooplu Womens Plain V Neck Half Sleeves Pack of 3 Combo Cotton Pink, Yellow, DarkPink T Shirt. Stylish, Casual Tshirts (_L)\n",
            "Description\n",
            "Pooplu Womens Cotton Plain Combo Pack of 3 MultiColour T shirt With 180 GSM Pure Cotton Regular Fit Tshirt\n",
            "\n",
            "<p>These pants are adjustable the waist by drawstring makes them incredibly versatile and comfortable. 100% rayon. The material is silky soft and lightweight. Hand wash is recommended.</p><p><strong>Measurement</strong></p><p><strong>Size S (US\n",
            "\n",
            "the dark colors separately in order to improve the product life. Disclaimer: Product color may slightly vary due to photographic lighting sources or your monitor settings. Please order according to your waist size mentioned in size chart\u001b[0m\u001b[32;1m\u001b[1;3mI need to gather more specific information about popular clothing brands on Amazon, as the previous searches did not yield a comprehensive list.\n",
            "\n",
            "Action: amazon_product_search  \n",
            "Action Input: \"top clothing brands on Amazon 2023\"  \u001b[0m\u001b[33;1m\u001b[1;3mTitle\n",
            "Fruit of the Loom Men&#39;s Fleece Full Zip Hoodie\n",
            "\n",
            "Title\n",
            "Four Seasons 2020 Calendar\n",
            "\n",
            "Title\n",
            "LILLUSORY Women's Turtleneck Oversized Sweaters 2022 Fall Long Batwing Sleeve Spilt Hem Tunic Pullover Sweater Knit Tops, Dark Apricot, X-Small\n",
            "Description\n",
            "Turtleneck Pullover Sweater\n",
            "\n",
            "Title\n",
            "Pooplu Womens Plain V Neck Half Sleeves Pack of 3 Combo Cotton Pink, Yellow, DarkPink T Shirt. Stylish, Casual Tshirts (_L)\n",
            "Description\n",
            "Pooplu Womens Cotton Plain Combo Pack of 3 MultiColour T shirt With 180 GSM Pure Cotton Regular Fit Tshirt\u001b[0m\u001b[32;1m\u001b[1;3mI am not finding specific brand names or a comprehensive list of top clothing brands on Amazon through my searches. It seems that the results are mostly individual products rather than brand names. \n",
            "\n",
            "Action: search_tavily  \n",
            "Action Input: \"top clothing brands on Amazon 2023\"  \u001b[0m\u001b[36;1m\u001b[1;3m[{'url': 'https://www.glamourmagazine.co.uk/article/best-fashion-stores-on-amazon', 'content': \"11 Best Clothing Brands on Amazon 2023: Levi's, Puma, Crocs | Glamour UK Amazon Prime Day Amazon Prime Day beauty deals to shop before the clock strikes midnight – including Medik8, Elemis & Revlon Amazon Prime Day beauty deals coming in hot.Amazon Prime Day I'm a fashion writer – here are the wardrobe essentials I'd actually buy in the Prime Day sale I refuse to gatekeep discounts on Levi's, Adidas and JW PEI.Amazon Prime Day FYI, these are the Amazon Prime Day sex toy deals I wouldn't skip on Day 2 Arguably, sex toys are the ultimate self-care aid.Amazon Prime Day An interiors writer's guide to the best Amazon Prime Day home deals to shop on Day 2 High-end homeware for pocket money prices?\"}, {'url': 'https://www.glamour.com/story/best-clothing-brands-amazon', 'content': \"Want to shop the best clothing brands on Amazon? The retailer's in-house fashion brands include top-rated brands like Core10, The Drop, PrettyGarden, and more. ... September 15, 2023.\"}, {'url': 'https://wwd.com/shop/shop-fashion/best-clothing-brands-amazon-1235820938/', 'content': 'You can shop all kinds of wardrobe staples and statement pieces at affordable prices, like the best women’s jeans, flattering bodysuits, fall jackets, and stylish dresses from Amazon. Plus, Amazon’s own brands, like The Drop and Amazon Essentials, provide all kinds of high-style items and closet basics — from trendy flared jeans to maternity dresses. This fall, The Drop’s fashion influencers are styling everything from slip dresses, elevated handbags, shoes for work like loafers and slingbacks, leather pants, baggy jeans, cozy winter coats, and all of the best Amazon fashion finds in 2023. What reviewers say: “I absolutely love Levi’s and I got these shorts on Amazon Prime Day, so I ordered them a little bit cheaper than normal.'}, {'url': 'https://www.goodhousekeeping.com/life/money/g43577461/amazon-clothing-brands/', 'content': \"15 Best Amazon Clothing Brands (Including Closet Staples and Statement Pieces) 15 Best Amazon Clothing Brands (Including Closet Staples and Statement Pieces) However, Amazon is a surprisingly reliable place to find quality, budget-friendly clothes that fit the latest trends — and we've rounded up some of our favorite brands worth shopping for year-round. Ahead, we've outlined all the best Amazon clothing brands that are in stock and ready to shop in a wide range of sizes, styles and colors. You can shop several bodysuit styles from the brand on Amazon, including this timeless scuba-neck version that comes in white and black. That’s what TEREA does best: the brand uses bold colors and on-trend silhouettes to create a one-of-a-kind look, and you can shop them in sizes XXS to 5XL on Amazon.\"}, {'url': 'https://nypost.com/2023/08/03/best-womens-amazon-fashion-finds/', 'content': \"25 best women's Amazon fashion finds 2023: Dresses, more Not to mention, they’ll have you covered in the best clothing, shoes and accessories — whatever the occasion (see what we did there?) That’s why the New York Post Shopping team searched on repeat to put together the ultimate edit of our sworn-in women’s fashion favorites. For more options, check out our guide to the best Amazon Essentials pieces. Best-selling with more than 66,000 rave reviews, the Amazon Essentials Belice Ballet Flat is affordable, comes in virtually every color under the sun and are a great option if you have no clue what pair to wear (we’ve all been there).\"}]\u001b[0m\u001b[32;1m\u001b[1;3m\u001b[0m\n",
            "\n",
            "\u001b[1m> Finished chain.\u001b[0m\n",
            "\n",
            "\n",
            "\u001b[1m> Entering new AgentExecutor chain...\u001b[0m\n",
            "\u001b[32;1m\u001b[1;3mI need to find the latest schedule for Manchester United matches. I'll perform a web search to get the most up-to-date information.  \n",
            "Action: search_tavily  \n",
            "Action Input: \"Manchester United next matches schedule\"  \u001b[0m\u001b[36;1m\u001b[1;3m[{'url': 'https://www.espn.com/soccer/team/fixtures/_/id/360/manchester-united', 'content': \"Manchester United 2024-25 Schedule - ESPN Manchester United Fixtures Transfer rumors, news: Liverpool, Man Utd to battle for Pulisic --------------------------------------------------------------- Christian Pulisic's stellar performances this season have got Premier League clubs circling. * 7h * ESPN Rúben Amorim takes Man United training as visa issues fixed - source -------------------------------------------------------------------- Rúben Amorim has taken his first training session as Manchester United head coach following the approval of his visa, a source has told ESPN. Arsenal forced to move UWCL game due to clash with men's team ------------------------------------------------------------- Arsenal have confirmed that their UEFA Women's Champions League decisive group stage match against Bayern Munich will take place at Meadow Park on Dec. 18 * 10h * Emily Keogh\"}, {'url': 'https://www.skysports.com/football/news/11667/13143893/man-utd-premier-league-2024-25-fixtures-and-schedule', 'content': 'Man Utd begin their 2024/25 Premier League season live on Sky Sports with a home game against Fulham; Man Utd also play Liverpool in August, with the reverse fixture in January; Manchester derby'}, {'url': 'https://www.skysports.com/manchester-united-fixtures.bahsi', 'content': \"Manchester United Fixtures | Sky Sports Live on Sky Get Sky Sports Sky Sports App Watch Sky Sports Scottish Women's Premier League League One League Two Women's Super League Scottish League One Scottish League Two Scottish League Cup National League Sunday 12th January Sunday 19th January Sunday 26th January Sunday 16th February Saturday 8th March Saturday 15th March Saturday 5th April Saturday 12th April Saturday 19th April Saturday 26th April Saturday 10th May Get Sky Sports Sky Sports App Sky Sports Channels Sky Sports Premier League Sky Sports Football Sky Sports+ Sky Sports Cricket Sky Sports Golf Sky Sports F1 Sky Sports Tennis Sky Sports NFL Sky Sports News Sky Sports Racing Sky Sports Mix Sky.com Sky News Sky Go\"}, {'url': 'https://www.nytimes.com/athletic/football/team/manchester-united/schedule/', 'content': 'Full 2024-25 Manchester United schedule. Scores, opponents, and dates of games for the entire season.'}, {'url': 'https://www.premierleague.com/clubs/12/fixtures', 'content': \"Manchester United FC Team News, Fixtures & Results 2024/2025 | Premier League Manchester United Manchester United Clubs Football & Community Search for News, Players & Clubs  Submit search Premier League Fixtures Fantasy Premier League Goal Of The Month Ones to watch No Room For Racism Tickets FPL Player Price changes 01:06 Video 'Looked more organised' - Scholes' view of Villa 0-0 Man Utd 03:15 Video Aston Villa v Man Utd: Watch 10 of the BEST GOALS Clubs Manchester United Visit Manchester United Website Buy Manchester United Tickets Club Ticket Information Manchester United Official App Follow everything United on the Official App. With live match updates and stats, team news, live scores, interactive quizzes and stickers, it’s all in one place!\"}]\u001b[0m\u001b[32;1m\u001b[1;3mI have found several sources that provide information about Manchester United's upcoming matches. I will extract the relevant details from these sources to summarize the schedule.\n",
            "\n",
            "Action: search_tavily  \n",
            "Action Input: \"Manchester United fixtures January 2024\"  \u001b[0m\u001b[36;1m\u001b[1;3m[{'url': 'https://www.unitedinfocus.com/fixtures/', 'content': 'Manchester United Fixtures & Match Schedule - United In Focus Manchester United Fans Every trophy won by Manchester United Manchester United Women Manchester United’s fixtures and match schedule for the 2024/2025 season including the Premier League, European competitions and cup ties. Thursday 26th December Man UtdManchester United Man UtdManchester United Sunday 5th January Man UtdManchester United Sunday 12th January Man UtdManchester United Thursday 16th January Man UtdManchester United Sunday 19th January Man UtdManchester United Man UtdManchester United Sunday 26th January Man UtdManchester United Thursday 30th January Sunday 16th February Wednesday 26th February Saturday 8th March Saturday 15th March Saturday 5th April Saturday 12th April Saturday 19th April Saturday 26th April Saturday 10th May Sunday 18th May Sunday 25th May Privacy Policy'}, {'url': 'https://www.skysports.com/football/news/11667/13143893/man-utd-premier-league-2024-25-fixtures-and-schedule', 'content': 'Man Utd begin their 2024/25 Premier League season live on Sky Sports with a home game against Fulham; Man Utd also play Liverpool in August, with the reverse fixture in January; Manchester derby'}, {'url': 'https://www.espn.com/soccer/team/fixtures/_/id/360/manchester-united', 'content': 'ESPN has the full 2024-25 Manchester United schedule. Includes date, time and tv channel information for all Manchester United games. ... Manchester United Fixtures ... January transfer window'}, {'url': 'https://www.manutd.com/en/news/detail/man-utd-premier-league-fixtures-for-december-2024-and-january-2025-announced', 'content': \"Man Utd Premier League fixtures for December and January announced | Manchester United Manchester United's Premier League schedule for December and January has been announced. December kicks off with the home game against Everton, already announced, before the midweek trip to Arsenal, now starting on the Wednesday at 20:15 GMT and live on Amazon Prime Video. The final fixture of the calendar year is the Monday 30 December meeting with Newcastle United at the Theatre of Dreams (20:00 GMT). The last fixture of this batch confirmed is the visit to Fulham, with the Craven Cottage clash now a Sunday (26 January) date, kicking off at 19:00 GMT and screened by TNT Sports. DECEMBER AND JANUARY LEAGUE FIXTURES\"}, {'url': 'https://www.manutd.com/en/news/detail/game-by-game-guide-on-man-utd-january-schedule', 'content': \"Liverpool v United (Premier League) United v Southampton (Premier League) United v Brighton & Hove Albion (Premier League) United v Rangers (Europa League) United are going well in the Europa League so far, in the first iteration of the competition's new-look league phase, which pits all 36 teams against each other in one table to decide who advances to the knockout stages. Fulham v United (Premier League) United will be looking to complete the double over the Cottagers this season, adding to the 1-0 win we claimed in the reverse fixture in August which saw Joshua Zirkzee net the first goal of his Reds career in his debut appearance. FCSB v United (Europa League)\"}]\u001b[0m\u001b[32;1m\u001b[1;3mI have gathered information about Manchester United's upcoming matches in January 2024. Here are the key fixtures:\n",
            "\n",
            "1. **January 5, 2024** - Manchester United vs. Southampton (Premier League)\n",
            "2. **January 12, 2024** - Manchester United vs. Brighton & Hove Albion (Premier League)\n",
            "3. **January 16, 2024** - Manchester United vs. Rangers (Europa League)\n",
            "4. **January 19, 2024** - Fulham vs. Manchester United (Premier League)\n",
            "5. **January 26, 2024** - Manchester United vs. FCSB (Europa League)\n",
            "\n",
            "These matches are part of the Premier League and Europa League competitions. \n",
            "\n",
            "Final Answer: The next Manchester United matches scheduled are:\n",
            "- January 5, 2024: vs. Southampton (Premier League)\n",
            "- January 12, 2024: vs. Brighton & Hove Albion (Premier League)\n",
            "- January 16, 2024: vs. Rangers (Europa League)\n",
            "- January 19, 2024: at Fulham (Premier League)\n",
            "- January 26, 2024: vs. FCSB (Europa League)\u001b[0m\n",
            "\n",
            "\u001b[1m> Finished chain.\u001b[0m\n",
            "\n",
            "\n",
            "\u001b[1m> Entering new AgentExecutor chain...\u001b[0m\n",
            "\u001b[32;1m\u001b[1;3mI need to find suitable clothing options for travel in Switzerland, focusing on brands available on Amazon. This will help provide specific recommendations for travelers. \n",
            "\n",
            "Action: amazon_product_search  \n",
            "Action Input: travel clothing for Switzerland  \n",
            "\u001b[0m\u001b[33;1m\u001b[1;3mTitle\n",
            "Peru, Los Senderos Posibles\n",
            "\n",
            "trade routes to the East. The timeless beauty of an antique leather binding is brought into the present on the cover of this deep blue book.\n",
            "\n",
            "Fancy dupatta border golden Colour, light in weight Chiffon Printed Work Dupatta for Womens & Girls The Chiffon Dupatta is favourite for picnic, outdoor, travelling, cycling, dancing and stage performance. Use it as casual or formal wear for office,\n",
            "\n",
            "Title\n",
            "Red Tape Men's Casual Jacket (RFJ0127_Grey_M)\u001b[0m\u001b[32;1m\u001b[1;3mI need to refine my search to find more relevant travel clothing options specifically for Switzerland. \n",
            "\n",
            "Action: amazon_product_search  \n",
            "Action Input: travel clothing brands for Switzerland  \n",
            "\u001b[0m\u001b[33;1m\u001b[1;3mjumpers, sweaters, etc.</p><p>✔&nbsp;Branded wool knitting provides satisfaction and quality of knitting experience.<br></p><p>✔&nbsp;This variety of wool contains many colors like Black, Violet, Blue, White, Red, Green, multi,&nbsp;\n",
            "\n",
            "Title\n",
            "Peru, Los Senderos Posibles\n",
            "\n",
            "Title\n",
            "Red Tape Men's Casual Jacket (RFJ0127_Grey_M)\n",
            "\n",
            "bag?is sturdy and durable.\u001b[0m\u001b[32;1m\u001b[1;3mI need to conduct a more focused search to find specific travel clothing brands that are suitable for Switzerland. \n",
            "\n",
            "Action: amazon_product_search  \n",
            "Action Input: travel clothing brands  \n",
            "\u001b[0m\u001b[33;1m\u001b[1;3mjumpers, sweaters, etc.</p><p>✔&nbsp;Branded wool knitting provides satisfaction and quality of knitting experience.<br></p><p>✔&nbsp;This variety of wool contains many colors like Black, Violet, Blue, White, Red, Green, multi,&nbsp;\n",
            "\n",
            "bag?is sturdy and durable.\n",
            "\n",
            "from head to toe (barefoot)<br /><br />1. Originally Designed: All dresses are designed by the most qualified designers, and the most experienced tailors carry out strict quality inspections in our own factories. Every needle and every thread\n",
            "\n",
            "Title\n",
            "Red Tape Men's Casual Jacket (RFJ0127_Grey_M)\u001b[0m\u001b[32;1m\u001b[1;3mI need to refine my search further to find specific travel clothing brands that are suitable for Switzerland. \n",
            "\n",
            "Action: amazon_product_search  \n",
            "Action Input: outdoor travel clothing brands  \n",
            "\u001b[0m\u001b[33;1m\u001b[1;3mbag?is sturdy and durable.\n",
            "\n",
            "jumpers, sweaters, etc.</p><p>✔&nbsp;Branded wool knitting provides satisfaction and quality of knitting experience.<br></p><p>✔&nbsp;This variety of wool contains many colors like Black, Violet, Blue, White, Red, Green, multi,&nbsp;\n",
            "\n",
            "Fancy dupatta border golden Colour, light in weight Chiffon Printed Work Dupatta for Womens & Girls The Chiffon Dupatta is favourite for picnic, outdoor, travelling, cycling, dancing and stage performance. Use it as casual or formal wear for office,\n",
            "\n",
            "Title\n",
            "Fruit of the Loom Men&#39;s Fleece Full Zip Hoodie\u001b[0m\u001b[32;1m\u001b[1;3mI need to conduct a more targeted search to find specific outdoor travel clothing brands that are suitable for Switzerland. \n",
            "\n",
            "Action: amazon_product_search  \n",
            "Action Input: outdoor clothing brands for travel  \n",
            "\u001b[0m\u001b[33;1m\u001b[1;3mbag?is sturdy and durable.\n",
            "\n",
            "jumpers, sweaters, etc.</p><p>✔&nbsp;Branded wool knitting provides satisfaction and quality of knitting experience.<br></p><p>✔&nbsp;This variety of wool contains many colors like Black, Violet, Blue, White, Red, Green, multi,&nbsp;\n",
            "\n",
            "Fancy dupatta border golden Colour, light in weight Chiffon Printed Work Dupatta for Womens & Girls The Chiffon Dupatta is favourite for picnic, outdoor, travelling, cycling, dancing and stage performance. Use it as casual or formal wear for office,\n",
            "\n",
            "Title\n",
            "Red Tape Men's Casual Jacket (RFJ0127_Grey_M)\u001b[0m\u001b[32;1m\u001b[1;3m\u001b[0m\n",
            "\n",
            "\u001b[1m> Finished chain.\u001b[0m\n",
            "\n",
            "\n",
            "\u001b[1m> Entering new AgentExecutor chain...\u001b[0m\n",
            "\u001b[32;1m\u001b[1;3mI need to find information about popular or highly-rated shoes available on Amazon. \n",
            "Action: amazon_product_search\n",
            "Action Input: best shoes on Amazon\u001b[0m\u001b[33;1m\u001b[1;3mTitle\n",
            "adidas Men's Predator 18+ FG Firm Ground Soccer Cleats\n",
            "Description\n",
            "adidas Predator 18+ FG- Black 7.5\n",
            "\n",
            "Title\n",
            "Kenneth Cole REACTION Men's Crespo Loafer B Shoe, Cognac, 10 M US\n",
            "\n",
            "Title\n",
            "Mad Rock Remora Climbing Shoe - Men's Blue 9.5\n",
            "Description\n",
            "\n",
            "The Remora Climbing Shoe is Mad Rock's do-it-all slipper for climbers who can't have separate shoes for boulders, sport routes, and gyms. With a moderately stiff, slightly downturned design, the Remora performs on any climb at steep to vertical\u001b[0m\u001b[32;1m\u001b[1;3mI have gathered some information about popular shoes available on Amazon. \n",
            "\n",
            "Action: amazon_product_search  \n",
            "Action Input: best rated shoes on Amazon  \u001b[0m\u001b[33;1m\u001b[1;3mTitle\n",
            "Kenneth Cole REACTION Men's Crespo Loafer B Shoe, Cognac, 10 M US\n",
            "\n",
            "Title\n",
            "Mad Rock Remora Climbing Shoe - Men's Blue 9.5\n",
            "Description\n",
            "\n",
            "Title\n",
            "adidas Men's Predator 18+ FG Firm Ground Soccer Cleats\n",
            "Description\n",
            "adidas Predator 18+ FG- Black 7.5\n",
            "\n",
            "The Remora Climbing Shoe is Mad Rock's do-it-all slipper for climbers who can't have separate shoes for boulders, sport routes, and gyms. With a moderately stiff, slightly downturned design, the Remora performs on any climb at steep to vertical\u001b[0m\u001b[32;1m\u001b[1;3mI have found several popular and highly-rated shoes on Amazon, including options for different activities and styles. \n",
            "\n",
            "Final Answer: Some of the best shoes on Amazon include:\n",
            "1. **adidas Men's Predator 18+ FG Firm Ground Soccer Cleats** - A top choice for soccer players.\n",
            "2. **Kenneth Cole REACTION Men's Crespo Loafer B Shoe** - A stylish loafer suitable for casual and formal occasions.\n",
            "3. **Mad Rock Remora Climbing Shoe** - A versatile climbing shoe designed for various climbing activities.\u001b[0m\n",
            "\n",
            "\u001b[1m> Finished chain.\u001b[0m\n",
            "\n",
            "\n",
            "\u001b[1m> Entering new AgentExecutor chain...\u001b[0m\n",
            "\u001b[32;1m\u001b[1;3mTo answer the question about installing backsplash wallpaper and to find some brands on Amazon, I will first search for installation instructions and then look for relevant products on Amazon.\n",
            "\n",
            "Action: search_tavily  \n",
            "Action Input: \"How to install Backsplash Wallpaper\"  \u001b[0m\u001b[36;1m\u001b[1;3m[{'url': 'https://rehabdorks.com/2022/02/installing-a-peel-and-stick-wallpaper-backsplash/', 'content': 'Installing a Peel and Stick Wallpaper Backsplash | REHAB DORKS Home\\xa0/\\xa0Before & After • Design • Kitchen • Latest • Projects • The Big House (Queen Anne) • Tutorials\\xa0/\\xa0Installing a Peel and Stick Wallpaper Backsplash Ideally, you want the wallpaper to bend around the corner of the wall, so before starting your first piece, you need to measure in from the corner and mark the wall at a point that is shorter than the width of your roll. Once you know where you want to place your first piece, you then need to unroll and hold the wallpaper up to the wall and cut it leaving about 2 inches extra at the top and bottom.'}, {'url': 'https://thehomesihavemade.com/how-to-wallpaper-a-backsplash/', 'content': 'I personally recommending using peel-and-stick wallpaper or heavy-duty contact paper for backsplashes because they are both durable (easy to wipe clean) and removable (it just peels right off!) Wallpaper can be expensive, so I highly recommend spending a considerable amount of time planning out exactly how you will apply the paper to your backsplash (and other areas) before you even start cutting and peeling. NOTE: If your backsplash area doesn’t have any large or unique features to work around, you can likely skip this step and set right to hanging your larger cuts of paper directly to the wall.'}, {'url': 'https://www.delineateyourdwelling.com/how-to-install-a-removable-wallpaper-backsplash/', 'content': 'How to install a Removable Wallpaper Backsplash - Delineate Your Dwelling Home / DIY / How to install a Removable Wallpaper Backsplash How to install a Removable Wallpaper Backsplash INSIDE : Learn how to completely transform your kitchen by installing a removable wallpaper backsplash. – How to install a Removable Wallpaper Backsplash What supplies do I need to\\xa0install a Removable Wallpaper Backsplash? How to\\xa0install a Removable Wallpaper Backsplash in your kitchen The first item to take care of when installing a removable wallpaper backsplash is prepping your existing backsplash and/or wall. It’s time to start measuring and cutting your removable wallpaper now! Install Removable Wallpaper Backsplash in Your Kitchen Learn how to completely transform your kitchen by installing a removable wallpaper backsplash.'}, {'url': 'https://www.reddit.com/r/HomeImprovement/comments/jv2qyl/installing_backsplash_on_textured_wallpaper/', 'content': \"Screw a thin piece of plywood to the wall as a base,.and stick the tile to that. It'll be a lot smoother than the wall, so that will be helpful.\"}, {'url': 'https://www.neathousesweethome.com/peel-and-stick-wallpaper-backsplash-kitchen/', 'content': 'What Is The Best Peel and Stick Wallpaper for a Kitchen Backsplash? This is my second time installing peel-and-stick wallpaper tile. For the first time, I used a peel-and-stick wallpaper in a hexagonal tile design as a backsplash in our laundry room. So considering that installing the hexagonal peel-and-stick wallpaper was tricky and that the RoomMates Sticktiles started to peel, I picked a different brand for the kitchen nook backsplash. This time, I chose this Art3D peel-and-stick subway tile wallpaper, a trendy kitchen backsplash. Use peel-and-stick tile to cover small areas. I hope I inspired you to add some wallpaper or peel-and-stick backsplash to your kitchen or any other nook in your home that needs a little pizzazz!'}]\u001b[0m\u001b[32;1m\u001b[1;3mI have gathered some useful information on how to install backsplash wallpaper. The installation generally involves measuring the area, cutting the wallpaper to size, and applying it to the wall. Here are some key steps:\n",
            "\n",
            "1. **Preparation**: Clean the wall surface where the wallpaper will be applied. Ensure it is smooth and dry.\n",
            "2. **Measuring**: Measure the area and mark where the wallpaper will go. It's often recommended to leave a little extra at the top and bottom for adjustments.\n",
            "3. **Cutting**: Cut the wallpaper to the desired size, leaving a couple of inches extra.\n",
            "4. **Application**: Start from one end and peel off the backing as you apply the wallpaper to avoid bubbles. Smooth it out with a flat tool or your hands.\n",
            "5. **Trimming**: Once applied, trim any excess wallpaper at the edges for a clean finish.\n",
            "\n",
            "For more detailed instructions, you can refer to the following resources:\n",
            "- [Rehab Dorks](https://rehabdorks.com/2022/02/installing-a-peel-and-stick-wallpaper-backsplash/)\n",
            "- [The Home I Have Made](https://thehomesihavemade.com/how-to-wallpaper-a-backsplash/)\n",
            "- [Delineate Your Dwelling](https://www.delineateyourdwelling.com/how-to-install-a-removable-wallpaper-backsplash/)\n",
            "\n",
            "Next, I will search for brands of backsplash wallpaper available on Amazon.\n",
            "\n",
            "Action: amazon_product_search  \n",
            "Action Input: \"backsplash wallpaper\"  \u001b[0m\u001b[33;1m\u001b[1;3mout the size you want. &nbsp;</strong><br><strong>3.Use dishcloth or card to remove any air bubbles.&nbsp;</strong><br><br><strong>Package Included: &nbsp;</strong><br><strong>1 × Kitchen Backsplash Wallpaper&nbsp;</strong><br><br><strong>100%\n",
            "\n",
            "Title\n",
            "Delavala Self Adhesive Kitchen Backsplash Wallpaper, Oil Proof Aluminum Foil Kitchen Sticker (Sliver 5(Mtr))\n",
            "Description\n",
            "\n",
            "Title\n",
            "Printed Vinyl Mobile Wrap Compatible with OnePlus 9R Skin Sticker Protector for Back Only - Blue Gold Marble-10 (with Matte Lamination)\n",
            "Description\n",
            "\n",
            "Title\n",
            "PosterHub Pink Floyd The Wall Poster Matte Finish Paper Print 12 x18 Inch (Multicolor) HS - P076\n",
            "Description\u001b[0m\u001b[32;1m\u001b[1;3mI have found some brands of backsplash wallpaper available on Amazon. Here are a few options:\n",
            "\n",
            "1. **Delavala Self Adhesive Kitchen Backsplash Wallpaper** - This is an oil-proof aluminum foil kitchen sticker available in silver.\n",
            "2. **Art3D Peel and Stick Subway Tile Wallpaper** - A trendy option for kitchen backsplashes that is easy to apply and remove.\n",
            "3. **RoomMates Sticktiles** - Another peel-and-stick option that is popular for its ease of use.\n",
            "\n",
            "These products can be found on Amazon, and you can explore more options by searching for \"backsplash wallpaper\" on the site.\n",
            "\n",
            "Final Answer: To install backsplash wallpaper, follow these steps: \n",
            "1. Clean and prepare the wall surface.\n",
            "2. Measure and mark the area for the wallpaper.\n",
            "3. Cut the wallpaper to size, leaving extra for adjustments.\n",
            "4. Peel off the backing and apply the wallpaper, smoothing out any bubbles.\n",
            "5. Trim excess wallpaper for a clean finish.\n",
            "\n",
            "For brands available on Amazon, consider:\n",
            "- Delavala Self Adhesive Kitchen Backsplash Wallpaper\n",
            "- Art3D Peel and Stick Subway Tile Wallpaper\n",
            "- RoomMates Sticktiles\n",
            "\n",
            "You can find these products by searching \"backsplash wallpaper\" on Amazon.\u001b[0m\n",
            "\n",
            "\u001b[1m> Finished chain.\u001b[0m\n",
            "\n",
            "\n",
            "\u001b[1m> Entering new AgentExecutor chain...\u001b[0m\n",
            "\u001b[32;1m\u001b[1;3mI need to find the current weather information for Toronto. I'll perform a web search to get the latest weather updates.  \n",
            "Action: search_tavily  \n",
            "Action Input: \"current weather in Toronto\"  \u001b[0m\u001b[36;1m\u001b[1;3m[{'url': 'https://www.weatherapi.com/', 'content': \"{'location': {'name': 'Toronto', 'region': 'Ontario', 'country': 'Canada', 'lat': 43.6667, 'lon': -79.4167, 'tz_id': 'America/Toronto', 'localtime_epoch': 1739104532, 'localtime': '2025-02-09 07:35'}, 'current': {'last_updated_epoch': 1739104200, 'last_updated': '2025-02-09 07:30', 'temp_c': -3.9, 'temp_f': 25.0, 'is_day': 1, 'condition': {'text': 'Light snow', 'icon': '//cdn.weatherapi.com/weather/64x64/day/326.png', 'code': 1213}, 'wind_mph': 6.9, 'wind_kph': 11.2, 'wind_degree': 320, 'wind_dir': 'NW', 'pressure_mb': 1018.0, 'pressure_in': 30.06, 'precip_mm': 0.0, 'precip_in': 0.0, 'humidity': 86, 'cloud': 100, 'feelslike_c': -8.3, 'feelslike_f': 17.1, 'windchill_c': -10.6, 'windchill_f': 12.9, 'heatindex_c': -6.1, 'heatindex_f': 21.0, 'dewpoint_c': -8.3, 'dewpoint_f': 17.1, 'vis_km': 4.0, 'vis_miles': 2.0, 'uv': 0.0, 'gust_mph': 10.4, 'gust_kph': 16.8}}\"}, {'url': 'https://www.netnewsledger.com/2025/02/09/toronto-weather-snowfall-warning-in-effect-flurries-persist-before-clearing/', 'content': 'Toronto remains under a snowfall warning this morning as flurries linger. Cold temperatures persist with gusty winds. More snow chances return by Tuesday. Toronto - Weather Desk - Toronto wakes up under a blanket of fresh snow this Sunday, February 9, 2025, with a Snowfall Warning still in effect.'}, {'url': 'https://world-weather.info/forecast/canada/toronto/february-2025/', 'content': \"Weather in Toronto in February 2025 (Ontario) - Detailed Weather Forecast for a Month Weather Weather in Toronto Weather in Toronto in February 2025 Toronto Weather Forecast for February 2025 is based on long term prognosis and previous years' statistical data. 1 +14°+19° 2 +28°+16° 3 +39°+28° 4 +27°+30° 5 +27°+18° 6 +41°+28° 7 +28°+25° 8 +28°+23° 9 +30°+28° 10 +25°+21° 11 +19°+18° 12 +36°+28° 13 +23°+16° 14 +28°+16° 15 +32°+21° 16 +30°+28° 17 +30°+28° +30°+21° +30°+23° +36°+27° +37°+28° +37°+30° +34°+27° +32°+25° +32°+25° +32°+25° +36°+27° +34°+27° Extended weather forecast in Toronto HourlyWeek10-Day14-Day30-DayYear Weather in large and nearby cities Weather in Ottawa-4° Whitby+16° Burlington+18° Oshawa+14° Orangeville+12° Georgina+16° Hamilton+16° Guelph+16° Halton Hills+18° Caledon+18° Newmarket+16° Markham+19° Mississauga+19° Brampton+19° Corsons+7° world's temperature today day day\"}, {'url': 'https://www.weather25.com/north-america/canada/ontario/toronto?page=month&month=February', 'content': 'Toronto weather in February 2025 | Toronto 14 day weather Toronto  Toronto Toronto weather in February 2025 🌨️ Snowy days in Toronto 2025 (February) The average weather in Toronto in February You can expect about 3 to 8 days of rain in Toronto during the month of February. | Toronto in February | | Toronto in May | Temperatures in Toronto in February Weather in Toronto in February - FAQ The average temperature in Toronto in February is -7/-2° C. On average, there are 5 rainy days in Toronto during February. The weather in Toronto in February is awful. Can it snow in Toronto in February? On average, there are 15 snowy days in Toronto in February. More about the weather in Toronto'}, {'url': 'https://www.weather25.com/north-america/canada?page=date&date=9-2', 'content': 'Expected weather in Canada for Sunday, 9 February 2025 , average temperature and weather. ... See the last few years weather in Canada in February 9. United States England Australia Canada °F °C. Canada . Sunday, 9 February 2025 . ... Calgary Edmonton Halifax London Montreal Ottawa Quebec City Toronto Vancouver Winnipeg. See more locations'}]\u001b[0m\u001b[32;1m\u001b[1;3mI have gathered the current weather information for Toronto. \n",
            "\n",
            "Final Answer: The current weather in Toronto is -3.9°C with light snow. The humidity is at 86%, and there are gusty winds from the northwest at 6.9 mph. A snowfall warning is in effect, and the temperature feels like -8.3°C.\u001b[0m\n",
            "\n",
            "\u001b[1m> Finished chain.\u001b[0m\n",
            "\n",
            "\n",
            "\u001b[1m> Entering new AgentExecutor chain...\u001b[0m\n",
            "\u001b[32;1m\u001b[1;3mI need to gather information about wedding dresses available on Amazon to provide a detailed summary. \n",
            "Action: amazon_product_search\n",
            "Action Input: wedding dresses\u001b[0m\u001b[33;1m\u001b[1;3m<strong>About YinanLi Dress</strong>:<br />We provide different style of Bridesmaid Dresses, Bridal gowns, Prom Gowns, Cocktail Dresses, Evening Dresses, Party Dresses, Homecoming Dresses, and Celebrity Dresses.<br /><br /><strong></strong>\n",
            "\n",
            "satin prom dress is suit for wedding party, bridesmaid, prom, evening, homecoming, wedding, birthday party, dance party, graduation, celebrity, red carpet and other formal or special occasions. <strong><strong></strong></strong><br /><br\n",
            "\n",
            "for celebratory occasions like weddings and festivals and also wearable as chaniya choli and lancha. Go for high heels and a gold clutch. All for a bonafide wedding ensemble.\n",
            "\n",
            "skirts are suitable for pregnant women. We strongly recommend that you customize the dress, select &quot;custom&quot; in the size area, fill in your size, so we will customize this beautiful prom dress for you.\u001b[0m\u001b[32;1m\u001b[1;3mI need to gather more comprehensive information about various wedding dresses available on Amazon to provide a detailed summary. \n",
            "\n",
            "Action: amazon_product_search  \n",
            "Action Input: wedding dresses  \u001b[0m\u001b[33;1m\u001b[1;3m<strong>About YinanLi Dress</strong>:<br />We provide different style of Bridesmaid Dresses, Bridal gowns, Prom Gowns, Cocktail Dresses, Evening Dresses, Party Dresses, Homecoming Dresses, and Celebrity Dresses.<br /><br /><strong></strong>\n",
            "\n",
            "satin prom dress is suit for wedding party, bridesmaid, prom, evening, homecoming, wedding, birthday party, dance party, graduation, celebrity, red carpet and other formal or special occasions. <strong><strong></strong></strong><br /><br\n",
            "\n",
            "for celebratory occasions like weddings and festivals and also wearable as chaniya choli and lancha. Go for high heels and a gold clutch. All for a bonafide wedding ensemble.\n",
            "\n",
            "skirts are suitable for pregnant women. We strongly recommend that you customize the dress, select &quot;custom&quot; in the size area, fill in your size, so we will customize this beautiful prom dress for you.\u001b[0m\u001b[32;1m\u001b[1;3mI need to gather more detailed and varied information about wedding dresses available on Amazon to provide a comprehensive summary.\n",
            "\n",
            "Action: amazon_product_search  \n",
            "Action Input: wedding dresses  \u001b[0m\u001b[33;1m\u001b[1;3m<strong>About YinanLi Dress</strong>:<br />We provide different style of Bridesmaid Dresses, Bridal gowns, Prom Gowns, Cocktail Dresses, Evening Dresses, Party Dresses, Homecoming Dresses, and Celebrity Dresses.<br /><br /><strong></strong>\n",
            "\n",
            "satin prom dress is suit for wedding party, bridesmaid, prom, evening, homecoming, wedding, birthday party, dance party, graduation, celebrity, red carpet and other formal or special occasions. <strong><strong></strong></strong><br /><br\n",
            "\n",
            "for celebratory occasions like weddings and festivals and also wearable as chaniya choli and lancha. Go for high heels and a gold clutch. All for a bonafide wedding ensemble.\n",
            "\n",
            "skirts are suitable for pregnant women. We strongly recommend that you customize the dress, select &quot;custom&quot; in the size area, fill in your size, so we will customize this beautiful prom dress for you.\u001b[0m\u001b[32;1m\u001b[1;3mI need to gather more diverse and specific information about wedding dresses available on Amazon to provide a comprehensive summary.\n",
            "\n",
            "Action: amazon_product_search  \n",
            "Action Input: wedding dresses  \u001b[0m\u001b[33;1m\u001b[1;3m<strong>About YinanLi Dress</strong>:<br />We provide different style of Bridesmaid Dresses, Bridal gowns, Prom Gowns, Cocktail Dresses, Evening Dresses, Party Dresses, Homecoming Dresses, and Celebrity Dresses.<br /><br /><strong></strong>\n",
            "\n",
            "satin prom dress is suit for wedding party, bridesmaid, prom, evening, homecoming, wedding, birthday party, dance party, graduation, celebrity, red carpet and other formal or special occasions. <strong><strong></strong></strong><br /><br\n",
            "\n",
            "for celebratory occasions like weddings and festivals and also wearable as chaniya choli and lancha. Go for high heels and a gold clutch. All for a bonafide wedding ensemble.\n",
            "\n",
            "skirts are suitable for pregnant women. We strongly recommend that you customize the dress, select &quot;custom&quot; in the size area, fill in your size, so we will customize this beautiful prom dress for you.\u001b[0m\u001b[32;1m\u001b[1;3mI have not yet gathered sufficient and varied information about wedding dresses available on Amazon. I will continue to search for more options.\n",
            "\n",
            "Action: amazon_product_search  \n",
            "Action Input: wedding dresses  \u001b[0m\u001b[33;1m\u001b[1;3m<strong>About YinanLi Dress</strong>:<br />We provide different style of Bridesmaid Dresses, Bridal gowns, Prom Gowns, Cocktail Dresses, Evening Dresses, Party Dresses, Homecoming Dresses, and Celebrity Dresses.<br /><br /><strong></strong>\n",
            "\n",
            "satin prom dress is suit for wedding party, bridesmaid, prom, evening, homecoming, wedding, birthday party, dance party, graduation, celebrity, red carpet and other formal or special occasions. <strong><strong></strong></strong><br /><br\n",
            "\n",
            "for celebratory occasions like weddings and festivals and also wearable as chaniya choli and lancha. Go for high heels and a gold clutch. All for a bonafide wedding ensemble.\n",
            "\n",
            "skirts are suitable for pregnant women. We strongly recommend that you customize the dress, select &quot;custom&quot; in the size area, fill in your size, so we will customize this beautiful prom dress for you.\u001b[0m\u001b[32;1m\u001b[1;3m\u001b[0m\n",
            "\n",
            "\u001b[1m> Finished chain.\u001b[0m\n"
          ]
        }
      ],
      "source": [
        "# List of search queries\n",
        "queries = [\n",
        "    \"Summarize the history of artificial intelligence\",\n",
        "    \"What is the weather in London for next week? \",\n",
        "    \"What are the best shoes availabe in Amazon?\",\n",
        "    \"What are some top clothing brands in Amazon?\",\n",
        "    \"When are the next Manchester United matches scheduled?\",\n",
        "    \"What kind of clothes should we use for travel in Switzerland next week? Check for some brands in amazon\",\n",
        "    \"What are some of the best shoes in Amazon\",\n",
        "    \"How to install Backsplash Wallpaper? Also find some brands on Amazon\",\n",
        "    \"What is the current weather in Toronto?\",\n",
        "    \"Give me a detailed summary of wedding dresses that I can buy in Amazon\"\n",
        "       ]\n",
        "\n",
        "# Initialize an empty list to store results\n",
        "results = []\n",
        "\n",
        "# Run the queries and capture token usage\n",
        "for query in queries:\n",
        "    with get_openai_callback() as cb:\n",
        "        agent_executor.agent.stream_runnable = False\n",
        "        response = agent_executor.invoke({\"input\": query})\n",
        "\n",
        "        # Store results in a dictionary\n",
        "        results.append({\n",
        "            \"Query\": query,\n",
        "            \"Total Tokens\": cb.total_tokens,\n",
        "            \"Prompt Tokens\": cb.prompt_tokens,\n",
        "            \"Completion Tokens\": cb.completion_tokens,\n",
        "            \"Total Cost (USD)\": cb.total_cost\n",
        "        })\n",
        "\n",
        "# Convert results into a DataFrame\n",
        "df_tokens = pd.DataFrame(results)"
      ]
    },
    {
      "cell_type": "code",
      "execution_count": null,
      "metadata": {
        "colab": {
          "base_uri": "https://localhost:8080/",
          "height": 363
        },
        "id": "hRoLUaCH-BOP",
        "outputId": "09f9290e-7d26-4697-f1f0-dfd8cb794949"
      },
      "outputs": [
        {
          "output_type": "execute_result",
          "data": {
            "text/plain": [
              "                                               Query  Total Tokens  \\\n",
              "0   Summarize the history of artificial intelligence          1947   \n",
              "1      What is the weather in London for next week?           1777   \n",
              "2        What are the best shoes availabe in Amazon?          3158   \n",
              "3       What are some top clothing brands in Amazon?          3364   \n",
              "4  When are the next Manchester United matches sc...          3233   \n",
              "5  What kind of clothes should we use for travel ...          2894   \n",
              "6          What are some of the best shoes in Amazon          1331   \n",
              "7  How to install Backsplash Wallpaper? Also find...          3428   \n",
              "8            What is the current weather in Toronto?          1783   \n",
              "9  Give me a detailed summary of wedding dresses ...          3583   \n",
              "\n",
              "   Prompt Tokens  Completion Tokens  Total Cost (USD)  \n",
              "0           1419                528          0.000530  \n",
              "1           1662                115          0.000318  \n",
              "2           2980                178          0.000554  \n",
              "3           3149                215          0.000601  \n",
              "4           2894                339          0.000637  \n",
              "5           2713                181          0.000516  \n",
              "6           1165                166          0.000274  \n",
              "7           2815                613          0.000790  \n",
              "8           1672                111          0.000317  \n",
              "9           3418                165          0.000612  "
            ],
            "text/html": [
              "\n",
              "  <div id=\"df-c7258a68-f6e5-4d8a-a0b2-27bfd6491c5e\" class=\"colab-df-container\">\n",
              "    <div>\n",
              "<style scoped>\n",
              "    .dataframe tbody tr th:only-of-type {\n",
              "        vertical-align: middle;\n",
              "    }\n",
              "\n",
              "    .dataframe tbody tr th {\n",
              "        vertical-align: top;\n",
              "    }\n",
              "\n",
              "    .dataframe thead th {\n",
              "        text-align: right;\n",
              "    }\n",
              "</style>\n",
              "<table border=\"1\" class=\"dataframe\">\n",
              "  <thead>\n",
              "    <tr style=\"text-align: right;\">\n",
              "      <th></th>\n",
              "      <th>Query</th>\n",
              "      <th>Total Tokens</th>\n",
              "      <th>Prompt Tokens</th>\n",
              "      <th>Completion Tokens</th>\n",
              "      <th>Total Cost (USD)</th>\n",
              "    </tr>\n",
              "  </thead>\n",
              "  <tbody>\n",
              "    <tr>\n",
              "      <th>0</th>\n",
              "      <td>Summarize the history of artificial intelligence</td>\n",
              "      <td>1947</td>\n",
              "      <td>1419</td>\n",
              "      <td>528</td>\n",
              "      <td>0.000530</td>\n",
              "    </tr>\n",
              "    <tr>\n",
              "      <th>1</th>\n",
              "      <td>What is the weather in London for next week?</td>\n",
              "      <td>1777</td>\n",
              "      <td>1662</td>\n",
              "      <td>115</td>\n",
              "      <td>0.000318</td>\n",
              "    </tr>\n",
              "    <tr>\n",
              "      <th>2</th>\n",
              "      <td>What are the best shoes availabe in Amazon?</td>\n",
              "      <td>3158</td>\n",
              "      <td>2980</td>\n",
              "      <td>178</td>\n",
              "      <td>0.000554</td>\n",
              "    </tr>\n",
              "    <tr>\n",
              "      <th>3</th>\n",
              "      <td>What are some top clothing brands in Amazon?</td>\n",
              "      <td>3364</td>\n",
              "      <td>3149</td>\n",
              "      <td>215</td>\n",
              "      <td>0.000601</td>\n",
              "    </tr>\n",
              "    <tr>\n",
              "      <th>4</th>\n",
              "      <td>When are the next Manchester United matches sc...</td>\n",
              "      <td>3233</td>\n",
              "      <td>2894</td>\n",
              "      <td>339</td>\n",
              "      <td>0.000637</td>\n",
              "    </tr>\n",
              "    <tr>\n",
              "      <th>5</th>\n",
              "      <td>What kind of clothes should we use for travel ...</td>\n",
              "      <td>2894</td>\n",
              "      <td>2713</td>\n",
              "      <td>181</td>\n",
              "      <td>0.000516</td>\n",
              "    </tr>\n",
              "    <tr>\n",
              "      <th>6</th>\n",
              "      <td>What are some of the best shoes in Amazon</td>\n",
              "      <td>1331</td>\n",
              "      <td>1165</td>\n",
              "      <td>166</td>\n",
              "      <td>0.000274</td>\n",
              "    </tr>\n",
              "    <tr>\n",
              "      <th>7</th>\n",
              "      <td>How to install Backsplash Wallpaper? Also find...</td>\n",
              "      <td>3428</td>\n",
              "      <td>2815</td>\n",
              "      <td>613</td>\n",
              "      <td>0.000790</td>\n",
              "    </tr>\n",
              "    <tr>\n",
              "      <th>8</th>\n",
              "      <td>What is the current weather in Toronto?</td>\n",
              "      <td>1783</td>\n",
              "      <td>1672</td>\n",
              "      <td>111</td>\n",
              "      <td>0.000317</td>\n",
              "    </tr>\n",
              "    <tr>\n",
              "      <th>9</th>\n",
              "      <td>Give me a detailed summary of wedding dresses ...</td>\n",
              "      <td>3583</td>\n",
              "      <td>3418</td>\n",
              "      <td>165</td>\n",
              "      <td>0.000612</td>\n",
              "    </tr>\n",
              "  </tbody>\n",
              "</table>\n",
              "</div>\n",
              "    <div class=\"colab-df-buttons\">\n",
              "\n",
              "  <div class=\"colab-df-container\">\n",
              "    <button class=\"colab-df-convert\" onclick=\"convertToInteractive('df-c7258a68-f6e5-4d8a-a0b2-27bfd6491c5e')\"\n",
              "            title=\"Convert this dataframe to an interactive table.\"\n",
              "            style=\"display:none;\">\n",
              "\n",
              "  <svg xmlns=\"http://www.w3.org/2000/svg\" height=\"24px\" viewBox=\"0 -960 960 960\">\n",
              "    <path d=\"M120-120v-720h720v720H120Zm60-500h600v-160H180v160Zm220 220h160v-160H400v160Zm0 220h160v-160H400v160ZM180-400h160v-160H180v160Zm440 0h160v-160H620v160ZM180-180h160v-160H180v160Zm440 0h160v-160H620v160Z\"/>\n",
              "  </svg>\n",
              "    </button>\n",
              "\n",
              "  <style>\n",
              "    .colab-df-container {\n",
              "      display:flex;\n",
              "      gap: 12px;\n",
              "    }\n",
              "\n",
              "    .colab-df-convert {\n",
              "      background-color: #E8F0FE;\n",
              "      border: none;\n",
              "      border-radius: 50%;\n",
              "      cursor: pointer;\n",
              "      display: none;\n",
              "      fill: #1967D2;\n",
              "      height: 32px;\n",
              "      padding: 0 0 0 0;\n",
              "      width: 32px;\n",
              "    }\n",
              "\n",
              "    .colab-df-convert:hover {\n",
              "      background-color: #E2EBFA;\n",
              "      box-shadow: 0px 1px 2px rgba(60, 64, 67, 0.3), 0px 1px 3px 1px rgba(60, 64, 67, 0.15);\n",
              "      fill: #174EA6;\n",
              "    }\n",
              "\n",
              "    .colab-df-buttons div {\n",
              "      margin-bottom: 4px;\n",
              "    }\n",
              "\n",
              "    [theme=dark] .colab-df-convert {\n",
              "      background-color: #3B4455;\n",
              "      fill: #D2E3FC;\n",
              "    }\n",
              "\n",
              "    [theme=dark] .colab-df-convert:hover {\n",
              "      background-color: #434B5C;\n",
              "      box-shadow: 0px 1px 3px 1px rgba(0, 0, 0, 0.15);\n",
              "      filter: drop-shadow(0px 1px 2px rgba(0, 0, 0, 0.3));\n",
              "      fill: #FFFFFF;\n",
              "    }\n",
              "  </style>\n",
              "\n",
              "    <script>\n",
              "      const buttonEl =\n",
              "        document.querySelector('#df-c7258a68-f6e5-4d8a-a0b2-27bfd6491c5e button.colab-df-convert');\n",
              "      buttonEl.style.display =\n",
              "        google.colab.kernel.accessAllowed ? 'block' : 'none';\n",
              "\n",
              "      async function convertToInteractive(key) {\n",
              "        const element = document.querySelector('#df-c7258a68-f6e5-4d8a-a0b2-27bfd6491c5e');\n",
              "        const dataTable =\n",
              "          await google.colab.kernel.invokeFunction('convertToInteractive',\n",
              "                                                    [key], {});\n",
              "        if (!dataTable) return;\n",
              "\n",
              "        const docLinkHtml = 'Like what you see? Visit the ' +\n",
              "          '<a target=\"_blank\" href=https://colab.research.google.com/notebooks/data_table.ipynb>data table notebook</a>'\n",
              "          + ' to learn more about interactive tables.';\n",
              "        element.innerHTML = '';\n",
              "        dataTable['output_type'] = 'display_data';\n",
              "        await google.colab.output.renderOutput(dataTable, element);\n",
              "        const docLink = document.createElement('div');\n",
              "        docLink.innerHTML = docLinkHtml;\n",
              "        element.appendChild(docLink);\n",
              "      }\n",
              "    </script>\n",
              "  </div>\n",
              "\n",
              "\n",
              "<div id=\"df-0be33106-bc5f-4f6c-a6a6-5610cf888eb5\">\n",
              "  <button class=\"colab-df-quickchart\" onclick=\"quickchart('df-0be33106-bc5f-4f6c-a6a6-5610cf888eb5')\"\n",
              "            title=\"Suggest charts\"\n",
              "            style=\"display:none;\">\n",
              "\n",
              "<svg xmlns=\"http://www.w3.org/2000/svg\" height=\"24px\"viewBox=\"0 0 24 24\"\n",
              "     width=\"24px\">\n",
              "    <g>\n",
              "        <path d=\"M19 3H5c-1.1 0-2 .9-2 2v14c0 1.1.9 2 2 2h14c1.1 0 2-.9 2-2V5c0-1.1-.9-2-2-2zM9 17H7v-7h2v7zm4 0h-2V7h2v10zm4 0h-2v-4h2v4z\"/>\n",
              "    </g>\n",
              "</svg>\n",
              "  </button>\n",
              "\n",
              "<style>\n",
              "  .colab-df-quickchart {\n",
              "      --bg-color: #E8F0FE;\n",
              "      --fill-color: #1967D2;\n",
              "      --hover-bg-color: #E2EBFA;\n",
              "      --hover-fill-color: #174EA6;\n",
              "      --disabled-fill-color: #AAA;\n",
              "      --disabled-bg-color: #DDD;\n",
              "  }\n",
              "\n",
              "  [theme=dark] .colab-df-quickchart {\n",
              "      --bg-color: #3B4455;\n",
              "      --fill-color: #D2E3FC;\n",
              "      --hover-bg-color: #434B5C;\n",
              "      --hover-fill-color: #FFFFFF;\n",
              "      --disabled-bg-color: #3B4455;\n",
              "      --disabled-fill-color: #666;\n",
              "  }\n",
              "\n",
              "  .colab-df-quickchart {\n",
              "    background-color: var(--bg-color);\n",
              "    border: none;\n",
              "    border-radius: 50%;\n",
              "    cursor: pointer;\n",
              "    display: none;\n",
              "    fill: var(--fill-color);\n",
              "    height: 32px;\n",
              "    padding: 0;\n",
              "    width: 32px;\n",
              "  }\n",
              "\n",
              "  .colab-df-quickchart:hover {\n",
              "    background-color: var(--hover-bg-color);\n",
              "    box-shadow: 0 1px 2px rgba(60, 64, 67, 0.3), 0 1px 3px 1px rgba(60, 64, 67, 0.15);\n",
              "    fill: var(--button-hover-fill-color);\n",
              "  }\n",
              "\n",
              "  .colab-df-quickchart-complete:disabled,\n",
              "  .colab-df-quickchart-complete:disabled:hover {\n",
              "    background-color: var(--disabled-bg-color);\n",
              "    fill: var(--disabled-fill-color);\n",
              "    box-shadow: none;\n",
              "  }\n",
              "\n",
              "  .colab-df-spinner {\n",
              "    border: 2px solid var(--fill-color);\n",
              "    border-color: transparent;\n",
              "    border-bottom-color: var(--fill-color);\n",
              "    animation:\n",
              "      spin 1s steps(1) infinite;\n",
              "  }\n",
              "\n",
              "  @keyframes spin {\n",
              "    0% {\n",
              "      border-color: transparent;\n",
              "      border-bottom-color: var(--fill-color);\n",
              "      border-left-color: var(--fill-color);\n",
              "    }\n",
              "    20% {\n",
              "      border-color: transparent;\n",
              "      border-left-color: var(--fill-color);\n",
              "      border-top-color: var(--fill-color);\n",
              "    }\n",
              "    30% {\n",
              "      border-color: transparent;\n",
              "      border-left-color: var(--fill-color);\n",
              "      border-top-color: var(--fill-color);\n",
              "      border-right-color: var(--fill-color);\n",
              "    }\n",
              "    40% {\n",
              "      border-color: transparent;\n",
              "      border-right-color: var(--fill-color);\n",
              "      border-top-color: var(--fill-color);\n",
              "    }\n",
              "    60% {\n",
              "      border-color: transparent;\n",
              "      border-right-color: var(--fill-color);\n",
              "    }\n",
              "    80% {\n",
              "      border-color: transparent;\n",
              "      border-right-color: var(--fill-color);\n",
              "      border-bottom-color: var(--fill-color);\n",
              "    }\n",
              "    90% {\n",
              "      border-color: transparent;\n",
              "      border-bottom-color: var(--fill-color);\n",
              "    }\n",
              "  }\n",
              "</style>\n",
              "\n",
              "  <script>\n",
              "    async function quickchart(key) {\n",
              "      const quickchartButtonEl =\n",
              "        document.querySelector('#' + key + ' button');\n",
              "      quickchartButtonEl.disabled = true;  // To prevent multiple clicks.\n",
              "      quickchartButtonEl.classList.add('colab-df-spinner');\n",
              "      try {\n",
              "        const charts = await google.colab.kernel.invokeFunction(\n",
              "            'suggestCharts', [key], {});\n",
              "      } catch (error) {\n",
              "        console.error('Error during call to suggestCharts:', error);\n",
              "      }\n",
              "      quickchartButtonEl.classList.remove('colab-df-spinner');\n",
              "      quickchartButtonEl.classList.add('colab-df-quickchart-complete');\n",
              "    }\n",
              "    (() => {\n",
              "      let quickchartButtonEl =\n",
              "        document.querySelector('#df-0be33106-bc5f-4f6c-a6a6-5610cf888eb5 button');\n",
              "      quickchartButtonEl.style.display =\n",
              "        google.colab.kernel.accessAllowed ? 'block' : 'none';\n",
              "    })();\n",
              "  </script>\n",
              "</div>\n",
              "\n",
              "  <div id=\"id_104fa780-21d2-4680-b734-838d4a7d46df\">\n",
              "    <style>\n",
              "      .colab-df-generate {\n",
              "        background-color: #E8F0FE;\n",
              "        border: none;\n",
              "        border-radius: 50%;\n",
              "        cursor: pointer;\n",
              "        display: none;\n",
              "        fill: #1967D2;\n",
              "        height: 32px;\n",
              "        padding: 0 0 0 0;\n",
              "        width: 32px;\n",
              "      }\n",
              "\n",
              "      .colab-df-generate:hover {\n",
              "        background-color: #E2EBFA;\n",
              "        box-shadow: 0px 1px 2px rgba(60, 64, 67, 0.3), 0px 1px 3px 1px rgba(60, 64, 67, 0.15);\n",
              "        fill: #174EA6;\n",
              "      }\n",
              "\n",
              "      [theme=dark] .colab-df-generate {\n",
              "        background-color: #3B4455;\n",
              "        fill: #D2E3FC;\n",
              "      }\n",
              "\n",
              "      [theme=dark] .colab-df-generate:hover {\n",
              "        background-color: #434B5C;\n",
              "        box-shadow: 0px 1px 3px 1px rgba(0, 0, 0, 0.15);\n",
              "        filter: drop-shadow(0px 1px 2px rgba(0, 0, 0, 0.3));\n",
              "        fill: #FFFFFF;\n",
              "      }\n",
              "    </style>\n",
              "    <button class=\"colab-df-generate\" onclick=\"generateWithVariable('df_tokens')\"\n",
              "            title=\"Generate code using this dataframe.\"\n",
              "            style=\"display:none;\">\n",
              "\n",
              "  <svg xmlns=\"http://www.w3.org/2000/svg\" height=\"24px\"viewBox=\"0 0 24 24\"\n",
              "       width=\"24px\">\n",
              "    <path d=\"M7,19H8.4L18.45,9,17,7.55,7,17.6ZM5,21V16.75L18.45,3.32a2,2,0,0,1,2.83,0l1.4,1.43a1.91,1.91,0,0,1,.58,1.4,1.91,1.91,0,0,1-.58,1.4L9.25,21ZM18.45,9,17,7.55Zm-12,3A5.31,5.31,0,0,0,4.9,8.1,5.31,5.31,0,0,0,1,6.5,5.31,5.31,0,0,0,4.9,4.9,5.31,5.31,0,0,0,6.5,1,5.31,5.31,0,0,0,8.1,4.9,5.31,5.31,0,0,0,12,6.5,5.46,5.46,0,0,0,6.5,12Z\"/>\n",
              "  </svg>\n",
              "    </button>\n",
              "    <script>\n",
              "      (() => {\n",
              "      const buttonEl =\n",
              "        document.querySelector('#id_104fa780-21d2-4680-b734-838d4a7d46df button.colab-df-generate');\n",
              "      buttonEl.style.display =\n",
              "        google.colab.kernel.accessAllowed ? 'block' : 'none';\n",
              "\n",
              "      buttonEl.onclick = () => {\n",
              "        google.colab.notebook.generateWithVariable('df_tokens');\n",
              "      }\n",
              "      })();\n",
              "    </script>\n",
              "  </div>\n",
              "\n",
              "    </div>\n",
              "  </div>\n"
            ],
            "application/vnd.google.colaboratory.intrinsic+json": {
              "type": "dataframe",
              "variable_name": "df_tokens",
              "summary": "{\n  \"name\": \"df_tokens\",\n  \"rows\": 10,\n  \"fields\": [\n    {\n      \"column\": \"Query\",\n      \"properties\": {\n        \"dtype\": \"string\",\n        \"num_unique_values\": 10,\n        \"samples\": [\n          \"What is the current weather in Toronto?\",\n          \"What is the weather in London for next week? \",\n          \"What kind of clothes should we use for travel in Switzerland next week? Check for some brands in amazon\"\n        ],\n        \"semantic_type\": \"\",\n        \"description\": \"\"\n      }\n    },\n    {\n      \"column\": \"Total Tokens\",\n      \"properties\": {\n        \"dtype\": \"number\",\n        \"std\": 842,\n        \"min\": 1331,\n        \"max\": 3583,\n        \"num_unique_values\": 10,\n        \"samples\": [\n          1783,\n          1777,\n          2894\n        ],\n        \"semantic_type\": \"\",\n        \"description\": \"\"\n      }\n    },\n    {\n      \"column\": \"Prompt Tokens\",\n      \"properties\": {\n        \"dtype\": \"number\",\n        \"std\": 817,\n        \"min\": 1165,\n        \"max\": 3418,\n        \"num_unique_values\": 10,\n        \"samples\": [\n          1672,\n          1662,\n          2713\n        ],\n        \"semantic_type\": \"\",\n        \"description\": \"\"\n      }\n    },\n    {\n      \"column\": \"Completion Tokens\",\n      \"properties\": {\n        \"dtype\": \"number\",\n        \"std\": 175,\n        \"min\": 111,\n        \"max\": 613,\n        \"num_unique_values\": 10,\n        \"samples\": [\n          111,\n          115,\n          181\n        ],\n        \"semantic_type\": \"\",\n        \"description\": \"\"\n      }\n    },\n    {\n      \"column\": \"Total Cost (USD)\",\n      \"properties\": {\n        \"dtype\": \"number\",\n        \"std\": 0.0001649361459777692,\n        \"min\": 0.00027435,\n        \"max\": 0.0007900499999999999,\n        \"num_unique_values\": 10,\n        \"samples\": [\n          0.0003174,\n          0.0003183,\n          0.00051555\n        ],\n        \"semantic_type\": \"\",\n        \"description\": \"\"\n      }\n    }\n  ]\n}"
            }
          },
          "metadata": {},
          "execution_count": 16
        }
      ],
      "source": [
        "# Checking the analysis result\n",
        "df_tokens"
      ]
    },
    {
      "cell_type": "code",
      "execution_count": null,
      "metadata": {
        "colab": {
          "base_uri": "https://localhost:8080/",
          "height": 300
        },
        "id": "xSTSdadP-BQv",
        "outputId": "9942676b-cbc2-4586-9641-d0b061895d7c"
      },
      "outputs": [
        {
          "output_type": "execute_result",
          "data": {
            "text/plain": [
              "       Total Tokens  Prompt Tokens  Completion Tokens  Total Cost (USD)\n",
              "count     10.000000      10.000000          10.000000         10.000000\n",
              "mean    2649.800000    2388.700000         261.100000          0.000515\n",
              "std      842.670728     817.101388         175.985763          0.000165\n",
              "min     1331.000000    1165.000000         111.000000          0.000274\n",
              "25%     1824.000000    1664.500000         165.250000          0.000368\n",
              "50%     3026.000000    2764.000000         179.500000          0.000542\n",
              "75%     3331.250000    2958.500000         308.000000          0.000609\n",
              "max     3583.000000    3418.000000         613.000000          0.000790"
            ],
            "text/html": [
              "\n",
              "  <div id=\"df-2399fae0-aaaa-40df-8fbd-bf3e64cc2aed\" class=\"colab-df-container\">\n",
              "    <div>\n",
              "<style scoped>\n",
              "    .dataframe tbody tr th:only-of-type {\n",
              "        vertical-align: middle;\n",
              "    }\n",
              "\n",
              "    .dataframe tbody tr th {\n",
              "        vertical-align: top;\n",
              "    }\n",
              "\n",
              "    .dataframe thead th {\n",
              "        text-align: right;\n",
              "    }\n",
              "</style>\n",
              "<table border=\"1\" class=\"dataframe\">\n",
              "  <thead>\n",
              "    <tr style=\"text-align: right;\">\n",
              "      <th></th>\n",
              "      <th>Total Tokens</th>\n",
              "      <th>Prompt Tokens</th>\n",
              "      <th>Completion Tokens</th>\n",
              "      <th>Total Cost (USD)</th>\n",
              "    </tr>\n",
              "  </thead>\n",
              "  <tbody>\n",
              "    <tr>\n",
              "      <th>count</th>\n",
              "      <td>10.000000</td>\n",
              "      <td>10.000000</td>\n",
              "      <td>10.000000</td>\n",
              "      <td>10.000000</td>\n",
              "    </tr>\n",
              "    <tr>\n",
              "      <th>mean</th>\n",
              "      <td>2649.800000</td>\n",
              "      <td>2388.700000</td>\n",
              "      <td>261.100000</td>\n",
              "      <td>0.000515</td>\n",
              "    </tr>\n",
              "    <tr>\n",
              "      <th>std</th>\n",
              "      <td>842.670728</td>\n",
              "      <td>817.101388</td>\n",
              "      <td>175.985763</td>\n",
              "      <td>0.000165</td>\n",
              "    </tr>\n",
              "    <tr>\n",
              "      <th>min</th>\n",
              "      <td>1331.000000</td>\n",
              "      <td>1165.000000</td>\n",
              "      <td>111.000000</td>\n",
              "      <td>0.000274</td>\n",
              "    </tr>\n",
              "    <tr>\n",
              "      <th>25%</th>\n",
              "      <td>1824.000000</td>\n",
              "      <td>1664.500000</td>\n",
              "      <td>165.250000</td>\n",
              "      <td>0.000368</td>\n",
              "    </tr>\n",
              "    <tr>\n",
              "      <th>50%</th>\n",
              "      <td>3026.000000</td>\n",
              "      <td>2764.000000</td>\n",
              "      <td>179.500000</td>\n",
              "      <td>0.000542</td>\n",
              "    </tr>\n",
              "    <tr>\n",
              "      <th>75%</th>\n",
              "      <td>3331.250000</td>\n",
              "      <td>2958.500000</td>\n",
              "      <td>308.000000</td>\n",
              "      <td>0.000609</td>\n",
              "    </tr>\n",
              "    <tr>\n",
              "      <th>max</th>\n",
              "      <td>3583.000000</td>\n",
              "      <td>3418.000000</td>\n",
              "      <td>613.000000</td>\n",
              "      <td>0.000790</td>\n",
              "    </tr>\n",
              "  </tbody>\n",
              "</table>\n",
              "</div>\n",
              "    <div class=\"colab-df-buttons\">\n",
              "\n",
              "  <div class=\"colab-df-container\">\n",
              "    <button class=\"colab-df-convert\" onclick=\"convertToInteractive('df-2399fae0-aaaa-40df-8fbd-bf3e64cc2aed')\"\n",
              "            title=\"Convert this dataframe to an interactive table.\"\n",
              "            style=\"display:none;\">\n",
              "\n",
              "  <svg xmlns=\"http://www.w3.org/2000/svg\" height=\"24px\" viewBox=\"0 -960 960 960\">\n",
              "    <path d=\"M120-120v-720h720v720H120Zm60-500h600v-160H180v160Zm220 220h160v-160H400v160Zm0 220h160v-160H400v160ZM180-400h160v-160H180v160Zm440 0h160v-160H620v160ZM180-180h160v-160H180v160Zm440 0h160v-160H620v160Z\"/>\n",
              "  </svg>\n",
              "    </button>\n",
              "\n",
              "  <style>\n",
              "    .colab-df-container {\n",
              "      display:flex;\n",
              "      gap: 12px;\n",
              "    }\n",
              "\n",
              "    .colab-df-convert {\n",
              "      background-color: #E8F0FE;\n",
              "      border: none;\n",
              "      border-radius: 50%;\n",
              "      cursor: pointer;\n",
              "      display: none;\n",
              "      fill: #1967D2;\n",
              "      height: 32px;\n",
              "      padding: 0 0 0 0;\n",
              "      width: 32px;\n",
              "    }\n",
              "\n",
              "    .colab-df-convert:hover {\n",
              "      background-color: #E2EBFA;\n",
              "      box-shadow: 0px 1px 2px rgba(60, 64, 67, 0.3), 0px 1px 3px 1px rgba(60, 64, 67, 0.15);\n",
              "      fill: #174EA6;\n",
              "    }\n",
              "\n",
              "    .colab-df-buttons div {\n",
              "      margin-bottom: 4px;\n",
              "    }\n",
              "\n",
              "    [theme=dark] .colab-df-convert {\n",
              "      background-color: #3B4455;\n",
              "      fill: #D2E3FC;\n",
              "    }\n",
              "\n",
              "    [theme=dark] .colab-df-convert:hover {\n",
              "      background-color: #434B5C;\n",
              "      box-shadow: 0px 1px 3px 1px rgba(0, 0, 0, 0.15);\n",
              "      filter: drop-shadow(0px 1px 2px rgba(0, 0, 0, 0.3));\n",
              "      fill: #FFFFFF;\n",
              "    }\n",
              "  </style>\n",
              "\n",
              "    <script>\n",
              "      const buttonEl =\n",
              "        document.querySelector('#df-2399fae0-aaaa-40df-8fbd-bf3e64cc2aed button.colab-df-convert');\n",
              "      buttonEl.style.display =\n",
              "        google.colab.kernel.accessAllowed ? 'block' : 'none';\n",
              "\n",
              "      async function convertToInteractive(key) {\n",
              "        const element = document.querySelector('#df-2399fae0-aaaa-40df-8fbd-bf3e64cc2aed');\n",
              "        const dataTable =\n",
              "          await google.colab.kernel.invokeFunction('convertToInteractive',\n",
              "                                                    [key], {});\n",
              "        if (!dataTable) return;\n",
              "\n",
              "        const docLinkHtml = 'Like what you see? Visit the ' +\n",
              "          '<a target=\"_blank\" href=https://colab.research.google.com/notebooks/data_table.ipynb>data table notebook</a>'\n",
              "          + ' to learn more about interactive tables.';\n",
              "        element.innerHTML = '';\n",
              "        dataTable['output_type'] = 'display_data';\n",
              "        await google.colab.output.renderOutput(dataTable, element);\n",
              "        const docLink = document.createElement('div');\n",
              "        docLink.innerHTML = docLinkHtml;\n",
              "        element.appendChild(docLink);\n",
              "      }\n",
              "    </script>\n",
              "  </div>\n",
              "\n",
              "\n",
              "<div id=\"df-ccdf495c-849d-488a-a7a5-0c1b7e531ac5\">\n",
              "  <button class=\"colab-df-quickchart\" onclick=\"quickchart('df-ccdf495c-849d-488a-a7a5-0c1b7e531ac5')\"\n",
              "            title=\"Suggest charts\"\n",
              "            style=\"display:none;\">\n",
              "\n",
              "<svg xmlns=\"http://www.w3.org/2000/svg\" height=\"24px\"viewBox=\"0 0 24 24\"\n",
              "     width=\"24px\">\n",
              "    <g>\n",
              "        <path d=\"M19 3H5c-1.1 0-2 .9-2 2v14c0 1.1.9 2 2 2h14c1.1 0 2-.9 2-2V5c0-1.1-.9-2-2-2zM9 17H7v-7h2v7zm4 0h-2V7h2v10zm4 0h-2v-4h2v4z\"/>\n",
              "    </g>\n",
              "</svg>\n",
              "  </button>\n",
              "\n",
              "<style>\n",
              "  .colab-df-quickchart {\n",
              "      --bg-color: #E8F0FE;\n",
              "      --fill-color: #1967D2;\n",
              "      --hover-bg-color: #E2EBFA;\n",
              "      --hover-fill-color: #174EA6;\n",
              "      --disabled-fill-color: #AAA;\n",
              "      --disabled-bg-color: #DDD;\n",
              "  }\n",
              "\n",
              "  [theme=dark] .colab-df-quickchart {\n",
              "      --bg-color: #3B4455;\n",
              "      --fill-color: #D2E3FC;\n",
              "      --hover-bg-color: #434B5C;\n",
              "      --hover-fill-color: #FFFFFF;\n",
              "      --disabled-bg-color: #3B4455;\n",
              "      --disabled-fill-color: #666;\n",
              "  }\n",
              "\n",
              "  .colab-df-quickchart {\n",
              "    background-color: var(--bg-color);\n",
              "    border: none;\n",
              "    border-radius: 50%;\n",
              "    cursor: pointer;\n",
              "    display: none;\n",
              "    fill: var(--fill-color);\n",
              "    height: 32px;\n",
              "    padding: 0;\n",
              "    width: 32px;\n",
              "  }\n",
              "\n",
              "  .colab-df-quickchart:hover {\n",
              "    background-color: var(--hover-bg-color);\n",
              "    box-shadow: 0 1px 2px rgba(60, 64, 67, 0.3), 0 1px 3px 1px rgba(60, 64, 67, 0.15);\n",
              "    fill: var(--button-hover-fill-color);\n",
              "  }\n",
              "\n",
              "  .colab-df-quickchart-complete:disabled,\n",
              "  .colab-df-quickchart-complete:disabled:hover {\n",
              "    background-color: var(--disabled-bg-color);\n",
              "    fill: var(--disabled-fill-color);\n",
              "    box-shadow: none;\n",
              "  }\n",
              "\n",
              "  .colab-df-spinner {\n",
              "    border: 2px solid var(--fill-color);\n",
              "    border-color: transparent;\n",
              "    border-bottom-color: var(--fill-color);\n",
              "    animation:\n",
              "      spin 1s steps(1) infinite;\n",
              "  }\n",
              "\n",
              "  @keyframes spin {\n",
              "    0% {\n",
              "      border-color: transparent;\n",
              "      border-bottom-color: var(--fill-color);\n",
              "      border-left-color: var(--fill-color);\n",
              "    }\n",
              "    20% {\n",
              "      border-color: transparent;\n",
              "      border-left-color: var(--fill-color);\n",
              "      border-top-color: var(--fill-color);\n",
              "    }\n",
              "    30% {\n",
              "      border-color: transparent;\n",
              "      border-left-color: var(--fill-color);\n",
              "      border-top-color: var(--fill-color);\n",
              "      border-right-color: var(--fill-color);\n",
              "    }\n",
              "    40% {\n",
              "      border-color: transparent;\n",
              "      border-right-color: var(--fill-color);\n",
              "      border-top-color: var(--fill-color);\n",
              "    }\n",
              "    60% {\n",
              "      border-color: transparent;\n",
              "      border-right-color: var(--fill-color);\n",
              "    }\n",
              "    80% {\n",
              "      border-color: transparent;\n",
              "      border-right-color: var(--fill-color);\n",
              "      border-bottom-color: var(--fill-color);\n",
              "    }\n",
              "    90% {\n",
              "      border-color: transparent;\n",
              "      border-bottom-color: var(--fill-color);\n",
              "    }\n",
              "  }\n",
              "</style>\n",
              "\n",
              "  <script>\n",
              "    async function quickchart(key) {\n",
              "      const quickchartButtonEl =\n",
              "        document.querySelector('#' + key + ' button');\n",
              "      quickchartButtonEl.disabled = true;  // To prevent multiple clicks.\n",
              "      quickchartButtonEl.classList.add('colab-df-spinner');\n",
              "      try {\n",
              "        const charts = await google.colab.kernel.invokeFunction(\n",
              "            'suggestCharts', [key], {});\n",
              "      } catch (error) {\n",
              "        console.error('Error during call to suggestCharts:', error);\n",
              "      }\n",
              "      quickchartButtonEl.classList.remove('colab-df-spinner');\n",
              "      quickchartButtonEl.classList.add('colab-df-quickchart-complete');\n",
              "    }\n",
              "    (() => {\n",
              "      let quickchartButtonEl =\n",
              "        document.querySelector('#df-ccdf495c-849d-488a-a7a5-0c1b7e531ac5 button');\n",
              "      quickchartButtonEl.style.display =\n",
              "        google.colab.kernel.accessAllowed ? 'block' : 'none';\n",
              "    })();\n",
              "  </script>\n",
              "</div>\n",
              "\n",
              "    </div>\n",
              "  </div>\n"
            ],
            "application/vnd.google.colaboratory.intrinsic+json": {
              "type": "dataframe",
              "summary": "{\n  \"name\": \"df_tokens\",\n  \"rows\": 8,\n  \"fields\": [\n    {\n      \"column\": \"Total Tokens\",\n      \"properties\": {\n        \"dtype\": \"number\",\n        \"std\": 1280.982931086312,\n        \"min\": 10.0,\n        \"max\": 3583.0,\n        \"num_unique_values\": 8,\n        \"samples\": [\n          2649.8,\n          3026.0,\n          10.0\n        ],\n        \"semantic_type\": \"\",\n        \"description\": \"\"\n      }\n    },\n    {\n      \"column\": \"Prompt Tokens\",\n      \"properties\": {\n        \"dtype\": \"number\",\n        \"std\": 1180.2239130443472,\n        \"min\": 10.0,\n        \"max\": 3418.0,\n        \"num_unique_values\": 8,\n        \"samples\": [\n          2388.7,\n          2764.0,\n          10.0\n        ],\n        \"semantic_type\": \"\",\n        \"description\": \"\"\n      }\n    },\n    {\n      \"column\": \"Completion Tokens\",\n      \"properties\": {\n        \"dtype\": \"number\",\n        \"std\": 179.65399281730873,\n        \"min\": 10.0,\n        \"max\": 613.0,\n        \"num_unique_values\": 8,\n        \"samples\": [\n          261.1,\n          179.5,\n          10.0\n        ],\n        \"semantic_type\": \"\",\n        \"description\": \"\"\n      }\n    },\n    {\n      \"column\": \"Total Cost (USD)\",\n      \"properties\": {\n        \"dtype\": \"number\",\n        \"std\": 3.5353691175827477,\n        \"min\": 0.0001649361459777692,\n        \"max\": 10.0,\n        \"num_unique_values\": 8,\n        \"samples\": [\n          0.0005149649999999999,\n          0.0005417250000000001,\n          10.0\n        ],\n        \"semantic_type\": \"\",\n        \"description\": \"\"\n      }\n    }\n  ]\n}"
            }
          },
          "metadata": {},
          "execution_count": 17
        }
      ],
      "source": [
        "# Summary Statistics of the result\n",
        "df_tokens.describe()"
      ]
    },
    {
      "cell_type": "code",
      "execution_count": null,
      "metadata": {
        "colab": {
          "base_uri": "https://localhost:8080/"
        },
        "id": "8ofnJwEoDOgZ",
        "outputId": "71ed2a00-0d80-45c2-e907-3abf055d6473"
      },
      "outputs": [
        {
          "output_type": "execute_result",
          "data": {
            "text/plain": [
              "0.0051496499999999995"
            ]
          },
          "metadata": {},
          "execution_count": 18
        }
      ],
      "source": [
        "# Total Cost\n",
        "df_tokens['Total Cost (USD)'].sum()"
      ]
    },
    {
      "cell_type": "markdown",
      "metadata": {
        "id": "n1E-U_l3CyW-"
      },
      "source": [
        "Observations\n",
        "\n",
        "- Based on our `query-set` of 10 queries, we see that the maximum number of output tokens generated is ~600 and the total cost is ~$0.009\n",
        "- Assuming these 10 queries are representative of the type of queries users will ask, we can keep a model output token limit at 2x or 4x, i.e. 2000 tokens.\n",
        "- In practice the `query-set` should be much higher (in orders of tens of thousands) to get a good sense of variability.\n",
        "- Further user feedback can be tested to see if the responses are suitable and accordingly we can set the output tokens\n",
        "\n",
        "### Let's set the number of output tokens as 2000 and run the agent_executor again."
      ]
    },
    {
      "cell_type": "code",
      "execution_count": null,
      "metadata": {
        "id": "9ZxwWmI7-BTK"
      },
      "outputs": [],
      "source": [
        "llm = ChatOpenAI(model = 'gpt-4o-mini', temperature = 0, max_tokens = 2000)\n",
        "react_agent = create_react_agent(\n",
        "    llm=llm,  # The OpenAI model responsible for reasoning and response generation.\n",
        "    tools=tools,  # A list of external tools (e.g., web search, product retrieval).\n",
        "    prompt=prompt  # The ReAct-style prompt guiding the agent's thought process.\n",
        ")\n",
        "# executes the logical steps we created\n",
        "agent_executor = AgentExecutor(\n",
        "    agent=react_agent,\n",
        "    tools=tools,\n",
        "    verbose=True,\n",
        "    handle_parsing_errors=True,\n",
        "    max_iterations = 10 # useful when agent is stuck in a loop\n",
        ")"
      ]
    },
    {
      "cell_type": "code",
      "execution_count": null,
      "metadata": {
        "colab": {
          "base_uri": "https://localhost:8080/"
        },
        "id": "2h1qjyBA-BV0",
        "outputId": "22cbc355-23d8-4138-a73b-d1a0433e4f01"
      },
      "outputs": [
        {
          "output_type": "stream",
          "name": "stdout",
          "text": [
            "\n",
            "\n",
            "\u001b[1m> Entering new AgentExecutor chain...\u001b[0m\n",
            "\u001b[32;1m\u001b[1;3mTo answer the question about installing backsplash wallpaper and to find some brands on Amazon, I will first search for installation instructions and tips. Then, I will look for brands available on Amazon.\n",
            "\n",
            "Action: search_tavily  \n",
            "Action Input: \"How to install Backsplash Wallpaper\"  \u001b[0m\u001b[36;1m\u001b[1;3m[{'url': 'https://rehabdorks.com/2022/02/installing-a-peel-and-stick-wallpaper-backsplash/', 'content': 'Installing a Peel and Stick Wallpaper Backsplash | REHAB DORKS Home\\xa0/\\xa0Before & After • Design • Kitchen • Latest • Projects • The Big House (Queen Anne) • Tutorials\\xa0/\\xa0Installing a Peel and Stick Wallpaper Backsplash Ideally, you want the wallpaper to bend around the corner of the wall, so before starting your first piece, you need to measure in from the corner and mark the wall at a point that is shorter than the width of your roll. Once you know where you want to place your first piece, you then need to unroll and hold the wallpaper up to the wall and cut it leaving about 2 inches extra at the top and bottom.'}, {'url': 'https://thehomesihavemade.com/how-to-wallpaper-a-backsplash/', 'content': 'I personally recommending using peel-and-stick wallpaper or heavy-duty contact paper for backsplashes because they are both durable (easy to wipe clean) and removable (it just peels right off!) Wallpaper can be expensive, so I highly recommend spending a considerable amount of time planning out exactly how you will apply the paper to your backsplash (and other areas) before you even start cutting and peeling. NOTE: If your backsplash area doesn’t have any large or unique features to work around, you can likely skip this step and set right to hanging your larger cuts of paper directly to the wall.'}, {'url': 'https://www.delineateyourdwelling.com/how-to-install-a-removable-wallpaper-backsplash/', 'content': 'How to install a Removable Wallpaper Backsplash - Delineate Your Dwelling Home / DIY / How to install a Removable Wallpaper Backsplash How to install a Removable Wallpaper Backsplash INSIDE : Learn how to completely transform your kitchen by installing a removable wallpaper backsplash. – How to install a Removable Wallpaper Backsplash What supplies do I need to\\xa0install a Removable Wallpaper Backsplash? How to\\xa0install a Removable Wallpaper Backsplash in your kitchen The first item to take care of when installing a removable wallpaper backsplash is prepping your existing backsplash and/or wall. It’s time to start measuring and cutting your removable wallpaper now! Install Removable Wallpaper Backsplash in Your Kitchen Learn how to completely transform your kitchen by installing a removable wallpaper backsplash.'}, {'url': 'https://www.reddit.com/r/HomeImprovement/comments/jv2qyl/installing_backsplash_on_textured_wallpaper/', 'content': \"Screw a thin piece of plywood to the wall as a base,.and stick the tile to that. It'll be a lot smoother than the wall, so that will be helpful.\"}, {'url': 'https://www.neathousesweethome.com/peel-and-stick-wallpaper-backsplash-kitchen/', 'content': 'What Is The Best Peel and Stick Wallpaper for a Kitchen Backsplash? This is my second time installing peel-and-stick wallpaper tile. For the first time, I used a peel-and-stick wallpaper in a hexagonal tile design as a backsplash in our laundry room. So considering that installing the hexagonal peel-and-stick wallpaper was tricky and that the RoomMates Sticktiles started to peel, I picked a different brand for the kitchen nook backsplash. This time, I chose this Art3D peel-and-stick subway tile wallpaper, a trendy kitchen backsplash. Use peel-and-stick tile to cover small areas. I hope I inspired you to add some wallpaper or peel-and-stick backsplash to your kitchen or any other nook in your home that needs a little pizzazz!'}]\u001b[0m\u001b[32;1m\u001b[1;3mI have gathered some useful information on how to install backsplash wallpaper. The general steps include measuring the area, cutting the wallpaper with extra length, and ensuring the surface is clean and smooth before application. Now, I will search for brands of backsplash wallpaper available on Amazon.\n",
            "\n",
            "Action: amazon_product_search  \n",
            "Action Input: \"backsplash wallpaper\"  \u001b[0m\u001b[33;1m\u001b[1;3mout the size you want. &nbsp;</strong><br><strong>3.Use dishcloth or card to remove any air bubbles.&nbsp;</strong><br><br><strong>Package Included: &nbsp;</strong><br><strong>1 × Kitchen Backsplash Wallpaper&nbsp;</strong><br><br><strong>100%\n",
            "\n",
            "Title\n",
            "Delavala Self Adhesive Kitchen Backsplash Wallpaper, Oil Proof Aluminum Foil Kitchen Sticker (Sliver 5(Mtr))\n",
            "Description\n",
            "\n",
            "Title\n",
            "Printed Vinyl Mobile Wrap Compatible with OnePlus 9R Skin Sticker Protector for Back Only - Blue Gold Marble-10 (with Matte Lamination)\n",
            "Description\n",
            "\n",
            "Title\n",
            "PosterHub Pink Floyd The Wall Poster Matte Finish Paper Print 12 x18 Inch (Multicolor) HS - P076\n",
            "Description\u001b[0m\u001b[32;1m\u001b[1;3mI have gathered some useful information on how to install backsplash wallpaper. The general steps include measuring the area, cutting the wallpaper with extra length, and ensuring the surface is clean and smooth before application. Now, I will search for brands of backsplash wallpaper available on Amazon.\n",
            "\n",
            "Action: amazon_product_search  \n",
            "Action Input: \"backsplash wallpaper\"  \u001b[0m\u001b[33;1m\u001b[1;3mout the size you want. &nbsp;</strong><br><strong>3.Use dishcloth or card to remove any air bubbles.&nbsp;</strong><br><br><strong>Package Included: &nbsp;</strong><br><strong>1 × Kitchen Backsplash Wallpaper&nbsp;</strong><br><br><strong>100%\n",
            "\n",
            "Title\n",
            "Delavala Self Adhesive Kitchen Backsplash Wallpaper, Oil Proof Aluminum Foil Kitchen Sticker (Sliver 5(Mtr))\n",
            "Description\n",
            "\n",
            "Title\n",
            "Printed Vinyl Mobile Wrap Compatible with OnePlus 9R Skin Sticker Protector for Back Only - Blue Gold Marble-10 (with Matte Lamination)\n",
            "Description\n",
            "\n",
            "Title\n",
            "PosterHub Pink Floyd The Wall Poster Matte Finish Paper Print 12 x18 Inch (Multicolor) HS - P076\n",
            "Description\u001b[0m\u001b[32;1m\u001b[1;3mIt seems that the search for backsplash wallpaper on Amazon did not yield comprehensive results. I will try again to find more relevant products.\n",
            "\n",
            "Action: amazon_product_search  \n",
            "Action Input: \"backsplash wallpaper peel and stick\"  \u001b[0m\u001b[33;1m\u001b[1;3mTitle\n",
            "Delavala Self Adhesive Kitchen Backsplash Wallpaper, Oil Proof Aluminum Foil Kitchen Sticker (Sliver 5(Mtr))\n",
            "Description\n",
            "\n",
            "out the size you want. &nbsp;</strong><br><strong>3.Use dishcloth or card to remove any air bubbles.&nbsp;</strong><br><br><strong>Package Included: &nbsp;</strong><br><strong>1 × Kitchen Backsplash Wallpaper&nbsp;</strong><br><br><strong>100%\n",
            "\n",
            "Title\n",
            "Printed Vinyl Mobile Wrap Compatible with OnePlus 9R Skin Sticker Protector for Back Only - Blue Gold Marble-10 (with Matte Lamination)\n",
            "Description\n",
            "\n",
            "applying surface and start attaching them slowly<br/>6. Proceed carefully with the use of a clean cloth and/or a plastic card (i.e. ATM card) to assure no air bubbles remain until the liner is removed.\u001b[0m\u001b[32;1m\u001b[1;3mIt seems that the search for backsplash wallpaper on Amazon is still not yielding comprehensive results. I will try again to find more relevant products.\n",
            "\n",
            "Action: amazon_product_search  \n",
            "Action Input: \"peel and stick backsplash wallpaper\"  \u001b[0m\u001b[33;1m\u001b[1;3mTitle\n",
            "Delavala Self Adhesive Kitchen Backsplash Wallpaper, Oil Proof Aluminum Foil Kitchen Sticker (Sliver 5(Mtr))\n",
            "Description\n",
            "\n",
            "out the size you want. &nbsp;</strong><br><strong>3.Use dishcloth or card to remove any air bubbles.&nbsp;</strong><br><br><strong>Package Included: &nbsp;</strong><br><strong>1 × Kitchen Backsplash Wallpaper&nbsp;</strong><br><br><strong>100%\n",
            "\n",
            "Title\n",
            "Printed Vinyl Mobile Wrap Compatible with OnePlus 9R Skin Sticker Protector for Back Only - Blue Gold Marble-10 (with Matte Lamination)\n",
            "Description\n",
            "\n",
            "applying with a blade/scissors<br/>4. Align the laptop skin on your laptop, take care that you put it on straight and in the exact position that you want to place it<br/>5. Remove only one side of the liner from sheet, align to the applying surface\u001b[0m\u001b[32;1m\u001b[1;3mIt seems that the search for backsplash wallpaper on Amazon is still not yielding comprehensive results. I will try again to find more relevant products.\n",
            "\n",
            "Action: amazon_product_search  \n",
            "Action Input: \"kitchen backsplash wallpaper\"  \u001b[0m\u001b[33;1m\u001b[1;3mout the size you want. &nbsp;</strong><br><strong>3.Use dishcloth or card to remove any air bubbles.&nbsp;</strong><br><br><strong>Package Included: &nbsp;</strong><br><strong>1 × Kitchen Backsplash Wallpaper&nbsp;</strong><br><br><strong>100%\n",
            "\n",
            "Title\n",
            "Delavala Self Adhesive Kitchen Backsplash Wallpaper, Oil Proof Aluminum Foil Kitchen Sticker (Sliver 5(Mtr))\n",
            "Description\n",
            "\n",
            "<p><strong>Aluminum Foil Stickers-good kitchen helper for mom and wife.&nbsp;</strong><br><br><strong>Specification: &nbsp;</strong><br><strong>-Materials: high-quality PVC &nbsp;</strong><br><strong>-Size: 2 MT&nbsp;</strong><br><strong>-Color:\n",
            "\n",
            "Title\n",
            "PosterHub Pink Floyd The Wall Poster Matte Finish Paper Print 12 x18 Inch (Multicolor) HS - P076\n",
            "Description\u001b[0m\u001b[32;1m\u001b[1;3mIt seems that the search for backsplash wallpaper on Amazon is still not yielding comprehensive results. I will try again to find more relevant products.\n",
            "\n",
            "Action: amazon_product_search  \n",
            "Action Input: \"self adhesive backsplash wallpaper\"  \u001b[0m\u001b[33;1m\u001b[1;3mTitle\n",
            "Delavala Self Adhesive Kitchen Backsplash Wallpaper, Oil Proof Aluminum Foil Kitchen Sticker (Sliver 5(Mtr))\n",
            "Description\n",
            "\n",
            "out the size you want. &nbsp;</strong><br><strong>3.Use dishcloth or card to remove any air bubbles.&nbsp;</strong><br><br><strong>Package Included: &nbsp;</strong><br><strong>1 × Kitchen Backsplash Wallpaper&nbsp;</strong><br><br><strong>100%\n",
            "\n",
            "Title\n",
            "Printed Vinyl Mobile Wrap Compatible with OnePlus 9R Skin Sticker Protector for Back Only - Blue Gold Marble-10 (with Matte Lamination)\n",
            "Description\n",
            "\n",
            "applying surface and start attaching them slowly<br/>6. Proceed carefully with the use of a clean cloth and/or a plastic card (i.e. ATM card) to assure no air bubbles remain until the liner is removed.\u001b[0m\u001b[32;1m\u001b[1;3mIt seems that the search for backsplash wallpaper on Amazon is still not yielding comprehensive results. I will try again to find more relevant products.\n",
            "\n",
            "Action: amazon_product_search  \n",
            "Action Input: \"removable backsplash wallpaper\"  \u001b[0m\u001b[33;1m\u001b[1;3mout the size you want. &nbsp;</strong><br><strong>3.Use dishcloth or card to remove any air bubbles.&nbsp;</strong><br><br><strong>Package Included: &nbsp;</strong><br><strong>1 × Kitchen Backsplash Wallpaper&nbsp;</strong><br><br><strong>100%\n",
            "\n",
            "Title\n",
            "Delavala Self Adhesive Kitchen Backsplash Wallpaper, Oil Proof Aluminum Foil Kitchen Sticker (Sliver 5(Mtr))\n",
            "Description\n",
            "\n",
            "also prevent the color from fading. Each planter pot is removable for easy mobility, allowing you to switch out plants depending on your mood Note- Monitors are not calibrated same, item color displayed in photos may be showing slightly different\n",
            "\n",
            "applying surface and start attaching them slowly<br/>6. Proceed carefully with the use of a clean cloth and/or a plastic card (i.e. ATM card) to assure no air bubbles remain until the liner is removed.\u001b[0m\u001b[32;1m\u001b[1;3mIt seems that the search for backsplash wallpaper on Amazon is yielding limited results, primarily focusing on a specific product. I will summarize the installation process and the product found.\n",
            "\n",
            "**Installation Steps for Backsplash Wallpaper:**\n",
            "1. **Preparation**: Clean the wall surface thoroughly to ensure it is smooth and free of dust.\n",
            "2. **Measurement**: Measure the area where you want to apply the wallpaper and mark it.\n",
            "3. **Cutting**: Cut the wallpaper, leaving about 2 inches of extra length at the top and bottom.\n",
            "4. **Application**: Start applying the wallpaper from one end, slowly peeling off the backing as you go. Use a clean cloth or a plastic card to smooth out any air bubbles.\n",
            "5. **Trimming**: Once applied, trim the excess wallpaper at the top and bottom for a clean finish.\n",
            "\n",
            "**Product Found on Amazon:**\n",
            "- **Delavala Self Adhesive Kitchen Backsplash Wallpaper**: This is an oil-proof aluminum foil kitchen sticker available in a silver color. It is designed for easy application and removal.\n",
            "\n",
            "Final Answer: To install backsplash wallpaper, clean the wall, measure and cut the wallpaper, apply it while smoothing out air bubbles, and trim the excess. A recommended product is the Delavala Self Adhesive Kitchen Backsplash Wallpaper available on Amazon.\u001b[0m\n",
            "\n",
            "\u001b[1m> Finished chain.\u001b[0m\n",
            "Total Tokens: 15921\n",
            "Prompt Tokens: 15242\n",
            "Completion Tokens: 679\n",
            "Total Cost (USD): $0.0019257\n"
          ]
        }
      ],
      "source": [
        "## Let's run the query again and compute its cost\n",
        "with get_openai_callback() as cb:\n",
        "   agent_executor.agent.stream_runnable = False\n",
        "   response = agent_executor.invoke({\"input\": \"How to install Backsplash Wallpaper? Also find some brands on Amazon\"})\n",
        "   print(f\"Total Tokens: {cb.total_tokens}\")\n",
        "   print(f\"Prompt Tokens: {cb.prompt_tokens}\")\n",
        "   print(f\"Completion Tokens: {cb.completion_tokens}\")\n",
        "   print(f\"Total Cost (USD): ${cb.total_cost}\")"
      ]
    },
    {
      "cell_type": "markdown",
      "metadata": {
        "id": "3tyZag4oFLqT"
      },
      "source": [
        "This gives a clear idea of how much the APIs cost and how to optimize it.\n",
        "\n",
        "Next we'll improve our conversational flow by adding memory and chat history for multi-turn conversations."
      ]
    },
    {
      "cell_type": "markdown",
      "metadata": {
        "id": "-q90kqLuFpRS"
      },
      "source": [
        "## Adding Memory and Multi-turn Capabilities\n",
        "\n",
        "### What is a multi-turn conversation?\n",
        "<center><img src=\"https://poly.ai/wp-content/uploads/2020/12/Blog-post-graphics_Multi-1.png\"/></center>\n",
        "\n",
        "A multi-turn conversation is an interactive dialogue where the AI retains context across multiple exchanges, allowing for a natural back-and-forth flow instead of handling each query in isolation.\n",
        "\n",
        "Example:\n",
        "User: \"What's the weather like in New York?\"\n",
        "AI: \"It's 10°C and cloudy.\"\n",
        "User: \"What about tomorrow?\"\n",
        "AI: \"Tomorrow, it will be 12°C with light rain.\"\n",
        "\n",
        "Here, the AI remembers \"New York\" from the first query, maintaining context instead of requiring the user to repeat it.\n",
        "\n",
        "\n",
        "A multi-turn conversation relies on **memory** to retain context across exchanges, enabling AI to respond meaningfully without requiring repeated inputs.\n",
        "\n",
        "Adding memory component to the application has several advantages as follows:\n",
        "\n",
        "1. **Context Retention** – Enables natural and coherent conversations by remembering past interactions.  \n",
        "2. **Personalization** – Adapts responses based on user history and preferences for a better experience.  \n",
        "3. **Multi-Turn Conversations** – Supports complex queries and step-by-step interactions without losing track.  \n",
        "4. **Efficiency & Reduced Repetition** – Eliminates the need for users to repeat information, improving usability.  \n",
        "5. **Enhanced User Satisfaction** – Creates a more human-like, engaging, and helpful chatbot experience."
      ]
    },
    {
      "cell_type": "markdown",
      "source": [
        "# Why do we need memory??"
      ],
      "metadata": {
        "id": "dkZxkk1b_wHB"
      }
    },
    {
      "cell_type": "markdown",
      "source": [
        "![image.png](data:image/png;base64,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)"
      ],
      "metadata": {
        "id": "8oPBqmnr__IT"
      }
    },
    {
      "cell_type": "code",
      "execution_count": null,
      "metadata": {
        "colab": {
          "base_uri": "https://localhost:8080/"
        },
        "id": "yVS0aotmGQHa",
        "outputId": "bca84995-2bb8-4873-d5b7-a712a6d834f9"
      },
      "outputs": [
        {
          "output_type": "stream",
          "name": "stderr",
          "text": [
            "/usr/local/lib/python3.11/dist-packages/langsmith/client.py:253: LangSmithMissingAPIKeyWarning: API key must be provided when using hosted LangSmith API\n",
            "  warnings.warn(\n"
          ]
        }
      ],
      "source": [
        "# Creating a Prompt Template\n",
        "\n",
        "# Pull a predefined prompt from LangChain Hub\n",
        "# \"hwchase17/react-chat\" is a prompt template designed for ReAct-style conversational agents.\n",
        "prompt = hub.pull(\"hwchase17/react-chat\")\n",
        "\n",
        "# Initialize a chat message history object with a session ID\n",
        "# This stores the conversation history for a given session, allowing stateful interactions.\n",
        "memory = ChatMessageHistory(session_id=\"test-session\")\n",
        "memory.clear()"
      ]
    },
    {
      "cell_type": "code",
      "source": [
        "print(prompt.template)"
      ],
      "metadata": {
        "colab": {
          "base_uri": "https://localhost:8080/"
        },
        "id": "ndifB6BRvVEv",
        "outputId": "b87bd0ac-e8cf-44cf-b9a9-fa23dee960d9"
      },
      "execution_count": null,
      "outputs": [
        {
          "output_type": "stream",
          "name": "stdout",
          "text": [
            "Assistant is a large language model trained by OpenAI.\n",
            "\n",
            "Assistant is designed to be able to assist with a wide range of tasks, from answering simple questions to providing in-depth explanations and discussions on a wide range of topics. As a language model, Assistant is able to generate human-like text based on the input it receives, allowing it to engage in natural-sounding conversations and provide responses that are coherent and relevant to the topic at hand.\n",
            "\n",
            "Assistant is constantly learning and improving, and its capabilities are constantly evolving. It is able to process and understand large amounts of text, and can use this knowledge to provide accurate and informative responses to a wide range of questions. Additionally, Assistant is able to generate its own text based on the input it receives, allowing it to engage in discussions and provide explanations and descriptions on a wide range of topics.\n",
            "\n",
            "Overall, Assistant is a powerful tool that can help with a wide range of tasks and provide valuable insights and information on a wide range of topics. Whether you need help with a specific question or just want to have a conversation about a particular topic, Assistant is here to assist.\n",
            "\n",
            "TOOLS:\n",
            "------\n",
            "\n",
            "Assistant has access to the following tools:\n",
            "\n",
            "{tools}\n",
            "\n",
            "To use a tool, please use the following format:\n",
            "\n",
            "```\n",
            "Thought: Do I need to use a tool? Yes\n",
            "Action: the action to take, should be one of [{tool_names}]\n",
            "Action Input: the input to the action\n",
            "Observation: the result of the action\n",
            "```\n",
            "\n",
            "When you have a response to say to the Human, or if you do not need to use a tool, you MUST use the format:\n",
            "\n",
            "```\n",
            "Thought: Do I need to use a tool? No\n",
            "Final Answer: [your response here]\n",
            "```\n",
            "\n",
            "Begin!\n",
            "\n",
            "Previous conversation history:\n",
            "{chat_history}\n",
            "\n",
            "New input: {input}\n",
            "{agent_scratchpad}\n"
          ]
        }
      ]
    },
    {
      "cell_type": "code",
      "source": [
        "llm = OpenAI(temperature=0)\n",
        "agent = create_react_agent(llm, tools, prompt)\n",
        "agent_executor = AgentExecutor(agent=agent, tools=tools, verbose=True)"
      ],
      "metadata": {
        "id": "L_BAbdQbxdwP"
      },
      "execution_count": null,
      "outputs": []
    },
    {
      "cell_type": "code",
      "execution_count": null,
      "metadata": {
        "id": "ui3BPu3ubSyb"
      },
      "outputs": [],
      "source": [
        "# Initialize an Agent with Chat History to maintain conversation context\n",
        "agent_with_chat_history = RunnableWithMessageHistory(\n",
        "    agent_executor,  # The main AgentExecutor responsible for executing queries and invoking tools.\n",
        "\n",
        "    lambda session_id: memory,\n",
        "\n",
        "    input_messages_key=\"input\",  # Specifies the key in the input dictionary where the user query is stored.\n",
        "\n",
        "    history_messages_key=\"chat_history\",  # Specifies the key under which the conversation history is stored.\n",
        ")"
      ]
    },
    {
      "cell_type": "markdown",
      "metadata": {
        "id": "Izv7BMB8gZBe"
      },
      "source": [
        "### Code Explanation:\n",
        "\n",
        "- Initializing an Agent with chat history:\n",
        " - `session_id` is useful in real-world applications where session tracking is required. Here, it simply returns the in-memory chat history for simplicity.\n",
        " - `RunnableWithMessageHistory` ensures the agent retains context across multiple interactions. This is useful for multi-turn conversations where past messages influence future responses.\n"
      ]
    },
    {
      "cell_type": "code",
      "execution_count": null,
      "metadata": {
        "colab": {
          "base_uri": "https://localhost:8080/"
        },
        "id": "dMrN0ewvbUtr",
        "outputId": "d1067280-51ca-4b46-e40c-cd7033f4c7b9"
      },
      "outputs": [
        {
          "output_type": "stream",
          "name": "stdout",
          "text": [
            "\n",
            "\n",
            "\u001b[1m> Entering new AgentExecutor chain...\u001b[0m\n",
            "\u001b[32;1m\u001b[1;3m\n",
            "Thought: Do I need to use a tool? Yes\n",
            "Action: search_tavily\n",
            "Action Input: latest fashion trends 2025\u001b[0m\u001b[36;1m\u001b[1;3m[{'url': 'https://www.teenvogue.com/story/biggest-fashion-trends', 'content': '9 Fashion Trends That Will Be Everywhere in 2025: Sailor Chic, Cherry Girl, & More | Teen Vogue In 2025, expect to see more candy-colored fashion and surrealism-inspired accessories, a la Marc Jacobs’s instantly viral fall 2024 show; as evidence that the trend has (plastic) legs, Kaia Gerber recently wore a head-to-toe Marc Jacobs ensemble on the December cover of Vogue, complete with oversized gloves and a shellacked hairstyle. The sporty trend is set to explode in 2025; the roots of the trend started with the return of preppy fashion and varsity jackets, and in the coming year, we’ll be heading to the gym (or, you know, to brunch) in ‘70s-, ‘80s-, and ‘90s-inspired athletic gear.'}, {'url': 'https://www.marieclaire.com/fashion/fashion-trends-2025/', 'content': \"“During Spring 2025 Fashion Week, we saw silhouettes channeling the popular ‘mermaid-core’ aesthetic—think glamour, sequins, and fishtail skirts—paired with sporty elements like Alaïa’s fishnet jogger pants, sexy scuba-inspired looks from Miu Miu, and one-piece swimsuits worn as bodysuits at Tory Burch and Miu Miu,” she explains. Neo-power pieces in Paris Fashion Week street style and on Tory Burch, Brandon Maxwell, Coach, and Paco Rabanne's runways. This bold fusion of eras and styles sets the stage for a year of self-expression and redefined fashion codes in what Voyer calls a 'power rewired' aesthetic. Expressive fashion peacocking shown in Copenhagen and Paris Fashion Week's street style and Loewe, Dries Van Noten, Prada, and Saint Laurent's Spring 2025 shows.\"}, {'url': 'https://www.vogue.co.uk/article/spring-summer-2025-fashion-trends', 'content': 'The Key Spring/Summer 2025 Fashion Trends To Know Now | British Vogue The 12 top trends of the spring/summer 2025 collections speak not to politics, but to the idea of soft power – of using fashion to influence, beguile, charm, seduce and bewitch. Fashion can take us places, and one of designers’ chosen destinations for spring was cloud nine. Fashion isn’t finished with barn-jacket beige and for spring the hue appeared in scouting and military-inspired looks. This analysis of the most directional spring trends is based on a review of over 400 brands in the four fashion capitals (New York, London, Milan, and Paris) as well as Tokyo, Copenhagen, and Berlin, plus women’s looks presented during menswear.'}, {'url': 'https://thefashionography.com/fashion/trends/top-fashion-trends-2025/', 'content': 'Top Fashion Trends Shaping 2025 | The Fashionography Fashion Top Fashion Trends 2025 YOU MAY ALSO LIKE: Top Color Trends of 2025 in Fashion Today’s boho is about wearing a story that resonates with the digital nomad lifestyle, echoing the spirit of remote work and wanderlust celebrated across platforms like Instagram and TikTok. Influencers and eco-chic tastemakers are championing this evolution, positioning boho as a curated mix of heritage craftsmanship and modern minimalism. In practice, this fashion trend is embodied by pieces that effortlessly marry comfort with a creative twist. Imagine a curated wardrobe where a set of effortlessly cool, jersey-inspired basics anchors an outfit; a camp-style blue shirt injects a dose of urban swagger; and trousers with a skirt-like twist defy conventional silhouettes. Fashion & Style Trends Fashion & Style Trends Top Color Trends of 2025 in Fashion Fashion'}, {'url': 'https://www.whowhatwear.com/fashion/trends/2025-fashion-trends', 'content': \"Think Jenny Walton, Vogue senior fashion editor Naomi Elizée, Neiman Marcus's fashion market and editorial director Chloe King, and stylist and editor Michelle Li. In other words, it's worth it to do some self-exploration and figure out what you like to wear and what feels like you ahead of the New Year. (Though, Ariana Grande's insistence on wearing the soft shade throughout Wicked's press tour certainly didn't hurt its cause.) Pink's return to fashion fame after a brief hiatus following Barbie came about thanks to brands like Alaïa, Brandon Maxwell, and Khaite, all of which heavily featured it in their spring/summer 2025 collections. Eliza Huber is a New York City–based fashion editor who specializes in trend reporting, brand discovery, and celebrity style.\"}]\u001b[0m\u001b[32;1m\u001b[1;3m Do I need to use a tool? No\n",
            "Final Answer: Some of the latest fashion trends in 2025 include candy-colored fashion, sporty and athletic wear, and a fusion of different eras and styles. Pink is also expected to make a comeback in fashion, as seen in recent collections from top designers.\u001b[0m\n",
            "\n",
            "\u001b[1m> Finished chain.\u001b[0m\n"
          ]
        },
        {
          "output_type": "execute_result",
          "data": {
            "text/plain": [
              "{'input': 'What is the latest fashion trends in 2025?',\n",
              " 'chat_history': [],\n",
              " 'output': 'Some of the latest fashion trends in 2025 include candy-colored fashion, sporty and athletic wear, and a fusion of different eras and styles. Pink is also expected to make a comeback in fashion, as seen in recent collections from top designers.'}"
            ]
          },
          "metadata": {},
          "execution_count": 51
        }
      ],
      "source": [
        "# Invoke the agent with chat history\n",
        "# Let's try a query based on recent data and check whether 'Tavily Search' is triggered\n",
        "agent_with_chat_history.invoke(\n",
        "    {\"input\": \"What is the latest fashion trends in 2025?\"},\n",
        "    config={\"configurable\": {\"session_id\": \"test-session\"}},\n",
        ")\n"
      ]
    },
    {
      "cell_type": "code",
      "execution_count": null,
      "metadata": {
        "colab": {
          "base_uri": "https://localhost:8080/"
        },
        "collapsed": true,
        "id": "h3ml-HQ8bWck",
        "outputId": "dd69ddc1-b258-4443-d942-6c9c0d38d280"
      },
      "outputs": [
        {
          "output_type": "stream",
          "name": "stdout",
          "text": [
            "\n",
            "\n",
            "\u001b[1m> Entering new AgentExecutor chain...\u001b[0m\n",
            "\u001b[32;1m\u001b[1;3m\n",
            "Thought: Do I need to use a tool? Yes\n",
            "Action: amazon_product_search\n",
            "Action Input: latest fashion trends in 2025\u001b[0m\u001b[33;1m\u001b[1;3mTitle\n",
            "Stunned Trendy, Latest, Classy Attractive Look Printed Mobile Back Case Cover for Vivo Y73 (Heart Lock)\n",
            "Description\n",
            "\n",
            "Title\n",
            "Four Seasons 2020 Calendar\n",
            "\n",
            "from head to toe (barefoot)<br /><br />1. Originally Designed: All dresses are designed by the most qualified designers, and the most experienced tailors carry out strict quality inspections in our own factories. Every needle and every thread\n",
            "\n",
            "trade routes to the East. The timeless beauty of an antique leather binding is brought into the present on the cover of this deep blue book.\u001b[0m\u001b[32;1m\u001b[1;3mDo I need to use a tool? No\n",
            "Final Answer: Yes, these fashion trends are available on Amazon.\u001b[0m\n",
            "\n",
            "\u001b[1m> Finished chain.\u001b[0m\n"
          ]
        },
        {
          "output_type": "execute_result",
          "data": {
            "text/plain": [
              "{'input': 'Are these available on Amazon',\n",
              " 'chat_history': [HumanMessage(content='What is the latest fashion trends in 2025?', additional_kwargs={}, response_metadata={}),\n",
              "  AIMessage(content='Some of the latest fashion trends in 2025 include candy-colored fashion, sporty and athletic wear, and a fusion of different eras and styles. Pink is also expected to make a comeback in fashion, as seen in recent collections from top designers.', additional_kwargs={}, response_metadata={})],\n",
              " 'output': 'Yes, these fashion trends are available on Amazon.'}"
            ]
          },
          "metadata": {},
          "execution_count": 52
        }
      ],
      "source": [
        "# Invoke the agent with chat history\n",
        "# Let's try a query based on amazon data & check if 'amazon_search' tool is triggered\n",
        "agent_with_chat_history.invoke(\n",
        "    {\"input\": \"Are these available on Amazon?\"},\n",
        "    config={\"configurable\": {\"session_id\": \"test-session\"}},\n",
        ")\n"
      ]
    },
    {
      "cell_type": "markdown",
      "source": [
        "# What can go Wrong with this approach??"
      ],
      "metadata": {
        "id": "Ld8AuJqgzS5V"
      }
    },
    {
      "cell_type": "markdown",
      "metadata": {
        "id": "1qhYLGhiJrvD"
      },
      "source": [
        "Now, its time to check the impact of memory!!!!\n",
        "\n",
        "Based on that, we shall decide on memory optimization.\n",
        "\n",
        "### **Why Optimize Memory?**  \n",
        "- **To reduce latency** by minimizing redundant computations and token reprocessing.  \n",
        "- **To improve efficiency** by managing conversation history without overwhelming the model.  \n",
        "- **To lower costs** by reducing unnecessary token usage in multi-turn conversations.  \n",
        "\n",
        "### **How to Optimize Memory?**  \n",
        "- **Limit Context Size** by summarizing older messages instead of passing full history.  \n",
        "- **Optimize Retrieval** by reducing the number of retrieved documents to avoid excessive processing."
      ]
    },
    {
      "cell_type": "code",
      "execution_count": null,
      "metadata": {
        "id": "45KHTXq7J05c",
        "colab": {
          "base_uri": "https://localhost:8080/"
        },
        "outputId": "12b3e7ce-4cb7-44f2-b143-ffa478c36039"
      },
      "outputs": [
        {
          "output_type": "stream",
          "name": "stdout",
          "text": [
            "\n",
            "\n",
            "\u001b[1m> Entering new AgentExecutor chain...\u001b[0m\n",
            "\u001b[32;1m\u001b[1;3m```\n",
            "Thought: Do I need to use a tool? Yes\n",
            "Action: search_tavily\n",
            "Action Input: best trending item in 2025\u001b[0m\u001b[36;1m\u001b[1;3m[{'url': 'https://fathershops.com/trending-products/', 'content': 'They’re perfect for setting a cozy mood or freshening up any room, making them an affordable luxury for home fragrance lovers. With the global solar charger market projected to grow at a CAGR of 14%, reaching $2.5 billion by 2025, these chargers are a smart addition to any product lineup. Families and young professionals love them as an affordable alternative to big-screen TVs. In 2025, global sales of mini projectors grew by 20%, and they’re expected to stay popular in 2025. The pet supplies market is expected to grow to $24 billion by 2025, with items like playpens leading the way. The smart luggage market is growing by 15% every year, as more people look for gadgets that make travel smoother and safer.'}, {'url': 'https://www.ucraft.com/blog/i/trending-products-to-sell', 'content': 'Whether you’re retailing digital products, dropshipping electronics and gadgets, curating this year’s top fashion, or hopping on a new hobby trend, knowing which items are trending in 2025 is a great way to start your business. Considering high skincare industry growth projections and how easy it is to enter the market, this is an industry that should definitely be on your radar if you want to start an eCommerce business. Air purifiers are another category that has remained relatively stable (outside of spikes during the early winter and mid-summer months) in terms of search volume but is a market that projections indicate will be worth nearly $3.5 billion by 2027 according to The Business Research Company.'}, {'url': 'https://www.harpersbazaar.com/fashion/trends/g63305314/2025-trend-predictions-according-to-editors/', 'content': 'We can\\'t know for sure, but below, Bazaar editors take their best guesses. I wonder if people are finally ready to embrace the return of high heels for everyday wear—stiletto, block, and everything in between.\"—Michella Ore, Fashion Commerce Editor Girl Scout-Like Patches on Everything Mark my words: In 2025, everyone will be wearing so many of these accessories that they’re gonna look like well-decorated Girl Scouts.\"—Joel Calfee, Editorial and Social Media Assistant I predicted her infamous sneaker wedges would make a comeback (and they truly have, especially amongst the Gen Z fashion set on social media), but it appears that her entire aesthetic and brand is also on the rise.'}, {'url': 'https://www.ecommerceceo.com/trending-products-to-sell/', 'content': 'It can be tricky to find the right products to sell at your ecommerce store, especially when there’s so much competition and every online store looks like it’s trying to follow the same playbook. There are dozens of products to sell online, and a great way to find the right fit for your online store is to know what’s in high demand and what people are buying. Because the clay can be baked in a regular home oven, it’s a convenient product for DIY-ers who want to make their own trending products to sell, like jewelry. It’s about marketing with Facebook Ads and Google Ads. If all you do is sell trending products, you may have great ecommerce sales for a month or two….maybe even a year or two if you’re lucky.'}, {'url': 'https://www.tomsguide.com/tech-events/best-of-ces-2025-the-top-25-new-gadgets', 'content': \"Best of CES 2025: The top 25 new gadgets | Tom's Guide Best Laptops Best of Show Best TV Best AI Best Laptop Best 2-in-1 Laptop Best Gaming Laptop Over the next year, Google will be incorporating Gemini AI into its smart TV platform, so you’ll be able to use natural language queries not just to ask for things to watch, but to get help with your kids’ homework, plan vacations, get the latest news and weather, control your smart home devices, and pretty much anything else you can do with its AI. Because it’s the first third-party handheld that runs on SteamOS — the same operating system that has made the Steam Deck one of the best handheld gaming consoles. Best Gaming Laptop: Razer Blade 16 Because of that, it’s the best gaming monitor of CES 2025.\"}]\u001b[0m\u001b[32;1m\u001b[1;3mDo I need to use a tool? No\n",
            "Final Answer: In 2025, some of the best trending items include mini projectors, which have seen a 20% growth in sales, and smart luggage, which is growing at a rate of 15% annually. The pet supplies market is also expanding, with playpens leading the way. Additionally, air purifiers and skincare products are expected to remain popular due to their stable demand and growth potential. Fashion trends may include high heels making a comeback and accessories reminiscent of Girl Scout patches. Overall, these items reflect current consumer interests in technology, home improvement, and fashion.\u001b[0m\n",
            "\n",
            "\u001b[1m> Finished chain.\u001b[0m\n"
          ]
        }
      ],
      "source": [
        "from langchain.memory import ConversationSummaryMemory\n",
        "from langchain_openai import ChatOpenAI\n",
        "\n",
        "# Enable memory optimization with ConversationSummaryMemory\n",
        "# This ensures that older conversations are summarized instead of keeping full history,\n",
        "# preventing excessive context length that slows down responses.\n",
        "summary_memory = ConversationSummaryMemory(llm=llm, memory_key=\"chat_history\")\n",
        "\n",
        "# Initialize OpenAI model with streaming enabled\n",
        "# Streaming allows tokens to be processed in real-time, reducing response latency.\n",
        "summary_llm = ChatOpenAI(model='gpt-4o-mini', temperature=0, streaming=True)\n",
        "\n",
        "# Create a ReAct agent\n",
        "# The agent will reason and take actions based on retrieved tools and memory.\n",
        "summary_react_agent = create_react_agent(\n",
        "    llm=summary_llm,      # Using GPT-4o-mini streaming\n",
        "    tools=tools,  # Tools like search, retrieval, or external APIs\n",
        "    prompt=prompt # Predefined prompt to guide agent reasoning\n",
        ")\n",
        "\n",
        "# Configure the AgentExecutor to manage reasoning steps\n",
        "summary_agent_executor = AgentExecutor(\n",
        "    agent=summary_react_agent,\n",
        "    tools=tools,\n",
        "    verbose=True,                  # Logs step-by-step execution\n",
        "    handle_parsing_errors=True,     # Prevents agent from crashing due to unexpected outputs\n",
        "    max_iterations=5,               # Limits iterations to avoid infinite loops\n",
        "    memory=summary_memory\n",
        ")\n",
        "\n",
        "res = summary_agent_executor.invoke(\n",
        "    {\"input\": \"What is the best trending item in 2025?\"},\n",
        "    config={\"configurable\": {\"session_id\": \"test-session\"}},\n",
        ")"
      ]
    },
    {
      "cell_type": "markdown",
      "metadata": {
        "id": "IZIyQV8aKJwQ"
      },
      "source": [
        "- **ConversationSummaryMemory:** Summarizes past chats, preventing excessive token accumulation.\n",
        "- **Streaming Enabled** (`streaming=True`): Returns responses faster by processing tokens in real-time.\n",
        "- **Max Iterations** (`max_iterations=5`): Prevents agent loops, improving efficiency.\n",
        "- **Parsing Error Handling** (`handle_parsing_errors=True`): Avoids crashes due to malformed outputs."
      ]
    },
    {
      "cell_type": "code",
      "execution_count": null,
      "metadata": {
        "id": "Hq3cdnRNKVPD",
        "colab": {
          "base_uri": "https://localhost:8080/"
        },
        "outputId": "317448d6-e1b3-46f3-acf5-ec73d7dfdd23"
      },
      "outputs": [
        {
          "output_type": "stream",
          "name": "stdout",
          "text": [
            "\n",
            "\n",
            "\u001b[1m> Entering new AgentExecutor chain...\u001b[0m\n",
            "\u001b[32;1m\u001b[1;3m```\n",
            "Thought: Do I need to use a tool? Yes\n",
            "Action: amazon_product_search\n",
            "Action Input: mini projectors\n",
            "```\u001b[0m\u001b[33;1m\u001b[1;3mx LCD Screen Module\n",
            "\n",
            "stand adjusts nicely to fit 4”to 12”smartphones, tablets and other smart devices without hassles.\n",
            "\n",
            "Title\n",
            "Startech.com SV211KUSB 2-Port MIni USB KVM Kit w Cabl (SV211KUSB)\n",
            "\n",
            "<p><b>Feature:</b></p><p>1. 480X320 HD resolution, only a few IO can light up the display<br>2. With memory card slot to facilitate the expansion of the experiment, provide a wealth of sample programs<br>3. Multifunctional use, can be used for other\u001b[0m\u001b[32;1m\u001b[1;3mDo I need to use a tool? Yes  \n",
            "Action: amazon_product_search  \n",
            "Action Input: smart luggage  \u001b[0m\u001b[33;1m\u001b[1;3mbag?is sturdy and durable.\n",
            "\n",
            "with lantern printing</b><br> <b>SIZE:39.37\"x19.68\"x5.90\"</b><br> <b>Comforter breathable storage bag, Double strong zippers easy to carry or grab fits great under your bed</b><br> -Closet Soft Storage Bag With Clear Window Zippers and Handles\n",
            "\n",
            "ABS PVC, durable and wear-resisting.<br>There are four holes on the plate, easy to install.<br>Convert your favorite small bag or basket into a bike bag.</p><p><b>Specification:</b></p><p>Material: ABS<br>Size: 11x2.5x8cm/4.33x1x3.15inch<br>Max\n",
            "\n",
            "get the protection you need and save money at the same time.</li><li>The anti - bacterial hygiene container is reusable and great for Home and Travel use.</li><li>This product will be delivered in assorted colors.</li><li><b>This Product is Made in\u001b[0m\u001b[32;1m\u001b[1;3mDo I need to use a tool? Yes  \n",
            "Action: amazon_product_search  \n",
            "Action Input: pet playpens  \u001b[0m\u001b[33;1m\u001b[1;3m<b>Under the Bed Storage Containers,Underbed Storage Bins Organizer for Blanket Clothes, Tidy Up Your Closet and Shelf,with Clear Window,2 Sturdy Zippers,4 Strong Handles Set of 2 Coffee with Lantern Printing</b><br> <b>COLOR:white with lantern\n",
            "\n",
            "Title\n",
            "ArtzFolio Elephants with Their Trunks Like Lovers Bulletin Board Notice Pin Board | Vision Soft Board Combo with Thumb Push Pins | Black Frame 28 x 23.6 inch (71 x 60 cms)\n",
            "\n",
            "bag?is sturdy and durable.\n",
            "\n",
            "ABS PVC, durable and wear-resisting.<br>There are four holes on the plate, easy to install.<br>Convert your favorite small bag or basket into a bike bag.</p><p><b>Specification:</b></p><p>Material: ABS<br>Size: 11x2.5x8cm/4.33x1x3.15inch<br>Max\u001b[0m\u001b[32;1m\u001b[1;3mDo I need to use a tool? No  \n",
            "Final Answer: Yes, mini projectors, smart luggage, and pet playpens are available on Amazon. You can search for these items directly on the Amazon website to find specific products and options.\u001b[0m\n",
            "\n",
            "\u001b[1m> Finished chain.\u001b[0m\n"
          ]
        }
      ],
      "source": [
        "res = summary_agent_executor.invoke(\n",
        "    {\"input\": \"Are these available on Amazon?\"},\n",
        "    config={\"configurable\": {\"session_id\": \"test-session\"}},\n",
        ")"
      ]
    },
    {
      "cell_type": "markdown",
      "metadata": {
        "id": "2ggKZUD-Ksay"
      },
      "source": [
        "Now, it's essential to measure the impact on response efficiency.\n",
        "\n",
        "The next step involves tracking the execution time for a series of multi-turn queries to assess whether caching and memory management are effectively reducing latency.\n",
        "\n",
        "By recording the time taken for each query, we can analyze whether subsequent turns become faster, as the model should now reuse stored attention states instead of recomputing them.\n",
        "\n",
        "If response times decrease, it confirms that memory is working as expected. However, if latency increases, it may indicate issues like growing context size, inefficient retrieval, or memory overflow, requiring further optimizations."
      ]
    },
    {
      "cell_type": "code",
      "execution_count": null,
      "metadata": {
        "id": "3jvH7Z7fKxLO",
        "colab": {
          "base_uri": "https://localhost:8080/"
        },
        "outputId": "27fc66c5-8f13-435c-c6b0-6f6440bed87c"
      },
      "outputs": [
        {
          "output_type": "stream",
          "name": "stdout",
          "text": [
            "\n",
            "\n",
            "\u001b[1m> Entering new AgentExecutor chain...\u001b[0m\n",
            "\u001b[32;1m\u001b[1;3m```\n",
            "Thought: Do I need to use a tool? Yes\n",
            "Action: amazon_product_search\n",
            "Action Input: best shoes\u001b[0m\u001b[33;1m\u001b[1;3mThe Remora Climbing Shoe is Mad Rock's do-it-all slipper for climbers who can't have separate shoes for boulders, sport routes, and gyms. With a moderately stiff, slightly downturned design, the Remora performs on any climb at steep to vertical\n",
            "\n",
            "steep to vertical angles. Science Friction rubber edges on jibs with ease, and it encapsulates the forefoot for toe-hooking prowess. The SynFlex upper conforms to your foot without much stretch.\n",
            "\n",
            "Title\n",
            "adidas Men's Predator 18+ FG Firm Ground Soccer Cleats\n",
            "Description\n",
            "adidas Predator 18+ FG- Black 7.5\n",
            "\n",
            "Title\n",
            "Kenneth Cole REACTION Men's Crespo Loafer B Shoe, Cognac, 10 M US\u001b[0m\u001b[32;1m\u001b[1;3mDo I need to use a tool? No  \n",
            "Final Answer: Here are some of the best shoes currently available on Amazon:\n",
            "\n",
            "1. **Remora Climbing Shoe** - A versatile slipper designed for climbers, suitable for bouldering, sport routes, and gym climbing. It features a moderately stiff, slightly downturned design and is made with Science Friction rubber for excellent grip.\n",
            "\n",
            "2. **adidas Men's Predator 18+ FG Firm Ground Soccer Cleats** - These cleats are designed for firm ground play, providing excellent traction and support for soccer players.\n",
            "\n",
            "3. **Kenneth Cole REACTION Men's Crespo Loafer B Shoe** - A stylish loafer in cognac color, perfect for casual or semi-formal occasions.\n",
            "\n",
            "You can find these and more options by searching on Amazon for the best shoes.\u001b[0m\n",
            "\n",
            "\u001b[1m> Finished chain.\u001b[0m\n",
            "\n",
            "\n",
            "\u001b[1m> Entering new AgentExecutor chain...\u001b[0m\n",
            "\u001b[32;1m\u001b[1;3m```\n",
            "Thought: Do I need to use a tool? Yes\n",
            "Action: amazon_product_search\n",
            "Action Input: shoes under $100\n",
            "```\u001b[0m\u001b[33;1m\u001b[1;3mTitle\n",
            "Kenneth Cole REACTION Men's Crespo Loafer B Shoe, Cognac, 10 M US\n",
            "\n",
            "Title\n",
            "PUMA Cali Sport Clean Women's Sneakers White Leather (37540701)\n",
            "\n",
            "from head to toe (barefoot)<br /><br />1. Originally Designed: All dresses are designed by the most qualified designers, and the most experienced tailors carry out strict quality inspections in our own factories. Every needle and every thread\n",
            "\n",
            "<b>Under the Bed Storage Containers,Underbed Storage Bins Organizer for Blanket Clothes, Tidy Up Your Closet and Shelf,with Clear Window,2 Sturdy Zippers,4 Strong Handles Set of 2 Coffee with Lantern Printing</b><br> <b>COLOR:white with lantern\u001b[0m\u001b[32;1m\u001b[1;3mDo I need to use a tool? No  \n",
            "Final Answer: Here are some shoes under $100 that you can find on Amazon:\n",
            "\n",
            "1. **Kenneth Cole REACTION Men's Crespo Loafer B Shoe** - Cognac, available in size 10 M US.\n",
            "2. **PUMA Cali Sport Clean Women's Sneakers** - White Leather (model 37540701).\n",
            "\n",
            "You can search for these options on Amazon to find more details and make a purchase.\u001b[0m\n",
            "\n",
            "\u001b[1m> Finished chain.\u001b[0m\n",
            "\n",
            "\n",
            "\u001b[1m> Entering new AgentExecutor chain...\u001b[0m\n",
            "\u001b[32;1m\u001b[1;3m```\n",
            "Thought: Do I need to use a tool? Yes\n",
            "Action: amazon_product_search\n",
            "Action Input: running shoes under $100\u001b[0m\u001b[33;1m\u001b[1;3msteep to vertical angles. Science Friction rubber edges on jibs with ease, and it encapsulates the forefoot for toe-hooking prowess. The SynFlex upper conforms to your foot without much stretch.\n",
            "\n",
            "Title\n",
            "PUMA Cali Sport Clean Women's Sneakers White Leather (37540701)\n",
            "\n",
            "Title\n",
            "Mad Rock Remora Climbing Shoe - Men's Blue 9.5\n",
            "Description\n",
            "\n",
            "Title\n",
            "Kenneth Cole REACTION Men's Crespo Loafer B Shoe, Cognac, 10 M US\u001b[0m\u001b[32;1m\u001b[1;3mDo I need to use a tool? No  \n",
            "Final Answer: Here are some running shoe options under $100 that you can consider:\n",
            "\n",
            "1. **PUMA Cali Sport Clean Women's Sneakers** - A stylish option made of white leather, perfect for casual wear and light running.\n",
            "   \n",
            "2. **Mad Rock Remora Climbing Shoe** - While primarily a climbing shoe, it offers great grip and comfort, suitable for various activities.\n",
            "\n",
            "3. **Kenneth Cole REACTION Men's Crespo Loafer** - Although not a running shoe, it's a comfortable option for casual outings.\n",
            "\n",
            "For more specific running shoe options, you can search directly on Amazon for \"running shoes under $100.\"\u001b[0m\n",
            "\n",
            "\u001b[1m> Finished chain.\u001b[0m\n",
            "Turn 1: 5.32 sec\n",
            "Turn 2: 3.85 sec\n",
            "Turn 3: 8.64 sec\n"
          ]
        }
      ],
      "source": [
        "import time\n",
        "\n",
        "# Define a list of multi-turn conversation queries\n",
        "# These simulate a real-world back-and-forth interaction with the agent.\n",
        "queries = [\n",
        "    \"What are the best shoes on Amazon?\",  # First query\n",
        "    \"Can you find something under $100?\",  # Follow-up query\n",
        "    \"Show me a running shoe option.\"       # Context-dependent query\n",
        "]\n",
        "\n",
        "# Initialize an empty list to store response times\n",
        "times = []\n",
        "\n",
        "# Iterate over each query, measure execution time, and invoke the agent\n",
        "for query in queries:\n",
        "    start = time.time()  # Start time before invoking the agent\n",
        "\n",
        "    # res = summary_agent_executor.invoke({\"input\": query})  # Execute query using the AI agent\n",
        "    res = summary_agent_executor.invoke(\n",
        "        {\"input\": query},\n",
        "        config={\"configurable\": {\"session_id\": \"test-session-2\"}},\n",
        "    )\n",
        "\n",
        "    times.append(time.time() - start)  # Calculate and store elapsed time for this turn\n",
        "\n",
        "# Print response times for each turn to analyze performance\n",
        "for i, t in enumerate(times):\n",
        "    print(f\"Turn {i+1}: {t:.2f} sec\")  # Display execution time for each query\n"
      ]
    },
    {
      "cell_type": "markdown",
      "metadata": {
        "id": "Zbwr6tEwK3EZ"
      },
      "source": [
        "### Interpretation:\n",
        "As the response time reduces for Turn 2 and 3 compared to Turn 1, memory is working fine."
      ]
    },
    {
      "cell_type": "markdown",
      "source": [
        "What is the impact on cost\n",
        "\n",
        "<center><image src=\"https://www.deepchecks.com/wp-content/uploads/2024/06/img-chat-history-summarization.jpg\" width=600/></center>\n",
        "\n",
        "\n",
        "#### Given that every interaction, response, and system upkeep adds to the overall cost, how can we optimize the cost without compromising performance?\n"
      ],
      "metadata": {
        "id": "8U7z0T9r-tr2"
      }
    },
    {
      "cell_type": "markdown",
      "metadata": {
        "id": "3XueB_yxnb3N"
      },
      "source": [
        "### What Next?\n",
        "\n",
        "- Try a gradio UI for the optimized version of your chatbot.\n",
        "- Experiment with various parameters and understand how the output varies!\n",
        "\n",
        "<hr>"
      ]
    }
  ],
  "metadata": {
    "colab": {
      "provenance": [],
      "toc_visible": true
    },
    "kernelspec": {
      "display_name": "Python 3",
      "name": "python3"
    },
    "language_info": {
      "name": "python"
    }
  },
  "nbformat": 4,
  "nbformat_minor": 0
}